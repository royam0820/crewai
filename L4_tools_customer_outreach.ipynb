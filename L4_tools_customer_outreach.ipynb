{
  "cells": [
    {
      "cell_type": "markdown",
      "metadata": {
        "id": "view-in-github",
        "colab_type": "text"
      },
      "source": [
        "<a href=\"https://colab.research.google.com/github/royam0820/crewai/blob/main/L4_tools_customer_outreach.ipynb\" target=\"_parent\"><img src=\"https://colab.research.google.com/assets/colab-badge.svg\" alt=\"Open In Colab\"/></a>"
      ]
    },
    {
      "cell_type": "markdown",
      "metadata": {
        "id": "FbWoGOis4KoG"
      },
      "source": [
        "# Tools for a Customer Outreach Campaign\n",
        "\n",
        "This Jupyter notebook outlines a **customer outreach campaign using AI agents**. It leverages the crewai library to create and manage AI **agents responsible for identifying and nurturing high-value leads through personalized communications**.\n",
        "\n",
        "The workflow involves:\n",
        "- profiling potential leads and\n",
        "- crafting targeted outreach campaigns.\n",
        "\n",
        "\n",
        "In this lesson, you will learn more about Tools. You'll focus on three key elements of Tools:\n",
        "- Versatility\n",
        "- Fault Tolerance\n",
        "- Caching"
      ]
    },
    {
      "cell_type": "markdown",
      "source": [
        "## Library Installation"
      ],
      "metadata": {
        "id": "iOpkgTmgvnp0"
      }
    },
    {
      "cell_type": "code",
      "source": [
        "!pip install crewai==0.28.8\n",
        "!pip install crewai_tools==0.1.6\n",
        "!pip install langchain_community==0.0.29 # this is formatted as code\n",
        "!pip install utils"
      ],
      "metadata": {
        "id": "GtFqlq-UN6uJ"
      },
      "execution_count": null,
      "outputs": []
    },
    {
      "cell_type": "markdown",
      "source": [
        "## Warnings Suppression"
      ],
      "metadata": {
        "id": "wV-o9NVAvtTj"
      }
    },
    {
      "cell_type": "code",
      "execution_count": null,
      "metadata": {
        "height": 64,
        "id": "_LQ5_lop4KJq"
      },
      "outputs": [],
      "source": [
        "# Warning control\n",
        "import warnings\n",
        "warnings.filterwarnings('ignore')"
      ]
    },
    {
      "cell_type": "markdown",
      "metadata": {
        "id": "DxxY8YdZWrbH"
      },
      "source": [
        "- Import libraries, APIs and LLM\n",
        "- [Serper](https://serper.dev)"
      ]
    },
    {
      "cell_type": "markdown",
      "source": [
        "## Importing Required Classes"
      ],
      "metadata": {
        "id": "ETCB-9Ttv4lg"
      }
    },
    {
      "cell_type": "code",
      "source": [
        "from crewai import Agent, Task, Crew\n",
        "import os\n",
        "from google.colab import userdata"
      ],
      "metadata": {
        "id": "fx4h25rUv7_P"
      },
      "execution_count": null,
      "outputs": []
    },
    {
      "cell_type": "markdown",
      "source": [
        "## Setting API Keys and LLM"
      ],
      "metadata": {
        "id": "mfDWXizewCYG"
      }
    },
    {
      "cell_type": "code",
      "source": [
        "openai_api_key = userdata.get(\"OPENAI_API_KEY\")\n",
        "serper_api_key = userdata.get(\"SERPER_API_KEY\")\n",
        "os.environ[\"OPENAI_API_KEY\"] = openai_api_key\n",
        "os.environ[\"SERPER_API_KEY\"] = serper_api_key\n",
        "os.environ[\"OPENAI_MODEL_NAME\"] = 'gpt-4-turbo'"
      ],
      "metadata": {
        "id": "p708uS7MdUPF"
      },
      "execution_count": null,
      "outputs": []
    },
    {
      "cell_type": "markdown",
      "metadata": {
        "id": "60Dz80kCWrbJ"
      },
      "source": [
        "## Defining Agents"
      ]
    },
    {
      "cell_type": "markdown",
      "source": [
        "### Sales Representative\n",
        "The Sales Representative agent is responsible for identifying potential leads."
      ],
      "metadata": {
        "id": "1ajDV6blwP6k"
      }
    },
    {
      "cell_type": "code",
      "execution_count": null,
      "metadata": {
        "height": 319,
        "id": "i3E0kNdDWrbJ"
      },
      "outputs": [],
      "source": [
        "sales_rep_agent = Agent(\n",
        "    role=\"Sales Representative\",\n",
        "    goal=\"Identify high-value leads that match \"\n",
        "         \"our ideal customer profile\",\n",
        "    backstory=(\n",
        "        \"As a part of the dynamic sales team at CrewAI, \"\n",
        "        \"your mission is to scour \"\n",
        "        \"the digital landscape for potential leads. \"\n",
        "        \"Armed with cutting-edge tools \"\n",
        "        \"and a strategic mindset, you analyze data, \"\n",
        "        \"trends, and interactions to \"\n",
        "        \"unearth opportunities that others might overlook. \"\n",
        "        \"Your work is crucial in paving the way \"\n",
        "        \"for meaningful engagements and driving the company's growth.\"\n",
        "    ),\n",
        "    allow_delegation=False,\n",
        "    verbose=True\n",
        ")"
      ]
    },
    {
      "cell_type": "markdown",
      "source": [
        "### Lead Sales Representative\n",
        "\n",
        "The Lead Sales Representative agent nurtures leads through personalized communications."
      ],
      "metadata": {
        "id": "Wp7tUk4fwbv2"
      }
    },
    {
      "cell_type": "code",
      "execution_count": null,
      "metadata": {
        "height": 302,
        "id": "FIEGVHeLWrbK"
      },
      "outputs": [],
      "source": [
        "lead_sales_rep_agent = Agent(\n",
        "    role=\"Lead Sales Representative\",\n",
        "    goal=\"Nurture leads with personalized, compelling communications\",\n",
        "    backstory=(\n",
        "        \"Within the vibrant ecosystem of CrewAI's sales department, \"\n",
        "        \"you stand out as the bridge between potential clients \"\n",
        "        \"and the solutions they need.\"\n",
        "        \"By creating engaging, personalized messages, \"\n",
        "        \"you not only inform leads about our offerings \"\n",
        "        \"but also make them feel seen and heard.\"\n",
        "        \"Your role is pivotal in converting interest \"\n",
        "        \"into action, guiding leads through the journey \"\n",
        "        \"from curiosity to commitment.\"\n",
        "    ),\n",
        "    allow_delegation=False,\n",
        "    verbose=True\n",
        ")"
      ]
    },
    {
      "cell_type": "markdown",
      "metadata": {
        "id": "BQpouXWvWrbL"
      },
      "source": [
        "## Defining Tools\n"
      ]
    },
    {
      "cell_type": "code",
      "source": [
        "!pip install crewai_tools"
      ],
      "metadata": {
        "id": "xVYEsHD_ZV2i"
      },
      "execution_count": null,
      "outputs": []
    },
    {
      "cell_type": "code",
      "execution_count": null,
      "metadata": {
        "height": 64,
        "id": "sdE5oCZGWrbL"
      },
      "outputs": [],
      "source": [
        "from crewai_tools import DirectoryReadTool, \\\n",
        "                         FileReadTool, \\\n",
        "                         SerperDevTool"
      ]
    },
    {
      "cell_type": "code",
      "execution_count": null,
      "metadata": {
        "height": 64,
        "id": "mUE73kT-WrbM"
      },
      "outputs": [],
      "source": [
        "directory_read_tool = DirectoryReadTool(directory='./instructions')\n",
        "file_read_tool = FileReadTool()\n",
        "search_tool = SerperDevTool()"
      ]
    },
    {
      "cell_type": "markdown",
      "metadata": {
        "id": "uIu0cUbgWrbM"
      },
      "source": [
        "### Custom Tool\n",
        "- Create a custom tool using crewAi's [BaseTool](https://docs.crewai.com/core-concepts/Tools/#subclassing-basetool) class"
      ]
    },
    {
      "cell_type": "code",
      "execution_count": null,
      "metadata": {
        "height": 30,
        "id": "pVUGfcTjWrbN"
      },
      "outputs": [],
      "source": [
        "from crewai_tools import BaseTool"
      ]
    },
    {
      "cell_type": "markdown",
      "metadata": {
        "id": "UGAypcABWrbN"
      },
      "source": [
        "- Every Tool needs to have a `name` and a `description`.\n",
        "- For simplicity and classroom purposes, `SentimentAnalysisTool` will return `positive` for every text.\n",
        "- When running locally, you can customize the code with your logic in the `_run` function."
      ]
    },
    {
      "cell_type": "code",
      "execution_count": null,
      "metadata": {
        "height": 149,
        "id": "dc4PLhwaWrbN"
      },
      "outputs": [],
      "source": [
        "class SentimentAnalysisTool(BaseTool):\n",
        "    name: str =\"Sentiment Analysis Tool\"\n",
        "    description: str = (\"Analyzes the sentiment of text \"\n",
        "         \"to ensure positive and engaging communication.\")\n",
        "\n",
        "    def _run(self, text: str) -> str:\n",
        "        # Your custom code tool goes here\n",
        "        return \"positive\""
      ]
    },
    {
      "cell_type": "code",
      "execution_count": null,
      "metadata": {
        "height": 30,
        "id": "9GfXUEZ6WrbN"
      },
      "outputs": [],
      "source": [
        "sentiment_analysis_tool = SentimentAnalysisTool()"
      ]
    },
    {
      "cell_type": "markdown",
      "metadata": {
        "id": "VbLYCZwLWrbO"
      },
      "source": [
        "## Defining Tasks\n",
        "\n",
        "- The Lead Profiling Task is using crewAI Tools."
      ]
    },
    {
      "cell_type": "markdown",
      "source": [
        "### Lead Profiling Task\n",
        "\n",
        "This task involves the Sales Representative agent profiling potential leads.\n",
        "\n",
        "The Lead Profiling Task is using crewAI Tools."
      ],
      "metadata": {
        "id": "0X4T2gKqwvPA"
      }
    },
    {
      "cell_type": "code",
      "execution_count": null,
      "metadata": {
        "height": 455,
        "id": "sxsCfnA_WrbO"
      },
      "outputs": [],
      "source": [
        "lead_profiling_task = Task(\n",
        "    description=(\n",
        "        \"Conduct an in-depth analysis of {lead_name}, \"\n",
        "        \"a company in the {industry} sector \"\n",
        "        \"that recently showed interest in our solutions. \"\n",
        "        \"Utilize all available data sources \"\n",
        "        \"to compile a detailed profile, \"\n",
        "        \"focusing on key decision-makers, recent business \"\n",
        "        \"developments, and potential needs \"\n",
        "        \"that align with our offerings. \"\n",
        "        \"This task is crucial for tailoring \"\n",
        "        \"our engagement strategy effectively.\\n\"\n",
        "        \"Don't make assumptions and \"\n",
        "        \"only use information you absolutely sure about.\"\n",
        "    ),\n",
        "    expected_output=(\n",
        "        \"A comprehensive report on {lead_name}, \"\n",
        "        \"including company background, \"\n",
        "        \"key personnel, recent milestones, and identified needs. \"\n",
        "        \"Highlight potential areas where \"\n",
        "        \"our solutions can provide value, \"\n",
        "        \"and suggest personalized engagement strategies.\"\n",
        "    ),\n",
        "    tools=[directory_read_tool, file_read_tool, search_tool],\n",
        "    agent=sales_rep_agent,\n",
        ")"
      ]
    },
    {
      "cell_type": "markdown",
      "source": [
        "### Personalized Outreach Task\n",
        "\n",
        "This task involves the Lead Sales Representative agent crafting personalized outreach campaigns.\n",
        "\n",
        "The Personalized Outreach Task is using your custom Tool `SentimentAnalysisTool`, as well as crewAI's `SerperDevTool` (search_tool).\n"
      ],
      "metadata": {
        "id": "XiyHTR0Ew9FR"
      }
    },
    {
      "cell_type": "code",
      "execution_count": null,
      "metadata": {
        "height": 506,
        "id": "ekp5PerfWrbP"
      },
      "outputs": [],
      "source": [
        "personalized_outreach_task = Task(\n",
        "    description=(\n",
        "        \"Using the insights gathered from \"\n",
        "        \"the lead profiling report on {lead_name}, \"\n",
        "        \"craft a personalized outreach campaign \"\n",
        "        \"aimed at {key_decision_maker}, \"\n",
        "        \"the {position} of {lead_name}. \"\n",
        "        \"The campaign should address their recent {milestone} \"\n",
        "        \"and how our solutions can support their goals. \"\n",
        "        \"Your communication must resonate \"\n",
        "        \"with {lead_name}'s company culture and values, \"\n",
        "        \"demonstrating a deep understanding of \"\n",
        "        \"their business and needs.\\n\"\n",
        "        \"Don't make assumptions and only \"\n",
        "        \"use information you absolutely sure about.\"\n",
        "    ),\n",
        "    expected_output=(\n",
        "        \"A series of personalized email drafts \"\n",
        "        \"tailored to {lead_name}, \"\n",
        "        \"specifically targeting {key_decision_maker}.\"\n",
        "        \"Each draft should include \"\n",
        "        \"a compelling narrative that connects our solutions \"\n",
        "        \"with their recent achievements and future goals. \"\n",
        "        \"Ensure the tone is engaging, professional, \"\n",
        "        \"and aligned with {lead_name}'s corporate identity.\"\n",
        "    ),\n",
        "    tools=[sentiment_analysis_tool, search_tool],\n",
        "    agent=lead_sales_rep_agent,\n",
        ")"
      ]
    },
    {
      "cell_type": "markdown",
      "metadata": {
        "id": "ztRBwSwVWrbP"
      },
      "source": [
        "## Assembling the Crew and Executing the Workflow"
      ]
    },
    {
      "cell_type": "code",
      "execution_count": null,
      "metadata": {
        "height": 183,
        "id": "60aiFX3_WrbP"
      },
      "outputs": [],
      "source": [
        "crew = Crew(\n",
        "    agents=[sales_rep_agent,\n",
        "            lead_sales_rep_agent],\n",
        "\n",
        "    tasks=[lead_profiling_task,\n",
        "           personalized_outreach_task],\n",
        "\n",
        "    verbose=2,\n",
        "\tmemory=True\n",
        ")"
      ]
    },
    {
      "cell_type": "markdown",
      "metadata": {
        "id": "o5x-j-pkWrbP"
      },
      "source": [
        "## Inputs and Execution\n",
        "\n",
        "**Note**: LLMs can provide different outputs for they same input, so what you get might be different than what you see in the video."
      ]
    },
    {
      "cell_type": "code",
      "execution_count": null,
      "metadata": {
        "height": 166,
        "id": "hpvL4nEYWrbP",
        "colab": {
          "base_uri": "https://localhost:8080/"
        },
        "outputId": "0240fa90-b9ff-4c99-fef5-8e2cf9996faa"
      },
      "outputs": [
        {
          "output_type": "stream",
          "name": "stdout",
          "text": [
            "\u001b[1m\u001b[95m [DEBUG]: == Working Agent: Sales Representative\u001b[00m\n",
            "\u001b[1m\u001b[95m [INFO]: == Starting Task: Conduct an in-depth analysis of DeepLearningAI, a company in the Online Learning Platform sector that recently showed interest in our solutions. Utilize all available data sources to compile a detailed profile, focusing on key decision-makers, recent business developments, and potential needs that align with our offerings. This task is crucial for tailoring our engagement strategy effectively.\n",
            "Don't make assumptions and only use information you absolutely sure about.\u001b[00m\n",
            "\n",
            "\n",
            "\u001b[1m> Entering new CrewAgentExecutor chain...\u001b[0m\n",
            "\u001b[32;1m\u001b[1;3mThought: To begin compiling a detailed profile on DeepLearningAI, I should start by searching the internet to gather preliminary information about the company, its key decision-makers, recent developments, and its potential needs.\n",
            "\n",
            "Action: Search the internet\n",
            "Action Input: {\"search_query\": \"DeepLearningAI company profile\"}\u001b[0m\u001b[95m \n",
            "\n",
            "\n",
            "Search results: Title: Deeplearning.ai - Crunchbase Company Profile & Funding\n",
            "Link: https://www.crunchbase.com/organization/deeplearning-ai\n",
            "Snippet: Deeplearning.ai is company that explores the frontier of AI. The company is founded by Andrew Ng, the former Chief Scientist of Baidu and the current Chairman ...\n",
            "---\n",
            "Title: DeepLearning.AI - LinkedIn\n",
            "Link: https://www.linkedin.com/company/deeplearningai\n",
            "Snippet: DeepLearning.AI is making a world-class AI education accessible to people around the globe. DeepLearning.AI was founded by Andrew Ng, a global leader in AI.\n",
            "---\n",
            "Title: DEEPLEARNING.AI LLC Company Profile | Palo Alto, CA\n",
            "Link: https://www.dnb.com/business-directory/company-profiles.deeplearningai_llc.7cb525da4ad45b067062d87d5fbcad0b.html\n",
            "Snippet: Find company research, competitor information, contact details & financial data for DEEPLEARNING.AI LLC of Palo Alto, CA. Get the latest business insights ...\n",
            "---\n",
            "Title: Deeplearning.ai company information, funding & investors\n",
            "Link: https://app.dealroom.co/companies/deeplearning_ai\n",
            "Snippet: Deeplearning.ai, deeplearningai is company that explores the frontier of ai. Here you'll find information about their funding, investors and team.\n",
            "---\n",
            "Title: DeepLearning.AI: Start or Advance Your Career in AI\n",
            "Link: https://www.deeplearning.ai/\n",
            "Snippet: Learn the skills to start or advance your AI career | World-class education | Hands-on training | Collaborative community of peers and mentors.\n",
            "---\n",
            "Title: DeepLearning.AI - Overview, News & Similar companies - ZoomInfo\n",
            "Link: https://www.zoominfo.com/c/deeplearningai-inc/462132321\n",
            "Snippet: View DeepLearning.AI (www.deeplearning.ai) location in California, United States , revenue, industry and description. Find related and similar companies as ...\n",
            "---\n",
            "Title: Top Deep Learning Companies - May 2024 Reviews - GoodFirms\n",
            "Link: https://www.goodfirms.co/artificial-intelligence/deep-learning\n",
            "Snippet: List of Top AI Companies for Deep Learning · SoluLab · Simublade · OpenXcell · KitRUM · Altamira · Outsource Bigdata · 6omb AI · Need assistance in finding the best ...\n",
            "---\n",
            "Title: deeplearning.ai: Revenue, Competitors, Alternatives - Growjo\n",
            "Link: https://growjo.com/company/deeplearning.ai\n",
            "Snippet: deeplearning.ai top competitors are TruthMD, Atrium and Bluestone PIM and they have annual revenue of $62.7M and 346 employees.\n",
            "---\n",
            "Title: DeepLearning.AI - The Org\n",
            "Link: https://theorg.com/org/deeplearning-ai\n",
            "Snippet: DeepLearning.AI is making a world-class AI education accessible to people around the globe. DeepLearning.AI was founded by Andrew Ng, a global leader in AI.\n",
            "---\n",
            "\n",
            "\u001b[00m\n",
            "\u001b[32;1m\u001b[1;3mThought: The search results provide several promising sources for comprehensive information about DeepLearningAI, including company background, key personnel, and recent milestones. I should begin by exploring the Crunchbase profile for detailed company insights, funding, and founder information.\n",
            "\n",
            "Action: Search the internet\n",
            "Action Input: {\"search_query\": \"Deeplearning.ai Crunchbase profile\"}\u001b[0m\u001b[95m \n",
            "\n",
            "\n",
            "Search results: Title: Deeplearning.ai - Crunchbase Company Profile & Funding\n",
            "Link: https://www.crunchbase.com/organization/deeplearning-ai\n",
            "Snippet: Deeplearning.ai is company that explores the frontier of AI. The company is founded by Andrew Ng, the former Chief Scientist of Baidu and the current Chairman ...\n",
            "---\n",
            "Title: Andrew Ng - Founder and CEO @ Deeplearning.ai - Crunchbase\n",
            "Link: https://www.crunchbase.com/person/andrew-ng\n",
            "Snippet: Andrew Ng is the Founder and CEO of Deeplearning.ai and Landing AI. He is also a Co-founder and Chairman at Coursera, an Adjunct Professor of Computer ...\n",
            "---\n",
            "Title: About - DeepLearning.AI\n",
            "Link: https://www.deeplearning.ai/about/\n",
            "Snippet: DeepLearning.AI is an education technology company that is empowering the global workforce to build an AI-powered future through world-class education, hands-on ...\n",
            "---\n",
            "Title: DeepLearning.AI Online Courses - Coursera\n",
            "Link: https://www.coursera.org/deeplearning-ai\n",
            "Snippet: DeepLearning.AI is an education technology company that develops a global community of AI talent. DeepLearning.AI's expert-led educational experiences ...\n",
            "---\n",
            "Title: Competera - Crunchbase Company Profile & Funding | Deep ...\n",
            "Link: https://www.pinterest.com/pin/competera-crunchbase-company-profile-funding-in-2023--372532200440665379/\n",
            "Snippet: Competera enables retailers and brands to increase customer trust by setting and maintaining optimal price positions on a real-time basis.\n",
            "---\n",
            "Title: Mistral AI - LinkedIn\n",
            "Link: https://www.linkedin.com/company/mistralai/\n",
            "Snippet: Fast, open-source and secure language models. Facilitated specialisation of models on business use-cases, leveraging private data and usage feedback.\n",
            "---\n",
            "Title: Generative AI Startups Raise Hundreds of Millions in Funding\n",
            "Link: https://www.deeplearning.ai/the-batch/generative-ai-startups-raise-hundreds-of-millions-in-funding/\n",
            "Snippet: What's new: Venture capitalists are betting hundreds of millions of dollars on startups that use AI to generate images, text, and more, Wired ...\n",
            "---\n",
            "Title: Geoffrey Hinton (@geoffreyhinton) / X\n",
            "Link: https://twitter.com/geoffreyhinton?lang=en\n",
            "Snippet: Opens profile photo. Geoffrey Hinton ... data and her work opened the floodgates for deep learning. ... investors evaluating investments in AI technologies.\n",
            "---\n",
            "Title: Stanislav Protopopov on LinkedIn: Crunchbase + AI/ML = to find ...\n",
            "Link: https://www.linkedin.com/posts/s-protopopov_crunchbase-aiml-to-find-russian-speaking-activity-7184841547748679680-3Du7\n",
            "Snippet: After diving deep into data preprocessing, I formulated a compelling problem statement that could make a real difference. Here's the catch ...\n",
            "---\n",
            "\n",
            "\u001b[00m\n",
            "\u001b[32;1m\u001b[1;3mThought: The Crunchbase profile snippet highlighted that DeepLearningAI is a company focusing on the frontier of AI, founded by Andrew Ng. This provides a good start but more detailed insights are needed about the company’s key personnel, recent milestones, and potential needs. I should now explore the detailed company profile and founder information directly from the Crunchbase website.\n",
            "\n",
            "Action: Search the internet\n",
            "Action Input: {\"search_query\": \"Deeplearning.ai Crunchbase company profile detailed\"}\u001b[0m\u001b[95m \n",
            "\n",
            "\n",
            "Search results: Title: Deeplearning.ai - Crunchbase Company Profile & Funding\n",
            "Link: https://www.crunchbase.com/organization/deeplearning-ai\n",
            "Snippet: Details. Deeplearning.ai is company that explores the frontier of AI. The company is founded by Andrew Ng, the former Chief Scientist of Baidu and the current ...\n",
            "---\n",
            "Title: Deeplearning.ai - Crunchbase\n",
            "Link: https://www.crunchbase.com/organization/deeplearning-ai/org_similarity_overview\n",
            "Snippet: Deeplearning.ai is company that explores the frontier of AI.\n",
            "---\n",
            "Title: About - DeepLearning.AI\n",
            "Link: https://www.deeplearning.ai/about/\n",
            "Snippet: DeepLearning.AI is an education technology company that is empowering the global workforce to build an AI-powered future through world-class education, hands-on ...\n",
            "---\n",
            "Title: Deeplearning.ai company information, funding & investors\n",
            "Link: https://app.dealroom.co/companies/deeplearning_ai\n",
            "Snippet: Deeplearning.ai, deeplearningai is company that explores the frontier of ai. Here you'll find information about their funding, investors and team.\n",
            "---\n",
            "Title: Christian Tooley on LinkedIn: #ml #agi #ethics #dataprivacy ...\n",
            "Link: https://www.linkedin.com/posts/christiantooley_ml-agi-ethics-activity-6519496796329349120-NEVc?trk=public_profile_like_view\n",
            "Snippet: ... deeplearning.ai. Found it very useful when ... com now to tag yourself on your crunchbase profile, complete the survey, & register for iiF!\n",
            "---\n",
            "Title: DeepLearning.AI - Overview, News & Similar companies - ZoomInfo\n",
            "Link: https://www.zoominfo.com/c/deeplearningai-inc/462132321\n",
            "Snippet: View DeepLearning.AI (www.deeplearning.ai) location in California, United States , revenue, industry and description. Find related and similar companies as ...\n",
            "---\n",
            "Title: Geoffrey Hinton (@geoffreyhinton) / X\n",
            "Link: https://twitter.com/geoffreyhinton?lang=en\n",
            "Snippet: ... its Responsible AI for Startups (RAIS) framework - an open source resource for investors evaluating investments in AI technologies. Show more. 6. 25. 59.\n",
            "---\n",
            "Title: I reverse-engineered a $500M Artificial Intelligence company in one ...\n",
            "Link: https://medium.com/startup-grind/i-reverse-engineered-a-500m-artificial-intelligence-company-in-one-week-heres-the-full-story-d067cef99e1c\n",
            "Snippet: I reverse-engineered a $500M Artificial Intelligence company in one week. Here's the full story. Gianluca Mauro.\n",
            "---\n",
            "Title: Hive AI: AI to Understand, Search, and Generate Content\n",
            "Link: https://thehive.ai/\n",
            "Snippet: Hive's APIs enable developers to integrate pre-trained AI models that address technically challenging content understanding needs into their applications.\n",
            "---\n",
            "\n",
            "\u001b[00m\n",
            "\u001b[32;1m\u001b[1;3mThought: The detailed search on Crunchbase did not yield further information beyond what was initially found. The snippet repeats the company's focus on AI and its founder. To compile a comprehensive profile on DeepLearningAI, I need to explore other sources like LinkedIn or the company's own website for recent developments and potential needs.\n",
            "\n",
            "Action: Search the internet\n",
            "Action Input: {\"search_query\": \"DeepLearningAI recent developments\"}\u001b[0m\u001b[95m \n",
            "\n",
            "\n",
            "Search results: Title: The Batch | DeepLearning.AI | AI News & Insights\n",
            "Link: https://www.deeplearning.ai/the-batch/\n",
            "Snippet: Weekly AI news for engineers, executives, and enthusiasts.\n",
            "---\n",
            "Title: DeepLearning.AI: Start or Advance Your Career in AI\n",
            "Link: https://www.deeplearning.ai/\n",
            "Snippet: Learn the skills to start or advance your AI career | World-class education | Hands-on training | Collaborative community of peers and mentors.\n",
            "---\n",
            "Title: The Batch - DeepLearning.AI News\n",
            "Link: https://www.deeplearning.ai/the-batch/tag/deeplearning-ai-news/\n",
            "Snippet: Weekly AI news for engineers, executives, and enthusiasts.\n",
            "---\n",
            "Title: Announcing new Deep Learning courses on ... - deeplearning.ai\n",
            "Link: https://www.deeplearning.ai/blog/deeplearning-ai-announcing-new-deep-learning-courses-on-coursera/\n",
            "Snippet: I have been working on three new AI projects, and am thrilled to announce the first one: deeplearning.ai, a project dedicated to disseminating AI knowledge, is ...\n",
            "---\n",
            "Title: Blog - DeepLearning.AI\n",
            "Link: https://www.deeplearning.ai/blog/\n",
            "Snippet: DeepLearning.AI Blog — Insights, explorations, and success stories from our extended community of AI experts and learners.\n",
            "---\n",
            "Title: Search | The Batch | AI News & Insights - DeepLearning.AI\n",
            "Link: https://www.deeplearning.ai/search/\n",
            "Snippet: Search relevant articles and resources on The Batch.\n",
            "---\n",
            "Title: Artificial General Intelligence Progress Report - DeepLearning.AI\n",
            "Link: https://www.deeplearning.ai/the-batch/artificial-general-intelligence-progress-report/\n",
            "Snippet: Similarly, recent progress on LLMs and image generation models has reignited speculation about artificial general intelligence (AGI).\n",
            "---\n",
            "Title: Generative AI with Large Language Models — New Hands ... - AWS\n",
            "Link: https://aws.amazon.com/blogs/aws/generative-ai-with-large-language-models-new-hands-on-course-by-deeplearning-ai-and-aws/\n",
            "Snippet: Generative AI with Large Language Models — New Hands-on Course by DeepLearning.AI and AWS ... Generative AI has taken the world by storm, and we' ...\n",
            "---\n",
            "Title: DeepLearning.AI Online Courses - Coursera\n",
            "Link: https://www.coursera.org/deeplearning-ai\n",
            "Snippet: DeepLearning.AI's expert-led educational experiences provide AI practitioners and non-technical professionals with the necessary tools to go all the way from ...\n",
            "---\n",
            "\n",
            "\u001b[00m\n",
            "\u001b[32;1m\u001b[1;3mThought: The recent developments search results provide updates on new courses, collaborations, and general news about DeepLearningAI. These insights can be useful to understand their current focus areas and initiatives. To gather more specific information about their potential needs and how our solutions can provide value, I should now look into the details of their new courses and collaborations as mentioned in the links provided.\n",
            "\n",
            "Action: Search the internet\n",
            "Action Input: {\"search_query\": \"DeepLearningAI new courses and collaborations\"}\u001b[0m\u001b[95m \n",
            "\n",
            "\n",
            "Search results: Title: DeepLearning.AI: Start or Advance Your Career in AI\n",
            "Link: https://www.deeplearning.ai/\n",
            "Snippet: Learn the skills to start or advance your AI career | World-class education | Hands-on training | Collaborative community of peers and mentors.\n",
            "---\n",
            "Title: Short Courses | Learn Generative AI from DeepLearning.AI\n",
            "Link: https://www.deeplearning.ai/short-courses/\n",
            "Snippet: Take your generative AI skills to the next level with short courses from DeepLearning.AI. Enroll today to learn directly from industry leaders, and practice ...\n",
            "---\n",
            "Title: Machine Learning Specialization - DeepLearning.AI\n",
            "Link: https://www.deeplearning.ai/courses/machine-learning-specialization/\n",
            "Snippet: New Machine Learning Specialization, an updated foundational program for beginners created by Andrew Ng | Start Your AI Career Today.\n",
            "---\n",
            "Title: Courses - DeepLearning.AI\n",
            "Link: https://www.deeplearning.ai/courses/\n",
            "Snippet: Our Courses · Introductory · Machine Learning Specialization · Mathematics for Machine Learning and Data Science Specialization · AI for Everyone · AI for Good ...\n",
            "---\n",
            "Title: The Batch | DeepLearning.AI | AI News & Insights\n",
            "Link: https://www.deeplearning.ai/the-batch/\n",
            "Snippet: 🌟 New Course! Enroll in Multi AI Agent Systems ... The Batch AI News and Insights: Multi-agent collaboration ... collaborators gathered in California for two days ...\n",
            "---\n",
            "Title: Pair Programming with a Large Language Model - DeepLearning.AI\n",
            "Link: https://www.deeplearning.ai/short-courses/pair-programming-llm/\n",
            "Snippet: Learn how LLMs can enhance, debug, and document your code in this new course built in collaboration with Google.\n",
            "---\n",
            "Title: DeepLearning.AI on LinkedIn: A new course built in collaboration ...\n",
            "Link: https://www.linkedin.com/posts/deeplearningai_a-new-course-built-in-collaboration-with-activity-7105212918387904512-uzaq\n",
            "Snippet: A new course built in collaboration with Google Cloud is available starting today! 🎊 Introducing \"Understanding and Applying Text ...\n",
            "---\n",
            "Title: Learning & Education | The Batch - DeepLearning.AI\n",
            "Link: https://www.deeplearning.ai/the-batch/tag/learning-education/\n",
            "Snippet: Three New Courses!: Check out our short courses on Building Systems with the ChatGPT API, LangChain for LLM Application Development, and How Diffusion Models ...\n",
            "---\n",
            "Title: Courses | Andrew Ng\n",
            "Link: https://www.andrewng.org/courses/\n",
            "Snippet: The Machine Learning Specialization is a foundational online program created in collaboration between DeepLearning.AI and Stanford Online. This beginner ...\n",
            "---\n",
            "Title: Announcing the upcoming launch of Introduction to On-Device AI, a ...\n",
            "Link: https://www.instagram.com/deeplearningai/reel/C6t-vTOPVkM/\n",
            "Snippet: It's here! #AndrewNg's new course: Generative AI for Everyone!\n",
            "---\n",
            "\n",
            "\u001b[00m\n",
            "\u001b[32;1m\u001b[1;3mThought: I now know the final answer\n",
            "\n",
            "Final Answer: DeepLearningAI is an education technology company focused on empowering the global workforce to build an AI-powered future through world-class education and hands-on training. Founded by Andrew Ng, a prominent figure in the AI industry, the company aims to make high-quality AI education accessible globally. Key individuals associated with the company include Andrew Ng, who plays a significant role as the founder.\n",
            "\n",
            "Recent developments at DeepLearningAI include the launch of new courses and collaborations. Notably, they have introduced a Machine Learning Specialization, updated foundational programs for beginners, and courses on Generative AI with hands-on learning experiences. The company has collaborated with prominent tech companies like Google and AWS to enhance these educational offerings.\n",
            "\n",
            "DeepLearningAI's potential needs could include advanced tools and solutions that facilitate scalable online education, sophisticated AI training platforms, and technologies that enhance user engagement and learning outcomes. Our solutions can potentially provide value in these areas by offering AI-driven analytics to understand learner behaviors, personalized learning experiences based on AI insights, and enhanced interactive platforms that support a global audience.\n",
            "\n",
            "To engage effectively with DeepLearningAI, a personalized approach highlighting how our solutions align with their mission of democratizing AI education globally could be adopted. Emphasizing potential collaborations in developing AI-driven educational tools and platforms may also be a strategic way to initiate conversations.\u001b[0m\n",
            "\n",
            "\u001b[1m> Finished chain.\u001b[0m\n",
            "\u001b[1m\u001b[92m [DEBUG]: == [Sales Representative] Task output: DeepLearningAI is an education technology company focused on empowering the global workforce to build an AI-powered future through world-class education and hands-on training. Founded by Andrew Ng, a prominent figure in the AI industry, the company aims to make high-quality AI education accessible globally. Key individuals associated with the company include Andrew Ng, who plays a significant role as the founder.\n",
            "\n",
            "Recent developments at DeepLearningAI include the launch of new courses and collaborations. Notably, they have introduced a Machine Learning Specialization, updated foundational programs for beginners, and courses on Generative AI with hands-on learning experiences. The company has collaborated with prominent tech companies like Google and AWS to enhance these educational offerings.\n",
            "\n",
            "DeepLearningAI's potential needs could include advanced tools and solutions that facilitate scalable online education, sophisticated AI training platforms, and technologies that enhance user engagement and learning outcomes. Our solutions can potentially provide value in these areas by offering AI-driven analytics to understand learner behaviors, personalized learning experiences based on AI insights, and enhanced interactive platforms that support a global audience.\n",
            "\n",
            "To engage effectively with DeepLearningAI, a personalized approach highlighting how our solutions align with their mission of democratizing AI education globally could be adopted. Emphasizing potential collaborations in developing AI-driven educational tools and platforms may also be a strategic way to initiate conversations.\n",
            "\n",
            "\u001b[00m\n",
            "\u001b[1m\u001b[95m [DEBUG]: == Working Agent: Lead Sales Representative\u001b[00m\n",
            "\u001b[1m\u001b[95m [INFO]: == Starting Task: Using the insights gathered from the lead profiling report on DeepLearningAI, craft a personalized outreach campaign aimed at Andrew Ng, the CEO of DeepLearningAI. The campaign should address their recent product launch and how our solutions can support their goals. Your communication must resonate with DeepLearningAI's company culture and values, demonstrating a deep understanding of their business and needs.\n",
            "Don't make assumptions and only use information you absolutely sure about.\u001b[00m\n",
            "\n",
            "\n",
            "\u001b[1m> Entering new CrewAgentExecutor chain...\u001b[0m\n",
            "\u001b[32;1m\u001b[1;3mThought: I need to ensure the email draft for Andrew Ng is both engaging and resonates with the mission and achievements of DeepLearningAI. The email should emphasize how our solutions can support their recent course launches and collaborations with tech giants like Google and AWS. I should use the sentiment analysis tool to ensure the tone is positive and engaging.\n",
            "\n",
            "Action: Sentiment Analysis Tool\n",
            "Action Input: {\"text\": \"Subject: Empowering DeepLearningAI's Mission through Innovative AI Solutions\\n\\nDear Andrew,\\n\\nI hope this message finds you well. I'm reaching out to celebrate DeepLearningAI's recent successes in launching the new Machine Learning Specialization and updated courses in collaboration with tech leaders like Google and AWS. Your commitment to democratizing AI education aligns perfectly with our mission at CrewAI.\\n\\nAt CrewAI, we specialize in developing AI-driven solutions that enhance online learning experiences. Our tools can provide deep insights into learner behaviors, enabling you to offer more personalized and effective educational programs. Moreover, our collaboration could further innovate your platforms, making AI education even more accessible and impactful across the globe.\\n\\nI would love the opportunity to discuss how our solutions could support DeepLearningAI's goals and contribute to the future of AI education. Are you available for a brief call next week to explore this potential partnership?\\n\\nLooking forward to your thoughts.\\n\\nBest regards,\\n[Your Name]\\nLead Sales Representative, CrewAI\"}\u001b[0m\u001b[95m \n",
            "\n",
            "positive\n",
            "\u001b[00m\n",
            "\u001b[32;1m\u001b[1;3mThought: The sentiment analysis confirms that the draft email has a positive tone, which is key for engaging Andrew Ng professionally and warmly. The content of the email effectively connects CrewAI's solutions with the goals and recent achievements of DeepLearningAI, making it a potentially compelling communication. Now, I can finalize the email draft and ensure all details are appropriately personalized and reflect both companies' focus on AI and education.\n",
            "\n",
            "Final Answer:\n",
            "Subject: Empowering DeepLearningAI's Mission through Innovative AI Solutions\n",
            "\n",
            "Dear Andrew,\n",
            "\n",
            "I hope this message finds you well. I'm reaching out to celebrate DeepLearningAI's recent successes in launching the new Machine Learning Specialization and updated courses in collaboration with tech leaders like Google and AWS. Your commitment to democratizing AI education aligns perfectly with our mission at CrewAI.\n",
            "\n",
            "At CrewAI, we specialize in developing AI-driven solutions that enhance online learning experiences. Our tools can provide deep insights into learner behaviors, enabling you to offer more personalized and effective educational programs. Moreover, our collaboration could further innovate your platforms, making AI education even more accessible and impactful across the globe.\n",
            "\n",
            "I would love the opportunity to discuss how our solutions could support DeepLearningAI's goals and contribute to the future of AI education. Are you available for a brief call next week to explore this potential partnership?\n",
            "\n",
            "Looking forward to your thoughts.\n",
            "\n",
            "Best regards,\n",
            "[Your Name]\n",
            "Lead Sales Representative, CrewAI\u001b[0m\n",
            "\n",
            "\u001b[1m> Finished chain.\u001b[0m\n",
            "\u001b[1m\u001b[92m [DEBUG]: == [Lead Sales Representative] Task output: Subject: Empowering DeepLearningAI's Mission through Innovative AI Solutions\n",
            "\n",
            "Dear Andrew,\n",
            "\n",
            "I hope this message finds you well. I'm reaching out to celebrate DeepLearningAI's recent successes in launching the new Machine Learning Specialization and updated courses in collaboration with tech leaders like Google and AWS. Your commitment to democratizing AI education aligns perfectly with our mission at CrewAI.\n",
            "\n",
            "At CrewAI, we specialize in developing AI-driven solutions that enhance online learning experiences. Our tools can provide deep insights into learner behaviors, enabling you to offer more personalized and effective educational programs. Moreover, our collaboration could further innovate your platforms, making AI education even more accessible and impactful across the globe.\n",
            "\n",
            "I would love the opportunity to discuss how our solutions could support DeepLearningAI's goals and contribute to the future of AI education. Are you available for a brief call next week to explore this potential partnership?\n",
            "\n",
            "Looking forward to your thoughts.\n",
            "\n",
            "Best regards,\n",
            "[Your Name]\n",
            "Lead Sales Representative, CrewAI\n",
            "\n",
            "\u001b[00m\n"
          ]
        }
      ],
      "source": [
        "inputs = {\n",
        "    \"lead_name\": \"DeepLearningAI\",\n",
        "    \"industry\": \"Online Learning Platform\",\n",
        "    \"key_decision_maker\": \"Andrew Ng\",\n",
        "    \"position\": \"CEO\",\n",
        "    \"milestone\": \"product launch\"\n",
        "}\n",
        "\n",
        "result = crew.kickoff(inputs=inputs)"
      ]
    },
    {
      "cell_type": "markdown",
      "metadata": {
        "id": "t9ljijCSWrbQ"
      },
      "source": [
        "- Display the final result as Markdown."
      ]
    },
    {
      "cell_type": "code",
      "execution_count": null,
      "metadata": {
        "height": 47,
        "id": "DdeD-TOhWrbQ",
        "colab": {
          "base_uri": "https://localhost:8080/",
          "height": 273
        },
        "outputId": "9b922126-3edd-4389-a096-3d67dd4eb287"
      },
      "outputs": [
        {
          "output_type": "execute_result",
          "data": {
            "text/plain": [
              "<IPython.core.display.Markdown object>"
            ],
            "text/markdown": "Subject: Empowering DeepLearningAI's Mission through Innovative AI Solutions\n\nDear Andrew,\n\nI hope this message finds you well. I'm reaching out to celebrate DeepLearningAI's recent successes in launching the new Machine Learning Specialization and updated courses in collaboration with tech leaders like Google and AWS. Your commitment to democratizing AI education aligns perfectly with our mission at CrewAI.\n\nAt CrewAI, we specialize in developing AI-driven solutions that enhance online learning experiences. Our tools can provide deep insights into learner behaviors, enabling you to offer more personalized and effective educational programs. Moreover, our collaboration could further innovate your platforms, making AI education even more accessible and impactful across the globe.\n\nI would love the opportunity to discuss how our solutions could support DeepLearningAI's goals and contribute to the future of AI education. Are you available for a brief call next week to explore this potential partnership?\n\nLooking forward to your thoughts.\n\nBest regards,\n[Your Name]\nLead Sales Representative, CrewAI"
          },
          "metadata": {},
          "execution_count": 21
        }
      ],
      "source": [
        "from IPython.display import Markdown\n",
        "Markdown(result)"
      ]
    },
    {
      "cell_type": "code",
      "execution_count": null,
      "metadata": {
        "height": 30,
        "id": "x0TJWQk9WrbQ"
      },
      "outputs": [],
      "source": []
    },
    {
      "cell_type": "markdown",
      "source": [
        "# Conclusion\n",
        "This notebook demonstrates how to automate a customer outreach campaign using a multi-agent system, ensuring personalized and strategic communications to high-value leads. ​"
      ],
      "metadata": {
        "id": "0AqXqGAjxZAs"
      }
    },
    {
      "cell_type": "code",
      "execution_count": null,
      "metadata": {
        "height": 30,
        "id": "cbWTJyeuWrbQ"
      },
      "outputs": [],
      "source": []
    }
  ],
  "metadata": {
    "colab": {
      "provenance": [],
      "toc_visible": true,
      "include_colab_link": true
    },
    "kernelspec": {
      "display_name": "Python 3 (ipykernel)",
      "language": "python",
      "name": "python3"
    },
    "language_info": {
      "codemirror_mode": {
        "name": "ipython",
        "version": 3
      },
      "file_extension": ".py",
      "mimetype": "text/x-python",
      "name": "python",
      "nbconvert_exporter": "python",
      "pygments_lexer": "ipython3",
      "version": "3.11.9"
    }
  },
  "nbformat": 4,
  "nbformat_minor": 0
}