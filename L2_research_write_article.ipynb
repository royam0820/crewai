{
  "cells": [
    {
      "cell_type": "markdown",
      "metadata": {
        "id": "view-in-github",
        "colab_type": "text"
      },
      "source": [
        "<a href=\"https://colab.research.google.com/github/royam0820/crewai/blob/main/L2_research_write_article.ipynb\" target=\"_parent\"><img src=\"https://colab.research.google.com/assets/colab-badge.svg\" alt=\"Open In Colab\"/></a>"
      ]
    },
    {
      "cell_type": "markdown",
      "source": [
        "DeepLearning Course on [Multi AI Agent Systems with crewAI](https://learn.deeplearning.ai/courses/multi-ai-agent-systems-with-crewai/lesson/4/create-agents-to-research-and-write-an-article-(code))"
      ],
      "metadata": {
        "id": "x26qBAEYnLaA"
      }
    },
    {
      "cell_type": "markdown",
      "metadata": {
        "id": "LI-LY3hLNm_x"
      },
      "source": [
        "You can download the `requirements.txt` for this course from the workspace of this lab. `File --> Open...`\n",
        "\n",
        "\n",
        "\n",
        "```\n",
        "crewai==0.28.8\n",
        "crewai_tools==0.1.6\n",
        "langchain_community==0.0.29# This is formatted as code\n",
        "```\n",
        "\n"
      ]
    },
    {
      "cell_type": "code",
      "source": [
        "!pip install crewai==0.28.8\n",
        "!pip install crewai_tools--0.1.6\n",
        "!pip install langchain_community==0.0.29 # this is formatted as code\n",
        "!pip install utils"
      ],
      "metadata": {
        "colab": {
          "base_uri": "https://localhost:8080/"
        },
        "id": "GtFqlq-UN6uJ",
        "outputId": "311d0044-5032-4395-9ec3-93f72d0d1693"
      },
      "execution_count": 1,
      "outputs": [
        {
          "output_type": "stream",
          "name": "stdout",
          "text": [
            "Requirement already satisfied: crewai==0.28.8 in /usr/local/lib/python3.10/dist-packages (0.28.8)\n",
            "Requirement already satisfied: appdirs<2.0.0,>=1.4.4 in /usr/local/lib/python3.10/dist-packages (from crewai==0.28.8) (1.4.4)\n",
            "Requirement already satisfied: click<9.0.0,>=8.1.7 in /usr/local/lib/python3.10/dist-packages (from crewai==0.28.8) (8.1.7)\n",
            "Requirement already satisfied: embedchain<0.2.0,>=0.1.98 in /usr/local/lib/python3.10/dist-packages (from crewai==0.28.8) (0.1.102)\n",
            "Requirement already satisfied: instructor<0.6.0,>=0.5.2 in /usr/local/lib/python3.10/dist-packages (from crewai==0.28.8) (0.5.2)\n",
            "Requirement already satisfied: langchain<0.2.0,>=0.1.10 in /usr/local/lib/python3.10/dist-packages (from crewai==0.28.8) (0.1.20)\n",
            "Requirement already satisfied: openai<2.0.0,>=1.13.3 in /usr/local/lib/python3.10/dist-packages (from crewai==0.28.8) (1.30.1)\n",
            "Requirement already satisfied: opentelemetry-api<2.0.0,>=1.22.0 in /usr/local/lib/python3.10/dist-packages (from crewai==0.28.8) (1.24.0)\n",
            "Requirement already satisfied: opentelemetry-exporter-otlp-proto-http<2.0.0,>=1.22.0 in /usr/local/lib/python3.10/dist-packages (from crewai==0.28.8) (1.24.0)\n",
            "Requirement already satisfied: opentelemetry-sdk<2.0.0,>=1.22.0 in /usr/local/lib/python3.10/dist-packages (from crewai==0.28.8) (1.24.0)\n",
            "Requirement already satisfied: pydantic<3.0.0,>=2.4.2 in /usr/local/lib/python3.10/dist-packages (from crewai==0.28.8) (2.7.1)\n",
            "Requirement already satisfied: python-dotenv==1.0.0 in /usr/local/lib/python3.10/dist-packages (from crewai==0.28.8) (1.0.0)\n",
            "Requirement already satisfied: regex<2024.0.0,>=2023.12.25 in /usr/local/lib/python3.10/dist-packages (from crewai==0.28.8) (2023.12.25)\n",
            "Requirement already satisfied: alembic<2.0.0,>=1.13.1 in /usr/local/lib/python3.10/dist-packages (from embedchain<0.2.0,>=0.1.98->crewai==0.28.8) (1.13.1)\n",
            "Requirement already satisfied: beautifulsoup4<5.0.0,>=4.12.2 in /usr/local/lib/python3.10/dist-packages (from embedchain<0.2.0,>=0.1.98->crewai==0.28.8) (4.12.3)\n",
            "Requirement already satisfied: chromadb<0.5.0,>=0.4.17 in /usr/local/lib/python3.10/dist-packages (from embedchain<0.2.0,>=0.1.98->crewai==0.28.8) (0.4.24)\n",
            "Requirement already satisfied: google-cloud-aiplatform<2.0.0,>=1.26.1 in /usr/local/lib/python3.10/dist-packages (from embedchain<0.2.0,>=0.1.98->crewai==0.28.8) (1.51.0)\n",
            "Requirement already satisfied: gptcache<0.2.0,>=0.1.43 in /usr/local/lib/python3.10/dist-packages (from embedchain<0.2.0,>=0.1.98->crewai==0.28.8) (0.1.43)\n",
            "Requirement already satisfied: langchain-openai<0.0.6,>=0.0.5 in /usr/local/lib/python3.10/dist-packages (from embedchain<0.2.0,>=0.1.98->crewai==0.28.8) (0.0.5)\n",
            "Requirement already satisfied: posthog<4.0.0,>=3.0.2 in /usr/local/lib/python3.10/dist-packages (from embedchain<0.2.0,>=0.1.98->crewai==0.28.8) (3.5.0)\n",
            "Requirement already satisfied: pypdf<4.0.0,>=3.11.0 in /usr/local/lib/python3.10/dist-packages (from embedchain<0.2.0,>=0.1.98->crewai==0.28.8) (3.17.4)\n",
            "Requirement already satisfied: pysbd<0.4.0,>=0.3.4 in /usr/local/lib/python3.10/dist-packages (from embedchain<0.2.0,>=0.1.98->crewai==0.28.8) (0.3.4)\n",
            "Requirement already satisfied: rich<14.0.0,>=13.7.0 in /usr/local/lib/python3.10/dist-packages (from embedchain<0.2.0,>=0.1.98->crewai==0.28.8) (13.7.1)\n",
            "Requirement already satisfied: schema<0.8.0,>=0.7.5 in /usr/local/lib/python3.10/dist-packages (from embedchain<0.2.0,>=0.1.98->crewai==0.28.8) (0.7.7)\n",
            "Requirement already satisfied: sqlalchemy<3.0.0,>=2.0.27 in /usr/local/lib/python3.10/dist-packages (from embedchain<0.2.0,>=0.1.98->crewai==0.28.8) (2.0.30)\n",
            "Requirement already satisfied: tiktoken<0.6.0,>=0.5.2 in /usr/local/lib/python3.10/dist-packages (from embedchain<0.2.0,>=0.1.98->crewai==0.28.8) (0.5.2)\n",
            "Requirement already satisfied: aiohttp<4.0.0,>=3.9.1 in /usr/local/lib/python3.10/dist-packages (from instructor<0.6.0,>=0.5.2->crewai==0.28.8) (3.9.5)\n",
            "Requirement already satisfied: docstring-parser<0.16,>=0.15 in /usr/local/lib/python3.10/dist-packages (from instructor<0.6.0,>=0.5.2->crewai==0.28.8) (0.15)\n",
            "Requirement already satisfied: tenacity<9.0.0,>=8.2.3 in /usr/local/lib/python3.10/dist-packages (from instructor<0.6.0,>=0.5.2->crewai==0.28.8) (8.3.0)\n",
            "Requirement already satisfied: typer<0.10.0,>=0.9.0 in /usr/local/lib/python3.10/dist-packages (from instructor<0.6.0,>=0.5.2->crewai==0.28.8) (0.9.4)\n",
            "Requirement already satisfied: PyYAML>=5.3 in /usr/local/lib/python3.10/dist-packages (from langchain<0.2.0,>=0.1.10->crewai==0.28.8) (6.0.1)\n",
            "Requirement already satisfied: async-timeout<5.0.0,>=4.0.0 in /usr/local/lib/python3.10/dist-packages (from langchain<0.2.0,>=0.1.10->crewai==0.28.8) (4.0.3)\n",
            "Requirement already satisfied: dataclasses-json<0.7,>=0.5.7 in /usr/local/lib/python3.10/dist-packages (from langchain<0.2.0,>=0.1.10->crewai==0.28.8) (0.6.6)\n",
            "Collecting langchain-community<0.1,>=0.0.38 (from langchain<0.2.0,>=0.1.10->crewai==0.28.8)\n",
            "  Using cached langchain_community-0.0.38-py3-none-any.whl (2.0 MB)\n",
            "Requirement already satisfied: langchain-core<0.2.0,>=0.1.52 in /usr/local/lib/python3.10/dist-packages (from langchain<0.2.0,>=0.1.10->crewai==0.28.8) (0.1.52)\n",
            "Requirement already satisfied: langchain-text-splitters<0.1,>=0.0.1 in /usr/local/lib/python3.10/dist-packages (from langchain<0.2.0,>=0.1.10->crewai==0.28.8) (0.0.2)\n",
            "Requirement already satisfied: langsmith<0.2.0,>=0.1.17 in /usr/local/lib/python3.10/dist-packages (from langchain<0.2.0,>=0.1.10->crewai==0.28.8) (0.1.59)\n",
            "Requirement already satisfied: numpy<2,>=1 in /usr/local/lib/python3.10/dist-packages (from langchain<0.2.0,>=0.1.10->crewai==0.28.8) (1.25.2)\n",
            "Requirement already satisfied: requests<3,>=2 in /usr/local/lib/python3.10/dist-packages (from langchain<0.2.0,>=0.1.10->crewai==0.28.8) (2.31.0)\n",
            "Requirement already satisfied: anyio<5,>=3.5.0 in /usr/local/lib/python3.10/dist-packages (from openai<2.0.0,>=1.13.3->crewai==0.28.8) (3.7.1)\n",
            "Requirement already satisfied: distro<2,>=1.7.0 in /usr/lib/python3/dist-packages (from openai<2.0.0,>=1.13.3->crewai==0.28.8) (1.7.0)\n",
            "Requirement already satisfied: httpx<1,>=0.23.0 in /usr/local/lib/python3.10/dist-packages (from openai<2.0.0,>=1.13.3->crewai==0.28.8) (0.27.0)\n",
            "Requirement already satisfied: sniffio in /usr/local/lib/python3.10/dist-packages (from openai<2.0.0,>=1.13.3->crewai==0.28.8) (1.3.1)\n",
            "Requirement already satisfied: tqdm>4 in /usr/local/lib/python3.10/dist-packages (from openai<2.0.0,>=1.13.3->crewai==0.28.8) (4.66.4)\n",
            "Requirement already satisfied: typing-extensions<5,>=4.7 in /usr/local/lib/python3.10/dist-packages (from openai<2.0.0,>=1.13.3->crewai==0.28.8) (4.11.0)\n",
            "Requirement already satisfied: deprecated>=1.2.6 in /usr/local/lib/python3.10/dist-packages (from opentelemetry-api<2.0.0,>=1.22.0->crewai==0.28.8) (1.2.14)\n",
            "Requirement already satisfied: importlib-metadata<=7.0,>=6.0 in /usr/local/lib/python3.10/dist-packages (from opentelemetry-api<2.0.0,>=1.22.0->crewai==0.28.8) (7.0.0)\n",
            "Requirement already satisfied: googleapis-common-protos~=1.52 in /usr/local/lib/python3.10/dist-packages (from opentelemetry-exporter-otlp-proto-http<2.0.0,>=1.22.0->crewai==0.28.8) (1.63.0)\n",
            "Requirement already satisfied: opentelemetry-exporter-otlp-proto-common==1.24.0 in /usr/local/lib/python3.10/dist-packages (from opentelemetry-exporter-otlp-proto-http<2.0.0,>=1.22.0->crewai==0.28.8) (1.24.0)\n",
            "Requirement already satisfied: opentelemetry-proto==1.24.0 in /usr/local/lib/python3.10/dist-packages (from opentelemetry-exporter-otlp-proto-http<2.0.0,>=1.22.0->crewai==0.28.8) (1.24.0)\n",
            "Requirement already satisfied: protobuf<5.0,>=3.19 in /usr/local/lib/python3.10/dist-packages (from opentelemetry-proto==1.24.0->opentelemetry-exporter-otlp-proto-http<2.0.0,>=1.22.0->crewai==0.28.8) (3.20.3)\n",
            "Requirement already satisfied: opentelemetry-semantic-conventions==0.45b0 in /usr/local/lib/python3.10/dist-packages (from opentelemetry-sdk<2.0.0,>=1.22.0->crewai==0.28.8) (0.45b0)\n",
            "Requirement already satisfied: annotated-types>=0.4.0 in /usr/local/lib/python3.10/dist-packages (from pydantic<3.0.0,>=2.4.2->crewai==0.28.8) (0.6.0)\n",
            "Requirement already satisfied: pydantic-core==2.18.2 in /usr/local/lib/python3.10/dist-packages (from pydantic<3.0.0,>=2.4.2->crewai==0.28.8) (2.18.2)\n",
            "Requirement already satisfied: aiosignal>=1.1.2 in /usr/local/lib/python3.10/dist-packages (from aiohttp<4.0.0,>=3.9.1->instructor<0.6.0,>=0.5.2->crewai==0.28.8) (1.3.1)\n",
            "Requirement already satisfied: attrs>=17.3.0 in /usr/local/lib/python3.10/dist-packages (from aiohttp<4.0.0,>=3.9.1->instructor<0.6.0,>=0.5.2->crewai==0.28.8) (23.2.0)\n",
            "Requirement already satisfied: frozenlist>=1.1.1 in /usr/local/lib/python3.10/dist-packages (from aiohttp<4.0.0,>=3.9.1->instructor<0.6.0,>=0.5.2->crewai==0.28.8) (1.4.1)\n",
            "Requirement already satisfied: multidict<7.0,>=4.5 in /usr/local/lib/python3.10/dist-packages (from aiohttp<4.0.0,>=3.9.1->instructor<0.6.0,>=0.5.2->crewai==0.28.8) (6.0.5)\n",
            "Requirement already satisfied: yarl<2.0,>=1.0 in /usr/local/lib/python3.10/dist-packages (from aiohttp<4.0.0,>=3.9.1->instructor<0.6.0,>=0.5.2->crewai==0.28.8) (1.9.4)\n",
            "Requirement already satisfied: Mako in /usr/local/lib/python3.10/dist-packages (from alembic<2.0.0,>=1.13.1->embedchain<0.2.0,>=0.1.98->crewai==0.28.8) (1.3.5)\n",
            "Requirement already satisfied: idna>=2.8 in /usr/local/lib/python3.10/dist-packages (from anyio<5,>=3.5.0->openai<2.0.0,>=1.13.3->crewai==0.28.8) (3.7)\n",
            "Requirement already satisfied: exceptiongroup in /usr/local/lib/python3.10/dist-packages (from anyio<5,>=3.5.0->openai<2.0.0,>=1.13.3->crewai==0.28.8) (1.2.1)\n",
            "Requirement already satisfied: soupsieve>1.2 in /usr/local/lib/python3.10/dist-packages (from beautifulsoup4<5.0.0,>=4.12.2->embedchain<0.2.0,>=0.1.98->crewai==0.28.8) (2.5)\n",
            "Requirement already satisfied: build>=1.0.3 in /usr/local/lib/python3.10/dist-packages (from chromadb<0.5.0,>=0.4.17->embedchain<0.2.0,>=0.1.98->crewai==0.28.8) (1.2.1)\n",
            "Requirement already satisfied: chroma-hnswlib==0.7.3 in /usr/local/lib/python3.10/dist-packages (from chromadb<0.5.0,>=0.4.17->embedchain<0.2.0,>=0.1.98->crewai==0.28.8) (0.7.3)\n",
            "Requirement already satisfied: fastapi>=0.95.2 in /usr/local/lib/python3.10/dist-packages (from chromadb<0.5.0,>=0.4.17->embedchain<0.2.0,>=0.1.98->crewai==0.28.8) (0.110.3)\n",
            "Requirement already satisfied: uvicorn[standard]>=0.18.3 in /usr/local/lib/python3.10/dist-packages (from chromadb<0.5.0,>=0.4.17->embedchain<0.2.0,>=0.1.98->crewai==0.28.8) (0.29.0)\n",
            "Requirement already satisfied: pulsar-client>=3.1.0 in /usr/local/lib/python3.10/dist-packages (from chromadb<0.5.0,>=0.4.17->embedchain<0.2.0,>=0.1.98->crewai==0.28.8) (3.5.0)\n",
            "Requirement already satisfied: onnxruntime>=1.14.1 in /usr/local/lib/python3.10/dist-packages (from chromadb<0.5.0,>=0.4.17->embedchain<0.2.0,>=0.1.98->crewai==0.28.8) (1.18.0)\n",
            "Requirement already satisfied: opentelemetry-exporter-otlp-proto-grpc>=1.2.0 in /usr/local/lib/python3.10/dist-packages (from chromadb<0.5.0,>=0.4.17->embedchain<0.2.0,>=0.1.98->crewai==0.28.8) (1.24.0)\n",
            "Requirement already satisfied: opentelemetry-instrumentation-fastapi>=0.41b0 in /usr/local/lib/python3.10/dist-packages (from chromadb<0.5.0,>=0.4.17->embedchain<0.2.0,>=0.1.98->crewai==0.28.8) (0.45b0)\n",
            "Requirement already satisfied: tokenizers>=0.13.2 in /usr/local/lib/python3.10/dist-packages (from chromadb<0.5.0,>=0.4.17->embedchain<0.2.0,>=0.1.98->crewai==0.28.8) (0.19.1)\n",
            "Requirement already satisfied: pypika>=0.48.9 in /usr/local/lib/python3.10/dist-packages (from chromadb<0.5.0,>=0.4.17->embedchain<0.2.0,>=0.1.98->crewai==0.28.8) (0.48.9)\n",
            "Requirement already satisfied: overrides>=7.3.1 in /usr/local/lib/python3.10/dist-packages (from chromadb<0.5.0,>=0.4.17->embedchain<0.2.0,>=0.1.98->crewai==0.28.8) (7.7.0)\n",
            "Requirement already satisfied: importlib-resources in /usr/local/lib/python3.10/dist-packages (from chromadb<0.5.0,>=0.4.17->embedchain<0.2.0,>=0.1.98->crewai==0.28.8) (6.4.0)\n",
            "Requirement already satisfied: grpcio>=1.58.0 in /usr/local/lib/python3.10/dist-packages (from chromadb<0.5.0,>=0.4.17->embedchain<0.2.0,>=0.1.98->crewai==0.28.8) (1.63.0)\n",
            "Requirement already satisfied: bcrypt>=4.0.1 in /usr/local/lib/python3.10/dist-packages (from chromadb<0.5.0,>=0.4.17->embedchain<0.2.0,>=0.1.98->crewai==0.28.8) (4.1.3)\n",
            "Requirement already satisfied: kubernetes>=28.1.0 in /usr/local/lib/python3.10/dist-packages (from chromadb<0.5.0,>=0.4.17->embedchain<0.2.0,>=0.1.98->crewai==0.28.8) (29.0.0)\n",
            "Requirement already satisfied: mmh3>=4.0.1 in /usr/local/lib/python3.10/dist-packages (from chromadb<0.5.0,>=0.4.17->embedchain<0.2.0,>=0.1.98->crewai==0.28.8) (4.1.0)\n",
            "Requirement already satisfied: orjson>=3.9.12 in /usr/local/lib/python3.10/dist-packages (from chromadb<0.5.0,>=0.4.17->embedchain<0.2.0,>=0.1.98->crewai==0.28.8) (3.10.3)\n",
            "Requirement already satisfied: marshmallow<4.0.0,>=3.18.0 in /usr/local/lib/python3.10/dist-packages (from dataclasses-json<0.7,>=0.5.7->langchain<0.2.0,>=0.1.10->crewai==0.28.8) (3.21.2)\n",
            "Requirement already satisfied: typing-inspect<1,>=0.4.0 in /usr/local/lib/python3.10/dist-packages (from dataclasses-json<0.7,>=0.5.7->langchain<0.2.0,>=0.1.10->crewai==0.28.8) (0.9.0)\n",
            "Requirement already satisfied: wrapt<2,>=1.10 in /usr/local/lib/python3.10/dist-packages (from deprecated>=1.2.6->opentelemetry-api<2.0.0,>=1.22.0->crewai==0.28.8) (1.14.1)\n",
            "Requirement already satisfied: google-api-core[grpc]!=2.0.*,!=2.1.*,!=2.2.*,!=2.3.*,!=2.4.*,!=2.5.*,!=2.6.*,!=2.7.*,<3.0.0dev,>=1.34.1 in /usr/local/lib/python3.10/dist-packages (from google-cloud-aiplatform<2.0.0,>=1.26.1->embedchain<0.2.0,>=0.1.98->crewai==0.28.8) (2.11.1)\n",
            "Requirement already satisfied: google-auth<3.0.0dev,>=2.14.1 in /usr/local/lib/python3.10/dist-packages (from google-cloud-aiplatform<2.0.0,>=1.26.1->embedchain<0.2.0,>=0.1.98->crewai==0.28.8) (2.27.0)\n",
            "Requirement already satisfied: proto-plus<2.0.0dev,>=1.22.0 in /usr/local/lib/python3.10/dist-packages (from google-cloud-aiplatform<2.0.0,>=1.26.1->embedchain<0.2.0,>=0.1.98->crewai==0.28.8) (1.23.0)\n",
            "Requirement already satisfied: packaging>=14.3 in /usr/local/lib/python3.10/dist-packages (from google-cloud-aiplatform<2.0.0,>=1.26.1->embedchain<0.2.0,>=0.1.98->crewai==0.28.8) (23.2)\n",
            "Requirement already satisfied: google-cloud-storage<3.0.0dev,>=1.32.0 in /usr/local/lib/python3.10/dist-packages (from google-cloud-aiplatform<2.0.0,>=1.26.1->embedchain<0.2.0,>=0.1.98->crewai==0.28.8) (2.8.0)\n",
            "Requirement already satisfied: google-cloud-bigquery!=3.20.0,<4.0.0dev,>=1.15.0 in /usr/local/lib/python3.10/dist-packages (from google-cloud-aiplatform<2.0.0,>=1.26.1->embedchain<0.2.0,>=0.1.98->crewai==0.28.8) (3.21.0)\n",
            "Requirement already satisfied: google-cloud-resource-manager<3.0.0dev,>=1.3.3 in /usr/local/lib/python3.10/dist-packages (from google-cloud-aiplatform<2.0.0,>=1.26.1->embedchain<0.2.0,>=0.1.98->crewai==0.28.8) (1.12.3)\n",
            "Requirement already satisfied: shapely<3.0.0dev in /usr/local/lib/python3.10/dist-packages (from google-cloud-aiplatform<2.0.0,>=1.26.1->embedchain<0.2.0,>=0.1.98->crewai==0.28.8) (2.0.4)\n",
            "Requirement already satisfied: cachetools in /usr/local/lib/python3.10/dist-packages (from gptcache<0.2.0,>=0.1.43->embedchain<0.2.0,>=0.1.98->crewai==0.28.8) (5.3.3)\n",
            "Requirement already satisfied: certifi in /usr/local/lib/python3.10/dist-packages (from httpx<1,>=0.23.0->openai<2.0.0,>=1.13.3->crewai==0.28.8) (2024.2.2)\n",
            "Requirement already satisfied: httpcore==1.* in /usr/local/lib/python3.10/dist-packages (from httpx<1,>=0.23.0->openai<2.0.0,>=1.13.3->crewai==0.28.8) (1.0.5)\n",
            "Requirement already satisfied: h11<0.15,>=0.13 in /usr/local/lib/python3.10/dist-packages (from httpcore==1.*->httpx<1,>=0.23.0->openai<2.0.0,>=1.13.3->crewai==0.28.8) (0.14.0)\n",
            "Requirement already satisfied: zipp>=0.5 in /usr/local/lib/python3.10/dist-packages (from importlib-metadata<=7.0,>=6.0->opentelemetry-api<2.0.0,>=1.22.0->crewai==0.28.8) (3.18.1)\n",
            "Requirement already satisfied: jsonpatch<2.0,>=1.33 in /usr/local/lib/python3.10/dist-packages (from langchain-core<0.2.0,>=0.1.52->langchain<0.2.0,>=0.1.10->crewai==0.28.8) (1.33)\n",
            "Requirement already satisfied: six>=1.5 in /usr/local/lib/python3.10/dist-packages (from posthog<4.0.0,>=3.0.2->embedchain<0.2.0,>=0.1.98->crewai==0.28.8) (1.16.0)\n",
            "Requirement already satisfied: monotonic>=1.5 in /usr/local/lib/python3.10/dist-packages (from posthog<4.0.0,>=3.0.2->embedchain<0.2.0,>=0.1.98->crewai==0.28.8) (1.6)\n",
            "Requirement already satisfied: backoff>=1.10.0 in /usr/local/lib/python3.10/dist-packages (from posthog<4.0.0,>=3.0.2->embedchain<0.2.0,>=0.1.98->crewai==0.28.8) (2.2.1)\n",
            "Requirement already satisfied: python-dateutil>2.1 in /usr/local/lib/python3.10/dist-packages (from posthog<4.0.0,>=3.0.2->embedchain<0.2.0,>=0.1.98->crewai==0.28.8) (2.8.2)\n",
            "Requirement already satisfied: charset-normalizer<4,>=2 in /usr/local/lib/python3.10/dist-packages (from requests<3,>=2->langchain<0.2.0,>=0.1.10->crewai==0.28.8) (3.3.2)\n",
            "Requirement already satisfied: urllib3<3,>=1.21.1 in /usr/local/lib/python3.10/dist-packages (from requests<3,>=2->langchain<0.2.0,>=0.1.10->crewai==0.28.8) (2.0.7)\n",
            "Requirement already satisfied: markdown-it-py>=2.2.0 in /usr/local/lib/python3.10/dist-packages (from rich<14.0.0,>=13.7.0->embedchain<0.2.0,>=0.1.98->crewai==0.28.8) (3.0.0)\n",
            "Requirement already satisfied: pygments<3.0.0,>=2.13.0 in /usr/local/lib/python3.10/dist-packages (from rich<14.0.0,>=13.7.0->embedchain<0.2.0,>=0.1.98->crewai==0.28.8) (2.16.1)\n",
            "Requirement already satisfied: greenlet!=0.4.17 in /usr/local/lib/python3.10/dist-packages (from sqlalchemy<3.0.0,>=2.0.27->embedchain<0.2.0,>=0.1.98->crewai==0.28.8) (3.0.3)\n",
            "Requirement already satisfied: pyproject_hooks in /usr/local/lib/python3.10/dist-packages (from build>=1.0.3->chromadb<0.5.0,>=0.4.17->embedchain<0.2.0,>=0.1.98->crewai==0.28.8) (1.1.0)\n",
            "Requirement already satisfied: tomli>=1.1.0 in /usr/local/lib/python3.10/dist-packages (from build>=1.0.3->chromadb<0.5.0,>=0.4.17->embedchain<0.2.0,>=0.1.98->crewai==0.28.8) (2.0.1)\n",
            "Requirement already satisfied: starlette<0.38.0,>=0.37.2 in /usr/local/lib/python3.10/dist-packages (from fastapi>=0.95.2->chromadb<0.5.0,>=0.4.17->embedchain<0.2.0,>=0.1.98->crewai==0.28.8) (0.37.2)\n",
            "Requirement already satisfied: grpcio-status<2.0.dev0,>=1.33.2 in /usr/local/lib/python3.10/dist-packages (from google-api-core[grpc]!=2.0.*,!=2.1.*,!=2.2.*,!=2.3.*,!=2.4.*,!=2.5.*,!=2.6.*,!=2.7.*,<3.0.0dev,>=1.34.1->google-cloud-aiplatform<2.0.0,>=1.26.1->embedchain<0.2.0,>=0.1.98->crewai==0.28.8) (1.48.2)\n",
            "Requirement already satisfied: pyasn1-modules>=0.2.1 in /usr/local/lib/python3.10/dist-packages (from google-auth<3.0.0dev,>=2.14.1->google-cloud-aiplatform<2.0.0,>=1.26.1->embedchain<0.2.0,>=0.1.98->crewai==0.28.8) (0.4.0)\n",
            "Requirement already satisfied: rsa<5,>=3.1.4 in /usr/local/lib/python3.10/dist-packages (from google-auth<3.0.0dev,>=2.14.1->google-cloud-aiplatform<2.0.0,>=1.26.1->embedchain<0.2.0,>=0.1.98->crewai==0.28.8) (4.9)\n",
            "Requirement already satisfied: google-cloud-core<3.0.0dev,>=1.6.0 in /usr/local/lib/python3.10/dist-packages (from google-cloud-bigquery!=3.20.0,<4.0.0dev,>=1.15.0->google-cloud-aiplatform<2.0.0,>=1.26.1->embedchain<0.2.0,>=0.1.98->crewai==0.28.8) (2.3.3)\n",
            "Requirement already satisfied: google-resumable-media<3.0dev,>=0.6.0 in /usr/local/lib/python3.10/dist-packages (from google-cloud-bigquery!=3.20.0,<4.0.0dev,>=1.15.0->google-cloud-aiplatform<2.0.0,>=1.26.1->embedchain<0.2.0,>=0.1.98->crewai==0.28.8) (2.7.0)\n",
            "Requirement already satisfied: grpc-google-iam-v1<1.0.0dev,>=0.12.4 in /usr/local/lib/python3.10/dist-packages (from google-cloud-resource-manager<3.0.0dev,>=1.3.3->google-cloud-aiplatform<2.0.0,>=1.26.1->embedchain<0.2.0,>=0.1.98->crewai==0.28.8) (0.13.0)\n",
            "Requirement already satisfied: jsonpointer>=1.9 in /usr/local/lib/python3.10/dist-packages (from jsonpatch<2.0,>=1.33->langchain-core<0.2.0,>=0.1.52->langchain<0.2.0,>=0.1.10->crewai==0.28.8) (2.4)\n",
            "Requirement already satisfied: websocket-client!=0.40.0,!=0.41.*,!=0.42.*,>=0.32.0 in /usr/local/lib/python3.10/dist-packages (from kubernetes>=28.1.0->chromadb<0.5.0,>=0.4.17->embedchain<0.2.0,>=0.1.98->crewai==0.28.8) (1.8.0)\n",
            "Requirement already satisfied: requests-oauthlib in /usr/local/lib/python3.10/dist-packages (from kubernetes>=28.1.0->chromadb<0.5.0,>=0.4.17->embedchain<0.2.0,>=0.1.98->crewai==0.28.8) (1.3.1)\n",
            "Requirement already satisfied: oauthlib>=3.2.2 in /usr/local/lib/python3.10/dist-packages (from kubernetes>=28.1.0->chromadb<0.5.0,>=0.4.17->embedchain<0.2.0,>=0.1.98->crewai==0.28.8) (3.2.2)\n",
            "Requirement already satisfied: mdurl~=0.1 in /usr/local/lib/python3.10/dist-packages (from markdown-it-py>=2.2.0->rich<14.0.0,>=13.7.0->embedchain<0.2.0,>=0.1.98->crewai==0.28.8) (0.1.2)\n",
            "Requirement already satisfied: coloredlogs in /usr/local/lib/python3.10/dist-packages (from onnxruntime>=1.14.1->chromadb<0.5.0,>=0.4.17->embedchain<0.2.0,>=0.1.98->crewai==0.28.8) (15.0.1)\n",
            "Requirement already satisfied: flatbuffers in /usr/local/lib/python3.10/dist-packages (from onnxruntime>=1.14.1->chromadb<0.5.0,>=0.4.17->embedchain<0.2.0,>=0.1.98->crewai==0.28.8) (24.3.25)\n",
            "Requirement already satisfied: sympy in /usr/local/lib/python3.10/dist-packages (from onnxruntime>=1.14.1->chromadb<0.5.0,>=0.4.17->embedchain<0.2.0,>=0.1.98->crewai==0.28.8) (1.12)\n",
            "Requirement already satisfied: opentelemetry-instrumentation-asgi==0.45b0 in /usr/local/lib/python3.10/dist-packages (from opentelemetry-instrumentation-fastapi>=0.41b0->chromadb<0.5.0,>=0.4.17->embedchain<0.2.0,>=0.1.98->crewai==0.28.8) (0.45b0)\n",
            "Requirement already satisfied: opentelemetry-instrumentation==0.45b0 in /usr/local/lib/python3.10/dist-packages (from opentelemetry-instrumentation-fastapi>=0.41b0->chromadb<0.5.0,>=0.4.17->embedchain<0.2.0,>=0.1.98->crewai==0.28.8) (0.45b0)\n",
            "Requirement already satisfied: opentelemetry-util-http==0.45b0 in /usr/local/lib/python3.10/dist-packages (from opentelemetry-instrumentation-fastapi>=0.41b0->chromadb<0.5.0,>=0.4.17->embedchain<0.2.0,>=0.1.98->crewai==0.28.8) (0.45b0)\n",
            "Requirement already satisfied: setuptools>=16.0 in /usr/local/lib/python3.10/dist-packages (from opentelemetry-instrumentation==0.45b0->opentelemetry-instrumentation-fastapi>=0.41b0->chromadb<0.5.0,>=0.4.17->embedchain<0.2.0,>=0.1.98->crewai==0.28.8) (67.7.2)\n",
            "Requirement already satisfied: asgiref~=3.0 in /usr/local/lib/python3.10/dist-packages (from opentelemetry-instrumentation-asgi==0.45b0->opentelemetry-instrumentation-fastapi>=0.41b0->chromadb<0.5.0,>=0.4.17->embedchain<0.2.0,>=0.1.98->crewai==0.28.8) (3.8.1)\n",
            "Requirement already satisfied: huggingface-hub<1.0,>=0.16.4 in /usr/local/lib/python3.10/dist-packages (from tokenizers>=0.13.2->chromadb<0.5.0,>=0.4.17->embedchain<0.2.0,>=0.1.98->crewai==0.28.8) (0.20.3)\n",
            "Requirement already satisfied: mypy-extensions>=0.3.0 in /usr/local/lib/python3.10/dist-packages (from typing-inspect<1,>=0.4.0->dataclasses-json<0.7,>=0.5.7->langchain<0.2.0,>=0.1.10->crewai==0.28.8) (1.0.0)\n",
            "Requirement already satisfied: httptools>=0.5.0 in /usr/local/lib/python3.10/dist-packages (from uvicorn[standard]>=0.18.3->chromadb<0.5.0,>=0.4.17->embedchain<0.2.0,>=0.1.98->crewai==0.28.8) (0.6.1)\n",
            "Requirement already satisfied: uvloop!=0.15.0,!=0.15.1,>=0.14.0 in /usr/local/lib/python3.10/dist-packages (from uvicorn[standard]>=0.18.3->chromadb<0.5.0,>=0.4.17->embedchain<0.2.0,>=0.1.98->crewai==0.28.8) (0.19.0)\n",
            "Requirement already satisfied: watchfiles>=0.13 in /usr/local/lib/python3.10/dist-packages (from uvicorn[standard]>=0.18.3->chromadb<0.5.0,>=0.4.17->embedchain<0.2.0,>=0.1.98->crewai==0.28.8) (0.21.0)\n",
            "Requirement already satisfied: websockets>=10.4 in /usr/local/lib/python3.10/dist-packages (from uvicorn[standard]>=0.18.3->chromadb<0.5.0,>=0.4.17->embedchain<0.2.0,>=0.1.98->crewai==0.28.8) (12.0)\n",
            "Requirement already satisfied: MarkupSafe>=0.9.2 in /usr/local/lib/python3.10/dist-packages (from Mako->alembic<2.0.0,>=1.13.1->embedchain<0.2.0,>=0.1.98->crewai==0.28.8) (2.1.5)\n",
            "Requirement already satisfied: google-crc32c<2.0dev,>=1.0 in /usr/local/lib/python3.10/dist-packages (from google-resumable-media<3.0dev,>=0.6.0->google-cloud-bigquery!=3.20.0,<4.0.0dev,>=1.15.0->google-cloud-aiplatform<2.0.0,>=1.26.1->embedchain<0.2.0,>=0.1.98->crewai==0.28.8) (1.5.0)\n",
            "Requirement already satisfied: filelock in /usr/local/lib/python3.10/dist-packages (from huggingface-hub<1.0,>=0.16.4->tokenizers>=0.13.2->chromadb<0.5.0,>=0.4.17->embedchain<0.2.0,>=0.1.98->crewai==0.28.8) (3.14.0)\n",
            "Requirement already satisfied: fsspec>=2023.5.0 in /usr/local/lib/python3.10/dist-packages (from huggingface-hub<1.0,>=0.16.4->tokenizers>=0.13.2->chromadb<0.5.0,>=0.4.17->embedchain<0.2.0,>=0.1.98->crewai==0.28.8) (2023.6.0)\n",
            "Requirement already satisfied: pyasn1<0.7.0,>=0.4.6 in /usr/local/lib/python3.10/dist-packages (from pyasn1-modules>=0.2.1->google-auth<3.0.0dev,>=2.14.1->google-cloud-aiplatform<2.0.0,>=1.26.1->embedchain<0.2.0,>=0.1.98->crewai==0.28.8) (0.6.0)\n",
            "Requirement already satisfied: humanfriendly>=9.1 in /usr/local/lib/python3.10/dist-packages (from coloredlogs->onnxruntime>=1.14.1->chromadb<0.5.0,>=0.4.17->embedchain<0.2.0,>=0.1.98->crewai==0.28.8) (10.0)\n",
            "Requirement already satisfied: mpmath>=0.19 in /usr/local/lib/python3.10/dist-packages (from sympy->onnxruntime>=1.14.1->chromadb<0.5.0,>=0.4.17->embedchain<0.2.0,>=0.1.98->crewai==0.28.8) (1.3.0)\n",
            "Installing collected packages: langchain-community\n",
            "  Attempting uninstall: langchain-community\n",
            "    Found existing installation: langchain-community 0.0.29\n",
            "    Uninstalling langchain-community-0.0.29:\n",
            "      Successfully uninstalled langchain-community-0.0.29\n",
            "Successfully installed langchain-community-0.0.38\n",
            "\u001b[31mERROR: Could not find a version that satisfies the requirement crewai_tools--0.1.6 (from versions: none)\u001b[0m\u001b[31m\n",
            "\u001b[0m\u001b[31mERROR: No matching distribution found for crewai_tools--0.1.6\u001b[0m\u001b[31m\n",
            "\u001b[0mCollecting langchain_community==0.0.29\n",
            "  Using cached langchain_community-0.0.29-py3-none-any.whl (1.8 MB)\n",
            "Requirement already satisfied: PyYAML>=5.3 in /usr/local/lib/python3.10/dist-packages (from langchain_community==0.0.29) (6.0.1)\n",
            "Requirement already satisfied: SQLAlchemy<3,>=1.4 in /usr/local/lib/python3.10/dist-packages (from langchain_community==0.0.29) (2.0.30)\n",
            "Requirement already satisfied: aiohttp<4.0.0,>=3.8.3 in /usr/local/lib/python3.10/dist-packages (from langchain_community==0.0.29) (3.9.5)\n",
            "Requirement already satisfied: dataclasses-json<0.7,>=0.5.7 in /usr/local/lib/python3.10/dist-packages (from langchain_community==0.0.29) (0.6.6)\n",
            "Requirement already satisfied: langchain-core<0.2.0,>=0.1.33 in /usr/local/lib/python3.10/dist-packages (from langchain_community==0.0.29) (0.1.52)\n",
            "Requirement already satisfied: langsmith<0.2.0,>=0.1.0 in /usr/local/lib/python3.10/dist-packages (from langchain_community==0.0.29) (0.1.59)\n",
            "Requirement already satisfied: numpy<2,>=1 in /usr/local/lib/python3.10/dist-packages (from langchain_community==0.0.29) (1.25.2)\n",
            "Requirement already satisfied: requests<3,>=2 in /usr/local/lib/python3.10/dist-packages (from langchain_community==0.0.29) (2.31.0)\n",
            "Requirement already satisfied: tenacity<9.0.0,>=8.1.0 in /usr/local/lib/python3.10/dist-packages (from langchain_community==0.0.29) (8.3.0)\n",
            "Requirement already satisfied: aiosignal>=1.1.2 in /usr/local/lib/python3.10/dist-packages (from aiohttp<4.0.0,>=3.8.3->langchain_community==0.0.29) (1.3.1)\n",
            "Requirement already satisfied: attrs>=17.3.0 in /usr/local/lib/python3.10/dist-packages (from aiohttp<4.0.0,>=3.8.3->langchain_community==0.0.29) (23.2.0)\n",
            "Requirement already satisfied: frozenlist>=1.1.1 in /usr/local/lib/python3.10/dist-packages (from aiohttp<4.0.0,>=3.8.3->langchain_community==0.0.29) (1.4.1)\n",
            "Requirement already satisfied: multidict<7.0,>=4.5 in /usr/local/lib/python3.10/dist-packages (from aiohttp<4.0.0,>=3.8.3->langchain_community==0.0.29) (6.0.5)\n",
            "Requirement already satisfied: yarl<2.0,>=1.0 in /usr/local/lib/python3.10/dist-packages (from aiohttp<4.0.0,>=3.8.3->langchain_community==0.0.29) (1.9.4)\n",
            "Requirement already satisfied: async-timeout<5.0,>=4.0 in /usr/local/lib/python3.10/dist-packages (from aiohttp<4.0.0,>=3.8.3->langchain_community==0.0.29) (4.0.3)\n",
            "Requirement already satisfied: marshmallow<4.0.0,>=3.18.0 in /usr/local/lib/python3.10/dist-packages (from dataclasses-json<0.7,>=0.5.7->langchain_community==0.0.29) (3.21.2)\n",
            "Requirement already satisfied: typing-inspect<1,>=0.4.0 in /usr/local/lib/python3.10/dist-packages (from dataclasses-json<0.7,>=0.5.7->langchain_community==0.0.29) (0.9.0)\n",
            "Requirement already satisfied: jsonpatch<2.0,>=1.33 in /usr/local/lib/python3.10/dist-packages (from langchain-core<0.2.0,>=0.1.33->langchain_community==0.0.29) (1.33)\n",
            "Requirement already satisfied: packaging<24.0,>=23.2 in /usr/local/lib/python3.10/dist-packages (from langchain-core<0.2.0,>=0.1.33->langchain_community==0.0.29) (23.2)\n",
            "Requirement already satisfied: pydantic<3,>=1 in /usr/local/lib/python3.10/dist-packages (from langchain-core<0.2.0,>=0.1.33->langchain_community==0.0.29) (2.7.1)\n",
            "Requirement already satisfied: orjson<4.0.0,>=3.9.14 in /usr/local/lib/python3.10/dist-packages (from langsmith<0.2.0,>=0.1.0->langchain_community==0.0.29) (3.10.3)\n",
            "Requirement already satisfied: charset-normalizer<4,>=2 in /usr/local/lib/python3.10/dist-packages (from requests<3,>=2->langchain_community==0.0.29) (3.3.2)\n",
            "Requirement already satisfied: idna<4,>=2.5 in /usr/local/lib/python3.10/dist-packages (from requests<3,>=2->langchain_community==0.0.29) (3.7)\n",
            "Requirement already satisfied: urllib3<3,>=1.21.1 in /usr/local/lib/python3.10/dist-packages (from requests<3,>=2->langchain_community==0.0.29) (2.0.7)\n",
            "Requirement already satisfied: certifi>=2017.4.17 in /usr/local/lib/python3.10/dist-packages (from requests<3,>=2->langchain_community==0.0.29) (2024.2.2)\n",
            "Requirement already satisfied: typing-extensions>=4.6.0 in /usr/local/lib/python3.10/dist-packages (from SQLAlchemy<3,>=1.4->langchain_community==0.0.29) (4.11.0)\n",
            "Requirement already satisfied: greenlet!=0.4.17 in /usr/local/lib/python3.10/dist-packages (from SQLAlchemy<3,>=1.4->langchain_community==0.0.29) (3.0.3)\n",
            "Requirement already satisfied: jsonpointer>=1.9 in /usr/local/lib/python3.10/dist-packages (from jsonpatch<2.0,>=1.33->langchain-core<0.2.0,>=0.1.33->langchain_community==0.0.29) (2.4)\n",
            "Requirement already satisfied: annotated-types>=0.4.0 in /usr/local/lib/python3.10/dist-packages (from pydantic<3,>=1->langchain-core<0.2.0,>=0.1.33->langchain_community==0.0.29) (0.6.0)\n",
            "Requirement already satisfied: pydantic-core==2.18.2 in /usr/local/lib/python3.10/dist-packages (from pydantic<3,>=1->langchain-core<0.2.0,>=0.1.33->langchain_community==0.0.29) (2.18.2)\n",
            "Requirement already satisfied: mypy-extensions>=0.3.0 in /usr/local/lib/python3.10/dist-packages (from typing-inspect<1,>=0.4.0->dataclasses-json<0.7,>=0.5.7->langchain_community==0.0.29) (1.0.0)\n",
            "Installing collected packages: langchain_community\n",
            "  Attempting uninstall: langchain_community\n",
            "    Found existing installation: langchain-community 0.0.38\n",
            "    Uninstalling langchain-community-0.0.38:\n",
            "      Successfully uninstalled langchain-community-0.0.38\n",
            "\u001b[31mERROR: pip's dependency resolver does not currently take into account all the packages that are installed. This behaviour is the source of the following dependency conflicts.\n",
            "langchain 0.1.20 requires langchain-community<0.1,>=0.0.38, but you have langchain-community 0.0.29 which is incompatible.\u001b[0m\u001b[31m\n",
            "\u001b[0mSuccessfully installed langchain_community-0.0.29\n",
            "Requirement already satisfied: utils in /usr/local/lib/python3.10/dist-packages (1.0.2)\n"
          ]
        }
      ]
    },
    {
      "cell_type": "markdown",
      "metadata": {
        "id": "iw4lN0jTNm_z"
      },
      "source": [
        "# L2: Create Agents to Research and Write an Article\n",
        "\n",
        "In this lesson, you will be introduced to the foundational concepts of multi-agent systems and get an overview of the crewAI framework."
      ]
    },
    {
      "cell_type": "markdown",
      "metadata": {
        "id": "1bMWCrF3Nm_0"
      },
      "source": [
        "The libraries are already installed in the classroom. If you're running this notebook on your own machine, you can install the following:\n",
        "```Python\n",
        "!pip install crewai==0.28.8 crewai_tools==0.1.6 langchain_community==0.0.29\n",
        "```"
      ]
    },
    {
      "cell_type": "code",
      "execution_count": 2,
      "metadata": {
        "height": 64,
        "id": "lSUveP9BNm_0"
      },
      "outputs": [],
      "source": [
        "# Warning control\n",
        "import warnings\n",
        "warnings.filterwarnings('ignore')"
      ]
    },
    {
      "cell_type": "markdown",
      "metadata": {
        "id": "95iAaWyoNm_1"
      },
      "source": [
        "- Import from the crewAI libray."
      ]
    },
    {
      "cell_type": "code",
      "execution_count": 3,
      "metadata": {
        "height": 30,
        "id": "n-aBWkU0Nm_1"
      },
      "outputs": [],
      "source": [
        "from crewai import Agent, Task, Crew"
      ]
    },
    {
      "cell_type": "markdown",
      "metadata": {
        "id": "dF1muW_tNm_2"
      },
      "source": [
        "- As a LLM for your agents, you'll be using OpenAI's `gpt-3.5-turbo`.\n",
        "\n",
        "**Optional Note:** crewAI also allow other popular models to be used as a LLM for your Agents. You can see some of the examples at the [bottom of the notebook](#1)."
      ]
    },
    {
      "cell_type": "code",
      "source": [
        "import os\n",
        "from google.colab import userdata"
      ],
      "metadata": {
        "id": "mWfwMFB_dNgd"
      },
      "execution_count": 5,
      "outputs": []
    },
    {
      "cell_type": "code",
      "source": [
        "openai_api_key = userdata.get(\"OPENAI_API_KEY\")"
      ],
      "metadata": {
        "id": "p708uS7MdUPF"
      },
      "execution_count": 6,
      "outputs": []
    },
    {
      "cell_type": "code",
      "source": [
        "os.environ[\"OPENAI_API_KEY\"] = openai_api_key"
      ],
      "metadata": {
        "id": "oZeojZdfdo4S"
      },
      "execution_count": 8,
      "outputs": []
    },
    {
      "cell_type": "code",
      "source": [
        "os.environ[\"OPENAI_MODEL_NAME\"] = 'gpt-3.5-turbo'"
      ],
      "metadata": {
        "id": "qoIhgoAwdvra"
      },
      "execution_count": 9,
      "outputs": []
    },
    {
      "cell_type": "markdown",
      "metadata": {
        "id": "z-8AlbYlNm_2"
      },
      "source": [
        "## Creating Agents\n",
        "\n",
        "- Define your Agents, and provide them a `role`, `goal` and `backstory`.\n",
        "- It has been seen that LLMs perform better when they are role playing."
      ]
    },
    {
      "cell_type": "markdown",
      "metadata": {
        "id": "rD7fxOwINm_2"
      },
      "source": [
        "### Agent: Planner\n",
        "\n",
        "**Note**: The benefit of using _multiple strings_ :\n",
        "```Python\n",
        "varname = \"line 1 of text\"\n",
        "          \"line 2 of text\"\n",
        "```\n",
        "\n",
        "versus the _triple quote docstring_:\n",
        "```Python\n",
        "varname = \"\"\"line 1 of text\n",
        "             line 2 of text\n",
        "          \"\"\"\n",
        "```\n",
        "is that it can avoid adding those whitespaces and newline characters, making it better formatted to be passed to the LLM."
      ]
    },
    {
      "cell_type": "code",
      "execution_count": 10,
      "metadata": {
        "height": 234,
        "id": "xmxMiaZYNm_3"
      },
      "outputs": [],
      "source": [
        "planner = Agent(\n",
        "    role=\"Content Planner\",\n",
        "    goal=\"Plan engaging and factually accurate content on {topic}\",\n",
        "    backstory=\"You're working on planning a blog article \"\n",
        "              \"about the topic: {topic}.\"\n",
        "              \"You collect information that helps the \"\n",
        "              \"audience learn something \"\n",
        "              \"and make informed decisions. \"\n",
        "              \"Your work is the basis for \"\n",
        "              \"the Content Writer to write an article on this topic.\",\n",
        "    allow_delegation=False,\n",
        "\t  verbose=True\n",
        ")"
      ]
    },
    {
      "cell_type": "code",
      "source": [],
      "metadata": {
        "id": "UI4jnevQWl13"
      },
      "execution_count": null,
      "outputs": []
    },
    {
      "cell_type": "markdown",
      "metadata": {
        "id": "I8atyFJ_Nm_3"
      },
      "source": [
        "### Agent: Writer"
      ]
    },
    {
      "cell_type": "code",
      "execution_count": 11,
      "metadata": {
        "height": 370,
        "id": "W6RKv36YNm_3"
      },
      "outputs": [],
      "source": [
        "writer = Agent(\n",
        "    role=\"Content Writer\",\n",
        "    goal=\"Write insightful and factually accurate \"\n",
        "         \"opinion piece about the topic: {topic}\",\n",
        "    backstory=\"You're working on a writing \"\n",
        "              \"a new opinion piece about the topic: {topic}. \"\n",
        "              \"You base your writing on the work of \"\n",
        "              \"the Content Planner, who provides an outline \"\n",
        "              \"and relevant context about the topic. \"\n",
        "              \"You follow the main objectives and \"\n",
        "              \"direction of the outline, \"\n",
        "              \"as provide by the Content Planner. \"\n",
        "              \"You also provide objective and impartial insights \"\n",
        "              \"and back them up with information \"\n",
        "              \"provide by the Content Planner. \"\n",
        "              \"You acknowledge in your opinion piece \"\n",
        "              \"when your statements are opinions \"\n",
        "              \"as opposed to objective statements.\",\n",
        "    allow_delegation=False,\n",
        "    verbose=True\n",
        ")"
      ]
    },
    {
      "cell_type": "markdown",
      "metadata": {
        "id": "K9Wonp3lNm_4"
      },
      "source": [
        "### Agent: Editor"
      ]
    },
    {
      "cell_type": "code",
      "execution_count": 12,
      "metadata": {
        "height": 268,
        "id": "-pLduGJZNm_4"
      },
      "outputs": [],
      "source": [
        "editor = Agent(\n",
        "    role=\"Editor\",\n",
        "    goal=\"Edit a given blog post to align with \"\n",
        "         \"the writing style of the organization. \",\n",
        "    backstory=\"You are an editor who receives a blog post \"\n",
        "              \"from the Content Writer. \"\n",
        "              \"Your goal is to review the blog post \"\n",
        "              \"to ensure that it follows journalistic best practices,\"\n",
        "              \"provides balanced viewpoints \"\n",
        "              \"when providing opinions or assertions, \"\n",
        "              \"and also avoids major controversial topics \"\n",
        "              \"or opinions when possible.\",\n",
        "    allow_delegation=False,\n",
        "    verbose=True\n",
        ")"
      ]
    },
    {
      "cell_type": "markdown",
      "metadata": {
        "id": "EY2thEJ4Nm_4"
      },
      "source": [
        "## Creating Tasks\n",
        "\n",
        "- Define your Tasks, and provide them a `description`, `expected_output` and `agent`."
      ]
    },
    {
      "cell_type": "markdown",
      "metadata": {
        "id": "JOEzyt5TNm_5"
      },
      "source": [
        "### Task: Plan"
      ]
    },
    {
      "cell_type": "code",
      "execution_count": 13,
      "metadata": {
        "height": 268,
        "id": "maiviIJbNm_5"
      },
      "outputs": [],
      "source": [
        "plan = Task(\n",
        "    description=(\n",
        "        \"1. Prioritize the latest trends, key players, \"\n",
        "            \"and noteworthy news on {topic}.\\n\"\n",
        "        \"2. Identify the target audience, considering \"\n",
        "            \"their interests and pain points.\\n\"\n",
        "        \"3. Develop a detailed content outline including \"\n",
        "            \"an introduction, key points, and a call to action.\\n\"\n",
        "        \"4. Include SEO keywords and relevant data or sources.\"\n",
        "    ),\n",
        "    expected_output=\"A comprehensive content plan document \"\n",
        "        \"with an outline, audience analysis, \"\n",
        "        \"SEO keywords, and resources.\",\n",
        "    agent=planner,\n",
        ")"
      ]
    },
    {
      "cell_type": "markdown",
      "metadata": {
        "id": "rcLwhEahNm_5"
      },
      "source": [
        "### Task: Write"
      ]
    },
    {
      "cell_type": "code",
      "execution_count": 14,
      "metadata": {
        "height": 319,
        "id": "UH6GyKI3Nm_5"
      },
      "outputs": [],
      "source": [
        "write = Task(\n",
        "    description=(\n",
        "        \"1. Use the content plan to craft a compelling \"\n",
        "            \"blog post on {topic}.\\n\"\n",
        "        \"2. Incorporate SEO keywords naturally.\\n\"\n",
        "\t\t\"3. Sections/Subtitles are properly named \"\n",
        "            \"in an engaging manner.\\n\"\n",
        "        \"4. Ensure the post is structured with an \"\n",
        "            \"engaging introduction, insightful body, \"\n",
        "            \"and a summarizing conclusion.\\n\"\n",
        "        \"5. Proofread for grammatical errors and \"\n",
        "            \"alignment with the brand's voice.\\n\"\n",
        "    ),\n",
        "    expected_output=\"A well-written blog post \"\n",
        "        \"in markdown format, ready for publication, \"\n",
        "        \"each section should have 2 or 3 paragraphs.\",\n",
        "    agent=writer,\n",
        ")"
      ]
    },
    {
      "cell_type": "markdown",
      "metadata": {
        "id": "5bDpLdipNm_7"
      },
      "source": [
        "### Task: Edit"
      ]
    },
    {
      "cell_type": "code",
      "execution_count": 15,
      "metadata": {
        "height": 166,
        "id": "V6gBIJK9Nm_7"
      },
      "outputs": [],
      "source": [
        "edit = Task(\n",
        "    description=(\"Proofread the given blog post for \"\n",
        "                 \"grammatical errors and \"\n",
        "                 \"alignment with the brand's voice.\"),\n",
        "    expected_output=\"A well-written blog post in markdown format, \"\n",
        "                    \"ready for publication, \"\n",
        "                    \"each section should have 2 or 3 paragraphs.\",\n",
        "    agent=editor\n",
        ")"
      ]
    },
    {
      "cell_type": "markdown",
      "metadata": {
        "id": "0NPPgcdbNm_8"
      },
      "source": [
        "## Creating the Crew\n",
        "\n",
        "- Create your crew of Agents\n",
        "- Pass the tasks to be performed by those agents.\n",
        "    - **Note**: *For this simple example*, the tasks will be performed sequentially (i.e they are dependent on each other), so the _order_ of the task in the list _matters_.\n",
        "- `verbose=2` allows you to see all the logs of the execution."
      ]
    },
    {
      "cell_type": "code",
      "execution_count": 16,
      "metadata": {
        "height": 98,
        "id": "uOlzB8jBNm_8"
      },
      "outputs": [],
      "source": [
        "crew = Crew(\n",
        "    agents=[planner, writer, editor],\n",
        "    tasks=[plan, write, edit],\n",
        "    verbose=2\n",
        ")"
      ]
    },
    {
      "cell_type": "markdown",
      "metadata": {
        "id": "FzRcMvO8Nm_9"
      },
      "source": [
        "## Running the Crew"
      ]
    },
    {
      "cell_type": "markdown",
      "metadata": {
        "id": "Y0ln-GylNm_9"
      },
      "source": [
        "**Note**: LLMs can provide different outputs for they same input, so what you get might be different than what you see in the video."
      ]
    },
    {
      "cell_type": "code",
      "execution_count": 17,
      "metadata": {
        "height": 30,
        "colab": {
          "base_uri": "https://localhost:8080/"
        },
        "id": "T64zfVoaNm_9",
        "outputId": "84ee51f7-c4dd-48d6-eb11-487072124d93"
      },
      "outputs": [
        {
          "output_type": "stream",
          "name": "stdout",
          "text": [
            "\u001b[1m\u001b[95m [DEBUG]: == Working Agent: Content Planner\u001b[00m\n",
            "\u001b[1m\u001b[95m [INFO]: == Starting Task: 1. Prioritize the latest trends, key players, and noteworthy news on Artificial Intelligence.\n",
            "2. Identify the target audience, considering their interests and pain points.\n",
            "3. Develop a detailed content outline including an introduction, key points, and a call to action.\n",
            "4. Include SEO keywords and relevant data or sources.\u001b[00m\n",
            "\n",
            "\n",
            "\u001b[1m> Entering new CrewAgentExecutor chain...\u001b[0m\n",
            "\u001b[32;1m\u001b[1;3mI now can give a great answer\n",
            "\n",
            "Final Answer: \n",
            "\n",
            "Content Plan for Blog Article on Artificial Intelligence\n",
            "\n",
            "Introduction:\n",
            "- Brief overview of Artificial Intelligence (AI) and its impact on various industries\n",
            "- Mention of the latest trends in AI technology and key players in the industry\n",
            "\n",
            "Key Points:\n",
            "1. Latest Trends in AI:\n",
            "- Advancements in natural language processing and speech recognition\n",
            "- Increased adoption of AI in healthcare, finance, and retail sectors\n",
            "- Growth of AI-powered virtual assistants and chatbots\n",
            "\n",
            "2. Key Players in AI Industry:\n",
            "- Google, Amazon, and Microsoft leading in AI research and development\n",
            "- Startups like OpenAI and UiPath disrupting the industry with innovative solutions\n",
            "- Academic institutions contributing to AI research and talent development\n",
            "\n",
            "3. Noteworthy News in AI:\n",
            "- Recent breakthroughs in deep learning algorithms\n",
            "- Ethical considerations in AI development and deployment\n",
            "- Impact of AI on job automation and workforce transformation\n",
            "\n",
            "Target Audience:\n",
            "- Professionals in tech, business, and academia interested in AI trends and applications\n",
            "- Entrepreneurs and decision-makers seeking to leverage AI for business growth\n",
            "- Students and enthusiasts curious about the latest developments in artificial intelligence\n",
            "\n",
            "SEO Keywords:\n",
            "- Artificial Intelligence trends\n",
            "- AI industry players\n",
            "- Latest news in AI\n",
            "- AI applications in business\n",
            "- Ethical AI development\n",
            "\n",
            "Call to Action:\n",
            "- Encourage readers to stay updated on AI news and developments\n",
            "- Invite audience to share their thoughts and experiences with AI technology\n",
            "- Provide links to related resources and further reading materials\n",
            "\n",
            "Resources:\n",
            "1. Forbes: \"Top AI Trends to Watch in 2021\"\n",
            "2. TechCrunch: \"Key Players in the AI Industry\"\n",
            "3. Harvard Business Review: \"Ethics in AI: A Framework for Responsible Innovation\"\n",
            "\n",
            "By following this content plan, the blog article on Artificial Intelligence will provide valuable insights and information to the target audience, helping them stay informed and make better decisions in the rapidly evolving AI landscape.\u001b[0m\n",
            "\n",
            "\u001b[1m> Finished chain.\u001b[0m\n",
            "\u001b[1m\u001b[92m [DEBUG]: == [Content Planner] Task output: Content Plan for Blog Article on Artificial Intelligence\n",
            "\n",
            "Introduction:\n",
            "- Brief overview of Artificial Intelligence (AI) and its impact on various industries\n",
            "- Mention of the latest trends in AI technology and key players in the industry\n",
            "\n",
            "Key Points:\n",
            "1. Latest Trends in AI:\n",
            "- Advancements in natural language processing and speech recognition\n",
            "- Increased adoption of AI in healthcare, finance, and retail sectors\n",
            "- Growth of AI-powered virtual assistants and chatbots\n",
            "\n",
            "2. Key Players in AI Industry:\n",
            "- Google, Amazon, and Microsoft leading in AI research and development\n",
            "- Startups like OpenAI and UiPath disrupting the industry with innovative solutions\n",
            "- Academic institutions contributing to AI research and talent development\n",
            "\n",
            "3. Noteworthy News in AI:\n",
            "- Recent breakthroughs in deep learning algorithms\n",
            "- Ethical considerations in AI development and deployment\n",
            "- Impact of AI on job automation and workforce transformation\n",
            "\n",
            "Target Audience:\n",
            "- Professionals in tech, business, and academia interested in AI trends and applications\n",
            "- Entrepreneurs and decision-makers seeking to leverage AI for business growth\n",
            "- Students and enthusiasts curious about the latest developments in artificial intelligence\n",
            "\n",
            "SEO Keywords:\n",
            "- Artificial Intelligence trends\n",
            "- AI industry players\n",
            "- Latest news in AI\n",
            "- AI applications in business\n",
            "- Ethical AI development\n",
            "\n",
            "Call to Action:\n",
            "- Encourage readers to stay updated on AI news and developments\n",
            "- Invite audience to share their thoughts and experiences with AI technology\n",
            "- Provide links to related resources and further reading materials\n",
            "\n",
            "Resources:\n",
            "1. Forbes: \"Top AI Trends to Watch in 2021\"\n",
            "2. TechCrunch: \"Key Players in the AI Industry\"\n",
            "3. Harvard Business Review: \"Ethics in AI: A Framework for Responsible Innovation\"\n",
            "\n",
            "By following this content plan, the blog article on Artificial Intelligence will provide valuable insights and information to the target audience, helping them stay informed and make better decisions in the rapidly evolving AI landscape.\n",
            "\n",
            "\u001b[00m\n",
            "\u001b[1m\u001b[95m [DEBUG]: == Working Agent: Content Writer\u001b[00m\n",
            "\u001b[1m\u001b[95m [INFO]: == Starting Task: 1. Use the content plan to craft a compelling blog post on Artificial Intelligence.\n",
            "2. Incorporate SEO keywords naturally.\n",
            "3. Sections/Subtitles are properly named in an engaging manner.\n",
            "4. Ensure the post is structured with an engaging introduction, insightful body, and a summarizing conclusion.\n",
            "5. Proofread for grammatical errors and alignment with the brand's voice.\n",
            "\u001b[00m\n",
            "\n",
            "\n",
            "\u001b[1m> Entering new CrewAgentExecutor chain...\u001b[0m\n",
            "\u001b[32;1m\u001b[1;3mI understand the importance of crafting a compelling and informative blog post on Artificial Intelligence based on the provided content plan. By incorporating the latest trends in AI technology, discussing key players in the industry, and highlighting noteworthy news in AI, I aim to engage professionals, entrepreneurs, students, and enthusiasts interested in the evolving landscape of artificial intelligence. My goal is to provide valuable insights and encourage readers to explore further resources on AI trends and applications.\n",
            "\n",
            "Final Answer:\n",
            "\n",
            "# The Evolution of Artificial Intelligence: Trends, Players, and Impact\n",
            "\n",
            "## Introduction\n",
            "\n",
            "Artificial Intelligence (AI) has become a transformative force across various industries, revolutionizing the way businesses operate and individuals interact with technology. The latest trends in AI technology, coupled with advancements in natural language processing and speech recognition, have paved the way for increased adoption in sectors such as healthcare, finance, and retail. Companies like Google, Amazon, and Microsoft are at the forefront of AI research and development, while startups like OpenAI and UiPath are disrupting the industry with innovative solutions. Academic institutions also play a crucial role in contributing to AI research and talent development, shaping the future of this rapidly evolving field.\n",
            "\n",
            "## Latest Trends in AI\n",
            "\n",
            "In recent years, AI-powered virtual assistants and chatbots have become ubiquitous, enhancing customer service and streamlining processes in various industries. The continuous advancements in deep learning algorithms have led to breakthroughs in AI capabilities, enabling machines to perform complex tasks with human-like precision. Furthermore, the ethical considerations surrounding AI development and deployment have gained prominence, prompting discussions on responsible innovation and the societal impact of AI technologies. As AI continues to evolve, it is essential for businesses and policymakers to address the challenges and opportunities presented by this transformative technology.\n",
            "\n",
            "## Key Players in AI Industry\n",
            "\n",
            "The AI industry is dominated by tech giants like Google, Amazon, and Microsoft, who invest heavily in research and development to drive innovation in AI. These companies leverage their vast resources and expertise to push the boundaries of AI capabilities, creating cutting-edge solutions that shape the future of technology. At the same time, startups such as OpenAI and UiPath bring fresh perspectives and disruptive technologies to the market, challenging established players and driving industry-wide innovation. With academic institutions also contributing to AI research and talent development, the landscape of the AI industry is dynamic and diverse, offering a wealth of opportunities for collaboration and advancement.\n",
            "\n",
            "## Noteworthy News in AI\n",
            "\n",
            "Recent breakthroughs in deep learning algorithms have enabled AI systems to achieve remarkable feats, from natural language processing to image recognition. However, as AI technologies become more sophisticated, ethical considerations become increasingly important. The ethical implications of AI development, including issues of bias, privacy, and transparency, have sparked debates on responsible AI innovation and the need for regulatory frameworks to ensure the ethical deployment of AI technologies. Moreover, the impact of AI on job automation and workforce transformation raises questions about the future of work and the role of AI in shaping the global economy. By addressing these challenges and opportunities, the AI industry can pave the way for a more inclusive and sustainable future for all.\n",
            "\n",
            "In conclusion, Artificial Intelligence continues to reshape the world as we know it, with the latest trends, key players, and noteworthy news driving innovation and transformation across industries. By staying informed and engaging with the evolving landscape of AI technology, professionals, entrepreneurs, students, and enthusiasts can harness the power of AI to drive business growth, foster responsible innovation, and shape a brighter future for all. Stay updated on AI news and developments, share your thoughts and experiences with AI technology, and explore related resources for further reading and learning. The future of AI is here, and it's up to us to shape it responsibly and ethically.\u001b[0m\n",
            "\n",
            "\u001b[1m> Finished chain.\u001b[0m\n",
            "\u001b[1m\u001b[92m [DEBUG]: == [Content Writer] Task output: # The Evolution of Artificial Intelligence: Trends, Players, and Impact\n",
            "\n",
            "## Introduction\n",
            "\n",
            "Artificial Intelligence (AI) has become a transformative force across various industries, revolutionizing the way businesses operate and individuals interact with technology. The latest trends in AI technology, coupled with advancements in natural language processing and speech recognition, have paved the way for increased adoption in sectors such as healthcare, finance, and retail. Companies like Google, Amazon, and Microsoft are at the forefront of AI research and development, while startups like OpenAI and UiPath are disrupting the industry with innovative solutions. Academic institutions also play a crucial role in contributing to AI research and talent development, shaping the future of this rapidly evolving field.\n",
            "\n",
            "## Latest Trends in AI\n",
            "\n",
            "In recent years, AI-powered virtual assistants and chatbots have become ubiquitous, enhancing customer service and streamlining processes in various industries. The continuous advancements in deep learning algorithms have led to breakthroughs in AI capabilities, enabling machines to perform complex tasks with human-like precision. Furthermore, the ethical considerations surrounding AI development and deployment have gained prominence, prompting discussions on responsible innovation and the societal impact of AI technologies. As AI continues to evolve, it is essential for businesses and policymakers to address the challenges and opportunities presented by this transformative technology.\n",
            "\n",
            "## Key Players in AI Industry\n",
            "\n",
            "The AI industry is dominated by tech giants like Google, Amazon, and Microsoft, who invest heavily in research and development to drive innovation in AI. These companies leverage their vast resources and expertise to push the boundaries of AI capabilities, creating cutting-edge solutions that shape the future of technology. At the same time, startups such as OpenAI and UiPath bring fresh perspectives and disruptive technologies to the market, challenging established players and driving industry-wide innovation. With academic institutions also contributing to AI research and talent development, the landscape of the AI industry is dynamic and diverse, offering a wealth of opportunities for collaboration and advancement.\n",
            "\n",
            "## Noteworthy News in AI\n",
            "\n",
            "Recent breakthroughs in deep learning algorithms have enabled AI systems to achieve remarkable feats, from natural language processing to image recognition. However, as AI technologies become more sophisticated, ethical considerations become increasingly important. The ethical implications of AI development, including issues of bias, privacy, and transparency, have sparked debates on responsible AI innovation and the need for regulatory frameworks to ensure the ethical deployment of AI technologies. Moreover, the impact of AI on job automation and workforce transformation raises questions about the future of work and the role of AI in shaping the global economy. By addressing these challenges and opportunities, the AI industry can pave the way for a more inclusive and sustainable future for all.\n",
            "\n",
            "In conclusion, Artificial Intelligence continues to reshape the world as we know it, with the latest trends, key players, and noteworthy news driving innovation and transformation across industries. By staying informed and engaging with the evolving landscape of AI technology, professionals, entrepreneurs, students, and enthusiasts can harness the power of AI to drive business growth, foster responsible innovation, and shape a brighter future for all. Stay updated on AI news and developments, share your thoughts and experiences with AI technology, and explore related resources for further reading and learning. The future of AI is here, and it's up to us to shape it responsibly and ethically.\n",
            "\n",
            "\u001b[00m\n",
            "\u001b[1m\u001b[95m [DEBUG]: == Working Agent: Editor\u001b[00m\n",
            "\u001b[1m\u001b[95m [INFO]: == Starting Task: Proofread the given blog post for grammatical errors and alignment with the brand's voice.\u001b[00m\n",
            "\n",
            "\n",
            "\u001b[1m> Entering new CrewAgentExecutor chain...\u001b[0m\n",
            "\u001b[32;1m\u001b[1;3mI now can give a great answer\n",
            "\n",
            "Final Answer:\n",
            "# The Evolution of Artificial Intelligence: Trends, Players, and Impact\n",
            "\n",
            "## Introduction\n",
            "\n",
            "Artificial Intelligence (AI) has become a transformative force across various industries, revolutionizing the way businesses operate and individuals interact with technology. The latest trends in AI technology, coupled with advancements in natural language processing and speech recognition, have paved the way for increased adoption in sectors such as healthcare, finance, and retail. Companies like Google, Amazon, and Microsoft are at the forefront of AI research and development, while startups like OpenAI and UiPath are disrupting the industry with innovative solutions. Academic institutions also play a crucial role in contributing to AI research and talent development, shaping the future of this rapidly evolving field.\n",
            "\n",
            "## Latest Trends in AI\n",
            "\n",
            "In recent years, AI-powered virtual assistants and chatbots have become ubiquitous, enhancing customer service and streamlining processes in various industries. The continuous advancements in deep learning algorithms have led to breakthroughs in AI capabilities, enabling machines to perform complex tasks with human-like precision. Furthermore, the ethical considerations surrounding AI development and deployment have gained prominence, prompting discussions on responsible innovation and the societal impact of AI technologies. As AI continues to evolve, it is essential for businesses and policymakers to address the challenges and opportunities presented by this transformative technology.\n",
            "\n",
            "## Key Players in AI Industry\n",
            "\n",
            "The AI industry is dominated by tech giants like Google, Amazon, and Microsoft, who invest heavily in research and development to drive innovation in AI. These companies leverage their vast resources and expertise to push the boundaries of AI capabilities, creating cutting-edge solutions that shape the future of technology. At the same time, startups such as OpenAI and UiPath bring fresh perspectives and disruptive technologies to the market, challenging established players and driving industry-wide innovation. With academic institutions also contributing to AI research and talent development, the landscape of the AI industry is dynamic and diverse, offering a wealth of opportunities for collaboration and advancement.\n",
            "\n",
            "## Noteworthy News in AI\n",
            "\n",
            "Recent breakthroughs in deep learning algorithms have enabled AI systems to achieve remarkable feats, from natural language processing to image recognition. However, as AI technologies become more sophisticated, ethical considerations become increasingly important. The ethical implications of AI development, including issues of bias, privacy, and transparency, have sparked debates on responsible AI innovation and the need for regulatory frameworks to ensure the ethical deployment of AI technologies. Moreover, the impact of AI on job automation and workforce transformation raises questions about the future of work and the role of AI in shaping the global economy. By addressing these challenges and opportunities, the AI industry can pave the way for a more inclusive and sustainable future for all.\n",
            "\n",
            "In conclusion, Artificial Intelligence continues to reshape the world as we know it, with the latest trends, key players, and noteworthy news driving innovation and transformation across industries. By staying informed and engaging with the evolving landscape of AI technology, professionals, entrepreneurs, students, and enthusiasts can harness the power of AI to drive business growth, foster responsible innovation, and shape a brighter future for all. Stay updated on AI news and developments, share your thoughts and experiences with AI technology, and explore related resources for further reading and learning. The future of AI is here, and it's up to us to shape it responsibly and ethically.\u001b[0m\n",
            "\n",
            "\u001b[1m> Finished chain.\u001b[0m\n",
            "\u001b[1m\u001b[92m [DEBUG]: == [Editor] Task output: # The Evolution of Artificial Intelligence: Trends, Players, and Impact\n",
            "\n",
            "## Introduction\n",
            "\n",
            "Artificial Intelligence (AI) has become a transformative force across various industries, revolutionizing the way businesses operate and individuals interact with technology. The latest trends in AI technology, coupled with advancements in natural language processing and speech recognition, have paved the way for increased adoption in sectors such as healthcare, finance, and retail. Companies like Google, Amazon, and Microsoft are at the forefront of AI research and development, while startups like OpenAI and UiPath are disrupting the industry with innovative solutions. Academic institutions also play a crucial role in contributing to AI research and talent development, shaping the future of this rapidly evolving field.\n",
            "\n",
            "## Latest Trends in AI\n",
            "\n",
            "In recent years, AI-powered virtual assistants and chatbots have become ubiquitous, enhancing customer service and streamlining processes in various industries. The continuous advancements in deep learning algorithms have led to breakthroughs in AI capabilities, enabling machines to perform complex tasks with human-like precision. Furthermore, the ethical considerations surrounding AI development and deployment have gained prominence, prompting discussions on responsible innovation and the societal impact of AI technologies. As AI continues to evolve, it is essential for businesses and policymakers to address the challenges and opportunities presented by this transformative technology.\n",
            "\n",
            "## Key Players in AI Industry\n",
            "\n",
            "The AI industry is dominated by tech giants like Google, Amazon, and Microsoft, who invest heavily in research and development to drive innovation in AI. These companies leverage their vast resources and expertise to push the boundaries of AI capabilities, creating cutting-edge solutions that shape the future of technology. At the same time, startups such as OpenAI and UiPath bring fresh perspectives and disruptive technologies to the market, challenging established players and driving industry-wide innovation. With academic institutions also contributing to AI research and talent development, the landscape of the AI industry is dynamic and diverse, offering a wealth of opportunities for collaboration and advancement.\n",
            "\n",
            "## Noteworthy News in AI\n",
            "\n",
            "Recent breakthroughs in deep learning algorithms have enabled AI systems to achieve remarkable feats, from natural language processing to image recognition. However, as AI technologies become more sophisticated, ethical considerations become increasingly important. The ethical implications of AI development, including issues of bias, privacy, and transparency, have sparked debates on responsible AI innovation and the need for regulatory frameworks to ensure the ethical deployment of AI technologies. Moreover, the impact of AI on job automation and workforce transformation raises questions about the future of work and the role of AI in shaping the global economy. By addressing these challenges and opportunities, the AI industry can pave the way for a more inclusive and sustainable future for all.\n",
            "\n",
            "In conclusion, Artificial Intelligence continues to reshape the world as we know it, with the latest trends, key players, and noteworthy news driving innovation and transformation across industries. By staying informed and engaging with the evolving landscape of AI technology, professionals, entrepreneurs, students, and enthusiasts can harness the power of AI to drive business growth, foster responsible innovation, and shape a brighter future for all. Stay updated on AI news and developments, share your thoughts and experiences with AI technology, and explore related resources for further reading and learning. The future of AI is here, and it's up to us to shape it responsibly and ethically.\n",
            "\n",
            "\u001b[00m\n"
          ]
        }
      ],
      "source": [
        "result = crew.kickoff(inputs={\"topic\": \"Artificial Intelligence\"})"
      ]
    },
    {
      "cell_type": "markdown",
      "metadata": {
        "id": "FgMTtuemNm_9"
      },
      "source": [
        "- Display the results of your execution as markdown in the notebook."
      ]
    },
    {
      "cell_type": "code",
      "execution_count": 18,
      "metadata": {
        "height": 47,
        "colab": {
          "base_uri": "https://localhost:8080/",
          "height": 732
        },
        "id": "wQ4ZZupNNm_9",
        "outputId": "a213fcdf-57cc-485c-e472-f8d5fb46a13c"
      },
      "outputs": [
        {
          "output_type": "execute_result",
          "data": {
            "text/plain": [
              "<IPython.core.display.Markdown object>"
            ],
            "text/markdown": "# The Evolution of Artificial Intelligence: Trends, Players, and Impact\n\n## Introduction\n\nArtificial Intelligence (AI) has become a transformative force across various industries, revolutionizing the way businesses operate and individuals interact with technology. The latest trends in AI technology, coupled with advancements in natural language processing and speech recognition, have paved the way for increased adoption in sectors such as healthcare, finance, and retail. Companies like Google, Amazon, and Microsoft are at the forefront of AI research and development, while startups like OpenAI and UiPath are disrupting the industry with innovative solutions. Academic institutions also play a crucial role in contributing to AI research and talent development, shaping the future of this rapidly evolving field.\n\n## Latest Trends in AI\n\nIn recent years, AI-powered virtual assistants and chatbots have become ubiquitous, enhancing customer service and streamlining processes in various industries. The continuous advancements in deep learning algorithms have led to breakthroughs in AI capabilities, enabling machines to perform complex tasks with human-like precision. Furthermore, the ethical considerations surrounding AI development and deployment have gained prominence, prompting discussions on responsible innovation and the societal impact of AI technologies. As AI continues to evolve, it is essential for businesses and policymakers to address the challenges and opportunities presented by this transformative technology.\n\n## Key Players in AI Industry\n\nThe AI industry is dominated by tech giants like Google, Amazon, and Microsoft, who invest heavily in research and development to drive innovation in AI. These companies leverage their vast resources and expertise to push the boundaries of AI capabilities, creating cutting-edge solutions that shape the future of technology. At the same time, startups such as OpenAI and UiPath bring fresh perspectives and disruptive technologies to the market, challenging established players and driving industry-wide innovation. With academic institutions also contributing to AI research and talent development, the landscape of the AI industry is dynamic and diverse, offering a wealth of opportunities for collaboration and advancement.\n\n## Noteworthy News in AI\n\nRecent breakthroughs in deep learning algorithms have enabled AI systems to achieve remarkable feats, from natural language processing to image recognition. However, as AI technologies become more sophisticated, ethical considerations become increasingly important. The ethical implications of AI development, including issues of bias, privacy, and transparency, have sparked debates on responsible AI innovation and the need for regulatory frameworks to ensure the ethical deployment of AI technologies. Moreover, the impact of AI on job automation and workforce transformation raises questions about the future of work and the role of AI in shaping the global economy. By addressing these challenges and opportunities, the AI industry can pave the way for a more inclusive and sustainable future for all.\n\nIn conclusion, Artificial Intelligence continues to reshape the world as we know it, with the latest trends, key players, and noteworthy news driving innovation and transformation across industries. By staying informed and engaging with the evolving landscape of AI technology, professionals, entrepreneurs, students, and enthusiasts can harness the power of AI to drive business growth, foster responsible innovation, and shape a brighter future for all. Stay updated on AI news and developments, share your thoughts and experiences with AI technology, and explore related resources for further reading and learning. The future of AI is here, and it's up to us to shape it responsibly and ethically."
          },
          "metadata": {},
          "execution_count": 18
        }
      ],
      "source": [
        "from IPython.display import Markdown\n",
        "Markdown(result)"
      ]
    },
    {
      "cell_type": "markdown",
      "metadata": {
        "id": "hK4UJoC5Nm_9"
      },
      "source": [
        "## Try it Yourself\n",
        "\n",
        "- Pass in a topic of your choice and see what the agents come up with!"
      ]
    },
    {
      "cell_type": "code",
      "execution_count": null,
      "metadata": {
        "height": 47,
        "id": "zeHec7D_Nm_9"
      },
      "outputs": [],
      "source": [
        "# topic = \"YOUR TOPIC HERE\"\n",
        "# result = crew.kickoff(inputs={\"topic\": topic})"
      ]
    },
    {
      "cell_type": "code",
      "execution_count": 19,
      "metadata": {
        "height": 47,
        "colab": {
          "base_uri": "https://localhost:8080/"
        },
        "id": "hhL3PFl4aULY",
        "outputId": "cfb97aa2-249c-428b-b09c-c09075492826"
      },
      "outputs": [
        {
          "output_type": "stream",
          "name": "stdout",
          "text": [
            "\u001b[1m\u001b[95m [DEBUG]: == Working Agent: Content Planner\u001b[00m\n",
            "\u001b[1m\u001b[95m [INFO]: == Starting Task: 1. Prioritize the latest trends, key players, and noteworthy news on Quantum mechanics.\n",
            "2. Identify the target audience, considering their interests and pain points.\n",
            "3. Develop a detailed content outline including an introduction, key points, and a call to action.\n",
            "4. Include SEO keywords and relevant data or sources.\u001b[00m\n",
            "\n",
            "\n",
            "\u001b[1m> Entering new CrewAgentExecutor chain...\u001b[0m\n",
            "\u001b[32;1m\u001b[1;3mI now can give a great answer\n",
            "\n",
            "Final Answer: \n",
            "\n",
            "Content Plan: Quantum Mechanics Blog Article\n",
            "\n",
            "Outline:\n",
            "I. Introduction\n",
            "    A. Definition of Quantum Mechanics\n",
            "    B. Importance and Applications in the Modern World\n",
            "\n",
            "II. Key Points\n",
            "    A. History and Development of Quantum Mechanics\n",
            "    B. Fundamental Principles of Quantum Mechanics\n",
            "    C. Quantum Mechanics vs. Classical Mechanics\n",
            "    D. Quantum Entanglement and Superposition\n",
            "    E. Quantum Computing and Future Implications\n",
            "\n",
            "III. Call to Action\n",
            "    A. Encourage further exploration and learning about Quantum Mechanics\n",
            "    B. Provide resources for additional reading and research\n",
            "\n",
            "Audience Analysis:\n",
            "Target Audience: Science enthusiasts, tech professionals, students, and anyone interested in cutting-edge technology and scientific advancements.\n",
            "Interests: Curiosity about the universe, interest in technology and innovation, desire to understand complex scientific concepts.\n",
            "Pain Points: Confusion about Quantum Mechanics, lack of accessible resources for learning, difficulty in grasping the implications of quantum phenomena.\n",
            "\n",
            "SEO Keywords:\n",
            "- Quantum Mechanics\n",
            "- Quantum Computing\n",
            "- Quantum Entanglement\n",
            "- Quantum Superposition\n",
            "- Quantum Theory\n",
            "- Quantum Physics\n",
            "- Modern Physics\n",
            "\n",
            "Resources:\n",
            "1. \"Quantum Mechanics: The Theoretical Minimum\" by Leonard Susskind and Art Friedman\n",
            "2. \"Quantum Computing: An Applied Approach\" by Jack D. Hidary\n",
            "3. Stanford Encyclopedia of Philosophy - Quantum Mechanics\n",
            "4. MIT OpenCourseWare - Quantum Physics\n",
            "5. National Aeronautics and Space Administration (NASA) - Quantum Information Science\n",
            "\n",
            "By following this content plan, the blog article on Quantum Mechanics will provide valuable information, engage the target audience, and encourage further exploration and understanding of this fascinating scientific field.\u001b[0m\n",
            "\n",
            "\u001b[1m> Finished chain.\u001b[0m\n",
            "\u001b[1m\u001b[92m [DEBUG]: == [Content Planner] Task output: Content Plan: Quantum Mechanics Blog Article\n",
            "\n",
            "Outline:\n",
            "I. Introduction\n",
            "    A. Definition of Quantum Mechanics\n",
            "    B. Importance and Applications in the Modern World\n",
            "\n",
            "II. Key Points\n",
            "    A. History and Development of Quantum Mechanics\n",
            "    B. Fundamental Principles of Quantum Mechanics\n",
            "    C. Quantum Mechanics vs. Classical Mechanics\n",
            "    D. Quantum Entanglement and Superposition\n",
            "    E. Quantum Computing and Future Implications\n",
            "\n",
            "III. Call to Action\n",
            "    A. Encourage further exploration and learning about Quantum Mechanics\n",
            "    B. Provide resources for additional reading and research\n",
            "\n",
            "Audience Analysis:\n",
            "Target Audience: Science enthusiasts, tech professionals, students, and anyone interested in cutting-edge technology and scientific advancements.\n",
            "Interests: Curiosity about the universe, interest in technology and innovation, desire to understand complex scientific concepts.\n",
            "Pain Points: Confusion about Quantum Mechanics, lack of accessible resources for learning, difficulty in grasping the implications of quantum phenomena.\n",
            "\n",
            "SEO Keywords:\n",
            "- Quantum Mechanics\n",
            "- Quantum Computing\n",
            "- Quantum Entanglement\n",
            "- Quantum Superposition\n",
            "- Quantum Theory\n",
            "- Quantum Physics\n",
            "- Modern Physics\n",
            "\n",
            "Resources:\n",
            "1. \"Quantum Mechanics: The Theoretical Minimum\" by Leonard Susskind and Art Friedman\n",
            "2. \"Quantum Computing: An Applied Approach\" by Jack D. Hidary\n",
            "3. Stanford Encyclopedia of Philosophy - Quantum Mechanics\n",
            "4. MIT OpenCourseWare - Quantum Physics\n",
            "5. National Aeronautics and Space Administration (NASA) - Quantum Information Science\n",
            "\n",
            "By following this content plan, the blog article on Quantum Mechanics will provide valuable information, engage the target audience, and encourage further exploration and understanding of this fascinating scientific field.\n",
            "\n",
            "\u001b[00m\n",
            "\u001b[1m\u001b[95m [DEBUG]: == Working Agent: Content Writer\u001b[00m\n",
            "\u001b[1m\u001b[95m [INFO]: == Starting Task: 1. Use the content plan to craft a compelling blog post on Quantum mechanics.\n",
            "2. Incorporate SEO keywords naturally.\n",
            "3. Sections/Subtitles are properly named in an engaging manner.\n",
            "4. Ensure the post is structured with an engaging introduction, insightful body, and a summarizing conclusion.\n",
            "5. Proofread for grammatical errors and alignment with the brand's voice.\n",
            "\u001b[00m\n",
            "\n",
            "\n",
            "\u001b[1m> Entering new CrewAgentExecutor chain...\u001b[0m\n",
            "\u001b[32;1m\u001b[1;3mI now can give a great answer\n",
            "\n",
            "Final Answer:\n",
            "\n",
            "# Exploring the Wonders of Quantum Mechanics\n",
            "\n",
            "## Introduction\n",
            "\n",
            "Quantum Mechanics is a fascinating branch of physics that delves into the bizarre and mind-bending world of the very small. At its core, Quantum Mechanics seeks to understand the behavior of particles at the quantum level, where classical physics fails to provide a complete explanation. This field has revolutionized our understanding of the universe and has led to groundbreaking advancements in technology and science.\n",
            "\n",
            "The importance of Quantum Mechanics in the modern world cannot be overstated. From quantum computers to quantum cryptography, the applications of this field are vast and continue to expand. Understanding Quantum Mechanics is essential for anyone interested in cutting-edge technology and scientific advancements.\n",
            "\n",
            "## Key Points\n",
            "\n",
            "### History and Development of Quantum Mechanics\n",
            "\n",
            "Quantum Mechanics has a rich history that dates back to the early 20th century. Pioneered by scientists such as Max Planck, Albert Einstein, Niels Bohr, and Erwin Schrödinger, Quantum Mechanics emerged as a response to the limitations of classical physics. The development of Quantum Mechanics revolutionized our understanding of the behavior of particles at the subatomic level and laid the foundation for modern physics.\n",
            "\n",
            "### Fundamental Principles of Quantum Mechanics\n",
            "\n",
            "At the heart of Quantum Mechanics lie several fundamental principles that govern the behavior of particles at the quantum level. These include principles such as wave-particle duality, the uncertainty principle, and quantization. These principles challenge our classical intuition and provide a new framework for understanding the behavior of particles in the quantum realm.\n",
            "\n",
            "### Quantum Mechanics vs. Classical Mechanics\n",
            "\n",
            "One of the key distinctions between Quantum Mechanics and Classical Mechanics is the concept of superposition and entanglement. In Quantum Mechanics, particles can exist in multiple states simultaneously, known as superposition, and can become entangled with each other, leading to correlated behavior even at a distance. These phenomena have no classical analog and highlight the unique nature of the quantum world.\n",
            "\n",
            "### Quantum Entanglement and Superposition\n",
            "\n",
            "Quantum entanglement and superposition are two of the most perplexing and fascinating phenomena in Quantum Mechanics. Entanglement occurs when two particles become correlated in such a way that the state of one particle instantaneously affects the state of the other, regardless of the distance between them. Superposition, on the other hand, allows particles to exist in multiple states simultaneously until measured, challenging our classical understanding of reality.\n",
            "\n",
            "### Quantum Computing and Future Implications\n",
            "\n",
            "Quantum Computing is one of the most promising applications of Quantum Mechanics, with the potential to revolutionize the field of computing. Quantum computers leverage the principles of superposition and entanglement to perform calculations at speeds exponentially faster than classical computers. The development of quantum algorithms and quantum processors holds the key to solving complex problems in cryptography, optimization, and simulation, with far-reaching implications for various industries.\n",
            "\n",
            "## Call to Action\n",
            "\n",
            "To delve deeper into the fascinating world of Quantum Mechanics, I encourage you to explore the resources provided and engage in further learning. Whether you are a science enthusiast, tech professional, student, or simply curious about the universe, Quantum Mechanics offers a captivating journey into the mysteries of the quantum realm.\n",
            "\n",
            "### Resources for Further Reading and Research\n",
            "\n",
            "1. \"Quantum Mechanics: The Theoretical Minimum\" by Leonard Susskind and Art Friedman\n",
            "2. \"Quantum Computing: An Applied Approach\" by Jack D. Hidary\n",
            "3. Stanford Encyclopedia of Philosophy - Quantum Mechanics\n",
            "4. MIT OpenCourseWare - Quantum Physics\n",
            "5. National Aeronautics and Space Administration (NASA) - Quantum Information Science\n",
            "\n",
            "By embracing the complexities of Quantum Mechanics, we can unlock new insights into the nature of reality and pave the way for future scientific breakthroughs. Let's embark on this exhilarating journey together and explore the wonders of Quantum Mechanics.\u001b[0m\n",
            "\n",
            "\u001b[1m> Finished chain.\u001b[0m\n",
            "\u001b[1m\u001b[92m [DEBUG]: == [Content Writer] Task output: # Exploring the Wonders of Quantum Mechanics\n",
            "\n",
            "## Introduction\n",
            "\n",
            "Quantum Mechanics is a fascinating branch of physics that delves into the bizarre and mind-bending world of the very small. At its core, Quantum Mechanics seeks to understand the behavior of particles at the quantum level, where classical physics fails to provide a complete explanation. This field has revolutionized our understanding of the universe and has led to groundbreaking advancements in technology and science.\n",
            "\n",
            "The importance of Quantum Mechanics in the modern world cannot be overstated. From quantum computers to quantum cryptography, the applications of this field are vast and continue to expand. Understanding Quantum Mechanics is essential for anyone interested in cutting-edge technology and scientific advancements.\n",
            "\n",
            "## Key Points\n",
            "\n",
            "### History and Development of Quantum Mechanics\n",
            "\n",
            "Quantum Mechanics has a rich history that dates back to the early 20th century. Pioneered by scientists such as Max Planck, Albert Einstein, Niels Bohr, and Erwin Schrödinger, Quantum Mechanics emerged as a response to the limitations of classical physics. The development of Quantum Mechanics revolutionized our understanding of the behavior of particles at the subatomic level and laid the foundation for modern physics.\n",
            "\n",
            "### Fundamental Principles of Quantum Mechanics\n",
            "\n",
            "At the heart of Quantum Mechanics lie several fundamental principles that govern the behavior of particles at the quantum level. These include principles such as wave-particle duality, the uncertainty principle, and quantization. These principles challenge our classical intuition and provide a new framework for understanding the behavior of particles in the quantum realm.\n",
            "\n",
            "### Quantum Mechanics vs. Classical Mechanics\n",
            "\n",
            "One of the key distinctions between Quantum Mechanics and Classical Mechanics is the concept of superposition and entanglement. In Quantum Mechanics, particles can exist in multiple states simultaneously, known as superposition, and can become entangled with each other, leading to correlated behavior even at a distance. These phenomena have no classical analog and highlight the unique nature of the quantum world.\n",
            "\n",
            "### Quantum Entanglement and Superposition\n",
            "\n",
            "Quantum entanglement and superposition are two of the most perplexing and fascinating phenomena in Quantum Mechanics. Entanglement occurs when two particles become correlated in such a way that the state of one particle instantaneously affects the state of the other, regardless of the distance between them. Superposition, on the other hand, allows particles to exist in multiple states simultaneously until measured, challenging our classical understanding of reality.\n",
            "\n",
            "### Quantum Computing and Future Implications\n",
            "\n",
            "Quantum Computing is one of the most promising applications of Quantum Mechanics, with the potential to revolutionize the field of computing. Quantum computers leverage the principles of superposition and entanglement to perform calculations at speeds exponentially faster than classical computers. The development of quantum algorithms and quantum processors holds the key to solving complex problems in cryptography, optimization, and simulation, with far-reaching implications for various industries.\n",
            "\n",
            "## Call to Action\n",
            "\n",
            "To delve deeper into the fascinating world of Quantum Mechanics, I encourage you to explore the resources provided and engage in further learning. Whether you are a science enthusiast, tech professional, student, or simply curious about the universe, Quantum Mechanics offers a captivating journey into the mysteries of the quantum realm.\n",
            "\n",
            "### Resources for Further Reading and Research\n",
            "\n",
            "1. \"Quantum Mechanics: The Theoretical Minimum\" by Leonard Susskind and Art Friedman\n",
            "2. \"Quantum Computing: An Applied Approach\" by Jack D. Hidary\n",
            "3. Stanford Encyclopedia of Philosophy - Quantum Mechanics\n",
            "4. MIT OpenCourseWare - Quantum Physics\n",
            "5. National Aeronautics and Space Administration (NASA) - Quantum Information Science\n",
            "\n",
            "By embracing the complexities of Quantum Mechanics, we can unlock new insights into the nature of reality and pave the way for future scientific breakthroughs. Let's embark on this exhilarating journey together and explore the wonders of Quantum Mechanics.\n",
            "\n",
            "\u001b[00m\n",
            "\u001b[1m\u001b[95m [DEBUG]: == Working Agent: Editor\u001b[00m\n",
            "\u001b[1m\u001b[95m [INFO]: == Starting Task: Proofread the given blog post for grammatical errors and alignment with the brand's voice.\u001b[00m\n",
            "\n",
            "\n",
            "\u001b[1m> Entering new CrewAgentExecutor chain...\u001b[0m\n",
            "\u001b[32;1m\u001b[1;3mI now can give a great answer\n",
            "\n",
            "Final Answer:\n",
            "\n",
            "# Exploring the Wonders of Quantum Mechanics\n",
            "\n",
            "## Introduction\n",
            "\n",
            "Quantum Mechanics is a captivating field of physics that delves into the extraordinary and mind-bending world of the very small. At its core, Quantum Mechanics seeks to unravel the mysteries of particle behavior at the quantum level, where classical physics falls short. This branch of science has transformed our perception of the universe and has paved the way for groundbreaking advancements in technology and scientific knowledge.\n",
            "\n",
            "The significance of Quantum Mechanics in today's world cannot be overstated. From the innovation of quantum computers to the security of quantum cryptography, the applications of this field are extensive and constantly evolving. A grasp of Quantum Mechanics is essential for individuals intrigued by cutting-edge technology and scientific progress.\n",
            "\n",
            "## Key Points\n",
            "\n",
            "### History and Development of Quantum Mechanics\n",
            "\n",
            "Quantum Mechanics boasts a rich history that traces back to the early 20th century. Spearheaded by visionaries like Max Planck, Albert Einstein, Niels Bohr, and Erwin Schrödinger, Quantum Mechanics emerged as a response to the limitations of classical physics. The evolution of Quantum Mechanics revolutionized our comprehension of particle behavior at the subatomic level and established the groundwork for modern physics.\n",
            "\n",
            "### Fundamental Principles of Quantum Mechanics\n",
            "\n",
            "Central to Quantum Mechanics are several fundamental principles that govern particle behavior at the quantum level. These principles encompass concepts like wave-particle duality, the uncertainty principle, and quantization. They challenge our classical intuition and introduce a fresh framework for interpreting particle behavior in the quantum domain.\n",
            "\n",
            "### Quantum Mechanics vs. Classical Mechanics\n",
            "\n",
            "A pivotal contrast between Quantum Mechanics and Classical Mechanics lies in the notions of superposition and entanglement. In Quantum Mechanics, particles can simultaneously exist in multiple states, known as superposition, and can become entangled with one another, resulting in correlated behavior even across distances. These phenomena lack a classical equivalent and underscore the distinctiveness of the quantum realm.\n",
            "\n",
            "### Quantum Entanglement and Superposition\n",
            "\n",
            "Quantum entanglement and superposition are among the most enigmatic and intriguing phenomena in Quantum Mechanics. Entanglement arises when two particles become interrelated in a manner where the state of one particle instantaneously influences the state of the other, irrespective of their separation. On the other hand, superposition permits particles to exist in multiple states simultaneously until measured, challenging our classical perception of reality.\n",
            "\n",
            "### Quantum Computing and Future Implications\n",
            "\n",
            "Quantum Computing stands out as one of the most promising applications of Quantum Mechanics, with the potential to transform the realm of computing. Quantum computers harness the principles of superposition and entanglement to execute calculations at speeds exponentially faster than classical computers. The advancement of quantum algorithms and quantum processors holds the key to resolving complex issues in cryptography, optimization, and simulation, with far-reaching consequences for diverse industries.\n",
            "\n",
            "## Call to Action\n",
            "\n",
            "To delve deeper into the captivating realm of Quantum Mechanics, I urge you to explore the provided resources and engage in further learning. Whether you are a science aficionado, tech professional, student, or simply curious about the universe, Quantum Mechanics offers a mesmerizing voyage into the enigmas of the quantum realm.\n",
            "\n",
            "### Resources for Further Reading and Research\n",
            "\n",
            "1. \"Quantum Mechanics: The Theoretical Minimum\" by Leonard Susskind and Art Friedman\n",
            "2. \"Quantum Computing: An Applied Approach\" by Jack D. Hidary\n",
            "3. Stanford Encyclopedia of Philosophy - Quantum Mechanics\n",
            "4. MIT OpenCourseWare - Quantum Physics\n",
            "5. National Aeronautics and Space Administration (NASA) - Quantum Information Science\n",
            "\n",
            "By embracing the intricacies of Quantum Mechanics, we can unlock fresh insights into the essence of reality and pave the way for future scientific breakthroughs. Let's embark on this exhilarating journey together and explore the wonders of Quantum Mechanics.\u001b[0m\n",
            "\n",
            "\u001b[1m> Finished chain.\u001b[0m\n",
            "\u001b[1m\u001b[92m [DEBUG]: == [Editor] Task output: # Exploring the Wonders of Quantum Mechanics\n",
            "\n",
            "## Introduction\n",
            "\n",
            "Quantum Mechanics is a captivating field of physics that delves into the extraordinary and mind-bending world of the very small. At its core, Quantum Mechanics seeks to unravel the mysteries of particle behavior at the quantum level, where classical physics falls short. This branch of science has transformed our perception of the universe and has paved the way for groundbreaking advancements in technology and scientific knowledge.\n",
            "\n",
            "The significance of Quantum Mechanics in today's world cannot be overstated. From the innovation of quantum computers to the security of quantum cryptography, the applications of this field are extensive and constantly evolving. A grasp of Quantum Mechanics is essential for individuals intrigued by cutting-edge technology and scientific progress.\n",
            "\n",
            "## Key Points\n",
            "\n",
            "### History and Development of Quantum Mechanics\n",
            "\n",
            "Quantum Mechanics boasts a rich history that traces back to the early 20th century. Spearheaded by visionaries like Max Planck, Albert Einstein, Niels Bohr, and Erwin Schrödinger, Quantum Mechanics emerged as a response to the limitations of classical physics. The evolution of Quantum Mechanics revolutionized our comprehension of particle behavior at the subatomic level and established the groundwork for modern physics.\n",
            "\n",
            "### Fundamental Principles of Quantum Mechanics\n",
            "\n",
            "Central to Quantum Mechanics are several fundamental principles that govern particle behavior at the quantum level. These principles encompass concepts like wave-particle duality, the uncertainty principle, and quantization. They challenge our classical intuition and introduce a fresh framework for interpreting particle behavior in the quantum domain.\n",
            "\n",
            "### Quantum Mechanics vs. Classical Mechanics\n",
            "\n",
            "A pivotal contrast between Quantum Mechanics and Classical Mechanics lies in the notions of superposition and entanglement. In Quantum Mechanics, particles can simultaneously exist in multiple states, known as superposition, and can become entangled with one another, resulting in correlated behavior even across distances. These phenomena lack a classical equivalent and underscore the distinctiveness of the quantum realm.\n",
            "\n",
            "### Quantum Entanglement and Superposition\n",
            "\n",
            "Quantum entanglement and superposition are among the most enigmatic and intriguing phenomena in Quantum Mechanics. Entanglement arises when two particles become interrelated in a manner where the state of one particle instantaneously influences the state of the other, irrespective of their separation. On the other hand, superposition permits particles to exist in multiple states simultaneously until measured, challenging our classical perception of reality.\n",
            "\n",
            "### Quantum Computing and Future Implications\n",
            "\n",
            "Quantum Computing stands out as one of the most promising applications of Quantum Mechanics, with the potential to transform the realm of computing. Quantum computers harness the principles of superposition and entanglement to execute calculations at speeds exponentially faster than classical computers. The advancement of quantum algorithms and quantum processors holds the key to resolving complex issues in cryptography, optimization, and simulation, with far-reaching consequences for diverse industries.\n",
            "\n",
            "## Call to Action\n",
            "\n",
            "To delve deeper into the captivating realm of Quantum Mechanics, I urge you to explore the provided resources and engage in further learning. Whether you are a science aficionado, tech professional, student, or simply curious about the universe, Quantum Mechanics offers a mesmerizing voyage into the enigmas of the quantum realm.\n",
            "\n",
            "### Resources for Further Reading and Research\n",
            "\n",
            "1. \"Quantum Mechanics: The Theoretical Minimum\" by Leonard Susskind and Art Friedman\n",
            "2. \"Quantum Computing: An Applied Approach\" by Jack D. Hidary\n",
            "3. Stanford Encyclopedia of Philosophy - Quantum Mechanics\n",
            "4. MIT OpenCourseWare - Quantum Physics\n",
            "5. National Aeronautics and Space Administration (NASA) - Quantum Information Science\n",
            "\n",
            "By embracing the intricacies of Quantum Mechanics, we can unlock fresh insights into the essence of reality and pave the way for future scientific breakthroughs. Let's embark on this exhilarating journey together and explore the wonders of Quantum Mechanics.\n",
            "\n",
            "\u001b[00m\n"
          ]
        }
      ],
      "source": [
        "topic = \"Quantum mechanics\"\n",
        "result = crew.kickoff(inputs={\"topic\": topic})"
      ]
    },
    {
      "cell_type": "code",
      "execution_count": 26,
      "metadata": {
        "height": 30,
        "colab": {
          "base_uri": "https://localhost:8080/",
          "height": 939
        },
        "id": "JglQHfbwNm_-",
        "outputId": "fa7fcae2-14a4-4dec-f988-30feba284625"
      },
      "outputs": [
        {
          "output_type": "execute_result",
          "data": {
            "text/plain": [
              "<IPython.core.display.Markdown object>"
            ],
            "text/markdown": "# Unraveling the Mysteries of Quantum Mechanics\n\n## Introduction\nQuantum mechanics, a branch of physics that deals with the behavior of particles at the smallest scales, has long been a subject of fascination and intrigue. From quantum computing to quantum teleportation, the field of quantum mechanics is constantly evolving and pushing the boundaries of what we thought was possible. In today's fast-paced world, understanding quantum mechanics is more important than ever as it underpins many cutting-edge technologies and scientific advancements.\n\n## Key Points\n\n### Latest Trends in Quantum Mechanics\nRecent advancements in quantum computing have shown promising results, with companies like IBM and Google leading the way in developing powerful quantum machines. Quantum teleportation experiments have also captured the imagination of scientists and the public alike, showcasing the potential for instantaneous communication over long distances. Furthermore, research into quantum entanglement continues to uncover the mysterious connections between particles that defy classical physics laws.\n\n### Key Players in Quantum Mechanics\nTrailblazing scientists like Niels Bohr, Albert Einstein, and Richard Feynman have made significant contributions to the field of quantum mechanics, laying the foundation for our current understanding of the quantum world. Companies investing in quantum computing research are driving innovation and shaping the future of technology by harnessing the power of quantum mechanics.\n\n### Noteworthy News in Quantum Mechanics\nBreakthroughs in quantum cryptography are enhancing data security and privacy in the digital age, while applications of quantum mechanics in industries such as healthcare, finance, and energy are revolutionizing traditional practices. The potential for quantum technologies to transform various sectors is vast, with exciting developments on the horizon.\n\n## Target Audience Analysis\n\n### Interests\nFor science enthusiasts, quantum mechanics offers a deep dive into the fundamental principles that govern the universe, sparking curiosity and wonder. Technology professionals are drawn to the practical applications of quantum mechanics in cutting-edge technologies, seeking to stay ahead of the curve. Students studying physics or engineering are eager to grasp the complex concepts of quantum mechanics to prepare for future advancements in their respective fields.\n\n### Pain Points\nUnderstanding the intricacies of quantum mechanics can be a daunting task for many, as the concepts often challenge our classical understanding of the world. Keeping up with the latest developments in the field requires continuous learning and adaptation, posing a challenge for enthusiasts and professionals alike.\n\n## Conclusion\nIn conclusion, quantum mechanics remains a captivating and ever-evolving field that holds immense potential for scientific discovery and technological innovation. By exploring the latest trends, key players, and noteworthy news in quantum mechanics, we can gain a deeper appreciation for the complexities of the quantum world and the impact it has on our daily lives. Stay tuned for more insights and updates on quantum mechanics, and subscribe to our newsletter to stay informed about the latest advancements in science and technology.\n\nRemember to stay curious and keep exploring the mysteries of quantum mechanics!\n\n*Call to Action: Stay tuned for our upcoming articles on quantum mechanics and subscribe to our newsletter for the latest updates in the world of science and technology.*"
          },
          "metadata": {},
          "execution_count": 26
        }
      ],
      "source": [
        "Markdown(result)"
      ]
    },
    {
      "cell_type": "markdown",
      "source": [
        "## Downloading the markdown file"
      ],
      "metadata": {
        "id": "3OaXvpEwfYSa"
      }
    },
    {
      "cell_type": "code",
      "source": [
        "# !pip install markdown"
      ],
      "metadata": {
        "colab": {
          "base_uri": "https://localhost:8080/"
        },
        "id": "hXeMAlZ7lZ0P",
        "outputId": "d24e1936-4bcc-47bf-a347-88476411091e"
      },
      "execution_count": 26,
      "outputs": [
        {
          "output_type": "stream",
          "name": "stdout",
          "text": [
            "Requirement already satisfied: markdown in /usr/local/lib/python3.10/dist-packages (3.6)\n"
          ]
        }
      ]
    },
    {
      "cell_type": "code",
      "source": [
        "import markdown"
      ],
      "metadata": {
        "id": "gd8ofr72loot"
      },
      "execution_count": 32,
      "outputs": []
    },
    {
      "cell_type": "code",
      "source": [
        "markdown_content = Markdown(result)\n",
        "file_name = \"quantum_mechanics.md\"\n",
        "\n",
        "with open(file_name, 'w', encoding='utf-8') as file:\n",
        "    file.write(str(markdown_content))\n"
      ],
      "metadata": {
        "id": "xeF3QSkOfeKI"
      },
      "execution_count": 34,
      "outputs": []
    },
    {
      "cell_type": "code",
      "source": [
        "with open(file_name, 'r') as file:\n",
        "    content = file.read()\n",
        "print(content)\n"
      ],
      "metadata": {
        "colab": {
          "base_uri": "https://localhost:8080/"
        },
        "id": "D4XZd5tXhqIy",
        "outputId": "aaec2d2e-9462-4bf2-97a4-56b4ec91aa8e"
      },
      "execution_count": 25,
      "outputs": [
        {
          "output_type": "stream",
          "name": "stdout",
          "text": [
            "<IPython.core.display.Markdown object>\n"
          ]
        }
      ]
    },
    {
      "cell_type": "code",
      "source": [],
      "metadata": {
        "id": "_Z94pmNFhtv3"
      },
      "execution_count": null,
      "outputs": []
    },
    {
      "cell_type": "markdown",
      "metadata": {
        "id": "6ku9yKlBNm_-"
      },
      "source": [
        "<a name='1'></a>\n",
        " ## Other Popular Models as LLM for your Agents"
      ]
    },
    {
      "cell_type": "markdown",
      "metadata": {
        "id": "h3WogkuUNm_-"
      },
      "source": [
        "#### Hugging Face (HuggingFaceHub endpoint)\n",
        "\n",
        "```Python\n",
        "from langchain_community.llms import HuggingFaceHub\n",
        "\n",
        "llm = HuggingFaceHub(\n",
        "    repo_id=\"HuggingFaceH4/zephyr-7b-beta\",\n",
        "    huggingfacehub_api_token=\"<HF_TOKEN_HERE>\",\n",
        "    task=\"text-generation\",\n",
        ")\n",
        "\n",
        "### you will pass \"llm\" to your agent function\n",
        "```"
      ]
    },
    {
      "cell_type": "markdown",
      "metadata": {
        "id": "jAy07MtnNm_-"
      },
      "source": [
        "#### Mistral API\n",
        "\n",
        "```Python\n",
        "OPENAI_API_KEY=your-mistral-api-key\n",
        "OPENAI_API_BASE=https://api.mistral.ai/v1\n",
        "OPENAI_MODEL_NAME=\"mistral-small\"\n",
        "```"
      ]
    },
    {
      "cell_type": "markdown",
      "metadata": {
        "id": "VKmk-CmNNm_-"
      },
      "source": [
        "#### Cohere\n",
        "\n",
        "```Python\n",
        "from langchain_community.chat_models import ChatCohere\n",
        "# Initialize language model\n",
        "os.environ[\"COHERE_API_KEY\"] = \"your-cohere-api-key\"\n",
        "llm = ChatCohere()\n",
        "\n",
        "### you will pass \"llm\" to your agent function\n",
        "```"
      ]
    },
    {
      "cell_type": "markdown",
      "metadata": {
        "id": "D0VPAqHoNm__"
      },
      "source": [
        "### For using Llama locally with Ollama and more, checkout the crewAI documentation on [Connecting to any LLM](https://docs.crewai.com/how-to/LLM-Connections/)."
      ]
    },
    {
      "cell_type": "code",
      "execution_count": null,
      "metadata": {
        "height": 30,
        "id": "u9yFbF4TNm__"
      },
      "outputs": [],
      "source": []
    },
    {
      "cell_type": "code",
      "execution_count": null,
      "metadata": {
        "height": 30,
        "id": "N8Qs0K_FNm__"
      },
      "outputs": [],
      "source": []
    },
    {
      "cell_type": "code",
      "execution_count": null,
      "metadata": {
        "height": 30,
        "id": "PAuzhh5eNm__"
      },
      "outputs": [],
      "source": []
    }
  ],
  "metadata": {
    "colab": {
      "gpuType": "T4",
      "provenance": [],
      "include_colab_link": true
    },
    "kernelspec": {
      "display_name": "Python 3 (ipykernel)",
      "language": "python",
      "name": "python3"
    },
    "language_info": {
      "codemirror_mode": {
        "name": "ipython",
        "version": 3
      },
      "file_extension": ".py",
      "mimetype": "text/x-python",
      "name": "python",
      "nbconvert_exporter": "python",
      "pygments_lexer": "ipython3",
      "version": "3.11.9"
    }
  },
  "nbformat": 4,
  "nbformat_minor": 0
}