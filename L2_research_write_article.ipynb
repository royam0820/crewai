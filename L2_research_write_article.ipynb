{
  "cells": [
    {
      "cell_type": "markdown",
      "metadata": {
        "id": "view-in-github",
        "colab_type": "text"
      },
      "source": [
        "<a href=\"https://colab.research.google.com/github/royam0820/crewai/blob/main/L2_research_write_article.ipynb\" target=\"_parent\"><img src=\"https://colab.research.google.com/assets/colab-badge.svg\" alt=\"Open In Colab\"/></a>"
      ]
    },
    {
      "cell_type": "markdown",
      "source": [
        "DeepLearning Course on [Multi AI Agent Systems with crewAI](https://learn.deeplearning.ai/courses/multi-ai-agent-systems-with-crewai/lesson/4/create-agents-to-research-and-write-an-article-(code))"
      ],
      "metadata": {
        "id": "x26qBAEYnLaA"
      }
    },
    {
      "cell_type": "markdown",
      "source": [
        "# Writing a blog post"
      ],
      "metadata": {
        "id": "yRM2OFzSeES3"
      }
    },
    {
      "cell_type": "markdown",
      "source": [
        "This Jupyter notebook is designed to **automate the process of writing a blog post on a given topic using agent-based AI systems**. It utilizes the crewai library to create and manage AI agents with different roles in the content creation workflow.\n",
        "\n",
        "The notebook defines three main agents—\n",
        "- Content Planner,\n",
        "- Content Writer, and\n",
        "- Editor, and\n",
        "- orchestrates their tasks using the Crew class to produce a well-written blog post."
      ],
      "metadata": {
        "id": "i9M2lxIieAkg"
      }
    },
    {
      "cell_type": "markdown",
      "source": [
        "## Library Installation and Imports"
      ],
      "metadata": {
        "id": "4xFxQAqReNOP"
      }
    },
    {
      "cell_type": "code",
      "source": [
        "!pip install crewai==0.28.8\n",
        "!pip install crewai_tools--0.1.6\n",
        "!pip install langchain_community==0.0.29 # this is formatted as code\n",
        "!pip install utils"
      ],
      "metadata": {
        "id": "GtFqlq-UN6uJ"
      },
      "execution_count": null,
      "outputs": []
    },
    {
      "cell_type": "code",
      "execution_count": null,
      "metadata": {
        "height": 64,
        "id": "lSUveP9BNm_0"
      },
      "outputs": [],
      "source": [
        "# Warning control\n",
        "import warnings\n",
        "warnings.filterwarnings('ignore')"
      ]
    },
    {
      "cell_type": "markdown",
      "source": [
        "NB: Suppresses any warning messages to ensure a clean output."
      ],
      "metadata": {
        "id": "-c1XQGffjqkR"
      }
    },
    {
      "cell_type": "markdown",
      "source": [
        "## importing required classes"
      ],
      "metadata": {
        "id": "v0cqb159fAMG"
      }
    },
    {
      "cell_type": "code",
      "source": [
        "from crewai import Agent, Task, Crew\n",
        "import os\n",
        "from google.colab import userdata\n"
      ],
      "metadata": {
        "id": "jsD5sxn-e4-4"
      },
      "execution_count": null,
      "outputs": []
    },
    {
      "cell_type": "markdown",
      "metadata": {
        "id": "dF1muW_tNm_2"
      },
      "source": [
        "- As a LLM for your agents, you'll be using OpenAI's `gpt-3.5-turbo`.\n",
        "\n",
        "**Optional Note:** crewAI also allow other popular models to be used as a LLM for your Agents. You can see some of the examples at the [bottom of the notebook](#1)."
      ]
    },
    {
      "cell_type": "markdown",
      "source": [
        "## Setting up API Keys and LLM"
      ],
      "metadata": {
        "id": "qcaQ5SUofSrj"
      }
    },
    {
      "cell_type": "code",
      "source": [
        "openai_api_key = userdata.get(\"OPENAI_API_KEY\")\n",
        "os.environ[\"OPENAI_API_KEY\"] = openai_api_key\n",
        "os.environ[\"OPENAI_MODEL_NAME\"] = 'gpt-3.5-turbo'\n"
      ],
      "metadata": {
        "id": "IF4iiYisff6s"
      },
      "execution_count": null,
      "outputs": []
    },
    {
      "cell_type": "markdown",
      "source": [
        "## Muliple strings v.s. triple quote docstring\n",
        "\n",
        "**Note**: The benefit of using _multiple strings_ :\n",
        "```Python\n",
        "varname = \"line 1 of text\"\n",
        "          \"line 2 of text\"\n",
        "```\n",
        "\n",
        "versus the _triple quote docstring_:\n",
        "```Python\n",
        "varname = \"\"\"line 1 of text\n",
        "             line 2 of text\n",
        "          \"\"\"\n",
        "```\n",
        "is that it can avoid adding those whitespaces and newline characters, making it better formatted to be passed to the LLM."
      ],
      "metadata": {
        "id": "PPJ6Xk-aOxDz"
      }
    },
    {
      "cell_type": "markdown",
      "metadata": {
        "id": "z-8AlbYlNm_2"
      },
      "source": [
        "## Defining Agents\n",
        "\n",
        "- Define your Agents, and provide them a `role`, `goal` and `backstory`.\n",
        "- It has been seen that LLMs perform better when they are role playing."
      ]
    },
    {
      "cell_type": "markdown",
      "metadata": {
        "id": "rD7fxOwINm_2"
      },
      "source": [
        "### Content Planner\n",
        "\n",
        "The Content Planner agent is responsible for creating a comprehensive plan for the blog article on the given topic.\n",
        "\n"
      ]
    },
    {
      "cell_type": "code",
      "execution_count": null,
      "metadata": {
        "height": 234,
        "id": "xmxMiaZYNm_3"
      },
      "outputs": [],
      "source": [
        "planner = Agent(\n",
        "    role=\"Content Planner\",\n",
        "    goal=\"Plan engaging and factually accurate content on {topic}\",\n",
        "    backstory=\"You're working on planning a blog article \"\n",
        "              \"about the topic: {topic}.\"\n",
        "              \"You collect information that helps the \"\n",
        "              \"audience learn something \"\n",
        "              \"and make informed decisions. \"\n",
        "              \"Your work is the basis for \"\n",
        "              \"the Content Writer to write an article on this topic.\",\n",
        "    allow_delegation=False,\n",
        "\t  verbose=True\n",
        ")"
      ]
    },
    {
      "cell_type": "markdown",
      "source": [
        "NB: the code above specifies:\n",
        "- the `role` of the agent, which in this case is \"Content Planner\".\n",
        "- the `goal` of the agent. The goal here is to `\"Plan engaging and factually accurate content on {topic}\"`.\n",
        "- the `backstory`: it explains its purpose and context. The backstory here describes the agent's task of planning a blog article on the specified topic, collecting information to help the audience, and providing a basis for the Content Writer.\n",
        "\n",
        "`allow_delegation=False` no delegation will be done to another agent. Please note that the default values is `True`.\n"
      ],
      "metadata": {
        "id": "Pa_wyY1Kf__Z"
      }
    },
    {
      "cell_type": "markdown",
      "metadata": {
        "id": "I8atyFJ_Nm_3"
      },
      "source": [
        "### Content Writer\n",
        "\n",
        "The Content Writer agent uses the plan from the Content Planner to write the blog post, ensuring it is insightful and accurate."
      ]
    },
    {
      "cell_type": "code",
      "execution_count": null,
      "metadata": {
        "height": 370,
        "id": "W6RKv36YNm_3"
      },
      "outputs": [],
      "source": [
        "writer = Agent(\n",
        "    role=\"Content Writer\",\n",
        "    goal=\"Write insightful and factually accurate \"\n",
        "         \"opinion piece about the topic: {topic}\",\n",
        "    backstory=\"You're working on a writing \"\n",
        "              \"a new opinion piece about the topic: {topic}. \"\n",
        "              \"You base your writing on the work of \"\n",
        "              \"the Content Planner, who provides an outline \"\n",
        "              \"and relevant context about the topic. \"\n",
        "              \"You follow the main objectives and \"\n",
        "              \"direction of the outline, \"\n",
        "              \"as provide by the Content Planner. \"\n",
        "              \"You also provide objective and impartial insights \"\n",
        "              \"and back them up with information \"\n",
        "              \"provide by the Content Planner. \"\n",
        "              \"You acknowledge in your opinion piece \"\n",
        "              \"when your statements are opinions \"\n",
        "              \"as opposed to objective statements.\",\n",
        "    allow_delegation=False,\n",
        "    verbose=True\n",
        ")"
      ]
    },
    {
      "cell_type": "markdown",
      "metadata": {
        "id": "K9Wonp3lNm_4"
      },
      "source": [
        "### Editor\n",
        "\n",
        "The Editor agent reviews the content for grammatical correctness and brand consistency.\n",
        "\n"
      ]
    },
    {
      "cell_type": "code",
      "execution_count": null,
      "metadata": {
        "height": 268,
        "id": "-pLduGJZNm_4"
      },
      "outputs": [],
      "source": [
        "editor = Agent(\n",
        "    role=\"Editor\",\n",
        "    goal=\"Edit a given blog post to align with \"\n",
        "         \"the writing style of the organization. \",\n",
        "    backstory=\"You are an editor who receives a blog post \"\n",
        "              \"from the Content Writer. \"\n",
        "              \"Your goal is to review the blog post \"\n",
        "              \"to ensure that it follows journalistic best practices,\"\n",
        "              \"provides balanced viewpoints \"\n",
        "              \"when providing opinions or assertions, \"\n",
        "              \"and also avoids major controversial topics \"\n",
        "              \"or opinions when possible.\",\n",
        "    allow_delegation=False,\n",
        "    verbose=True\n",
        ")"
      ]
    },
    {
      "cell_type": "markdown",
      "metadata": {
        "id": "EY2thEJ4Nm_4"
      },
      "source": [
        "## Defining Tasks\n",
        "\n",
        "- Define your Tasks, and provide them a `description`, `expected_output` and `agent`."
      ]
    },
    {
      "cell_type": "markdown",
      "metadata": {
        "id": "JOEzyt5TNm_5"
      },
      "source": [
        "### Task: Plan\n",
        "\n",
        "This task is associated to the Content Planner agent and involves creating a detailed content plan, including an outline, key points, audience analysis, and SEO suggestions."
      ]
    },
    {
      "cell_type": "code",
      "execution_count": null,
      "metadata": {
        "height": 268,
        "id": "maiviIJbNm_5"
      },
      "outputs": [],
      "source": [
        "plan = Task(\n",
        "    description=(\n",
        "        \"1. Prioritize the latest trends, key players, \"\n",
        "            \"and noteworthy news on {topic}.\\n\"\n",
        "        \"2. Identify the target audience, considering \"\n",
        "            \"their interests and pain points.\\n\"\n",
        "        \"3. Develop a detailed content outline including \"\n",
        "            \"an introduction, key points, and a call to action.\\n\"\n",
        "        \"4. Include SEO keywords and relevant data or sources.\"\n",
        "    ),\n",
        "    expected_output=\"A comprehensive content plan document \"\n",
        "        \"with an outline, audience analysis, \"\n",
        "        \"SEO keywords, and resources.\",\n",
        "    agent=planner,\n",
        ")"
      ]
    },
    {
      "cell_type": "markdown",
      "metadata": {
        "id": "rcLwhEahNm_5"
      },
      "source": [
        "### Task: Write\n",
        "\n",
        "This task is assigned to the content writer agen. The Write task leverages the content plan to write the blog post, ensuring it follows the provided structure and SEO guidelines."
      ]
    },
    {
      "cell_type": "code",
      "execution_count": null,
      "metadata": {
        "height": 319,
        "id": "UH6GyKI3Nm_5"
      },
      "outputs": [],
      "source": [
        "write = Task(\n",
        "    description=(\n",
        "        \"1. Use the content plan to craft a compelling \"\n",
        "            \"blog post on {topic}.\\n\"\n",
        "        \"2. Incorporate SEO keywords naturally.\\n\"\n",
        "\t\t\"3. Sections/Subtitles are properly named \"\n",
        "            \"in an engaging manner.\\n\"\n",
        "        \"4. Ensure the post is structured with an \"\n",
        "            \"engaging introduction, insightful body, \"\n",
        "            \"and a summarizing conclusion.\\n\"\n",
        "        \"5. Proofread for grammatical errors and \"\n",
        "            \"alignment with the brand's voice.\\n\"\n",
        "    ),\n",
        "    expected_output=\"A well-written blog post \"\n",
        "        \"in markdown format, ready for publication, \"\n",
        "        \"each section should have 2 or 3 paragraphs.\",\n",
        "    agent=writer,\n",
        ")"
      ]
    },
    {
      "cell_type": "markdown",
      "source": [
        "NB: This task is assigned to the content writer agen. The Write task leverages the content plan to write the blog post, ensuring it follows the provided structure and SEO guidelines."
      ],
      "metadata": {
        "id": "W5upg17tgsNW"
      }
    },
    {
      "cell_type": "markdown",
      "metadata": {
        "id": "5bDpLdipNm_7"
      },
      "source": [
        "### Task: Edit"
      ]
    },
    {
      "cell_type": "code",
      "execution_count": null,
      "metadata": {
        "height": 166,
        "id": "V6gBIJK9Nm_7"
      },
      "outputs": [],
      "source": [
        "edit = Task(\n",
        "    description=(\"Proofread the given blog post for \"\n",
        "                 \"grammatical errors and \"\n",
        "                 \"alignment with the brand's voice.\"),\n",
        "    expected_output=\"A well-written blog post in markdown format, \"\n",
        "                    \"ready for publication, \"\n",
        "                    \"each section should have 2 or 3 paragraphs.\",\n",
        "    agent=editor\n",
        ")"
      ]
    },
    {
      "cell_type": "markdown",
      "metadata": {
        "id": "0NPPgcdbNm_8"
      },
      "source": [
        "## Assembling the Crew and Executing the Workflow\n",
        "\n",
        "- Create your crew of Agents\n",
        "- Pass the tasks to be performed by those agents.\n",
        "    - **Note**: *For this simple example*, the tasks will be performed sequentially (i.e they are dependent on each other), so the _order_ of the task in the list _matters_.\n",
        "- `verbose=2` allows you to see all the logs of the execution."
      ]
    },
    {
      "cell_type": "code",
      "execution_count": null,
      "metadata": {
        "height": 98,
        "id": "uOlzB8jBNm_8"
      },
      "outputs": [],
      "source": [
        "crew = Crew(\n",
        "    agents=[planner, writer, editor],\n",
        "    tasks=[plan, write, edit],\n",
        "    verbose=2\n",
        ")"
      ]
    },
    {
      "cell_type": "markdown",
      "source": [
        "NB: **The Crew class organizes the agents and tasks into a coherent workflow.**"
      ],
      "metadata": {
        "id": "LEbvMzPDg-AG"
      }
    },
    {
      "cell_type": "markdown",
      "metadata": {
        "id": "FzRcMvO8Nm_9"
      },
      "source": [
        "## Running the Crew"
      ]
    },
    {
      "cell_type": "markdown",
      "metadata": {
        "id": "Y0ln-GylNm_9"
      },
      "source": [
        "**Note**: LLMs can provide different outputs for they same input, so what you get might be different than what you see in the video."
      ]
    },
    {
      "cell_type": "code",
      "execution_count": null,
      "metadata": {
        "height": 30,
        "colab": {
          "base_uri": "https://localhost:8080/"
        },
        "id": "T64zfVoaNm_9",
        "outputId": "a0dcb7b1-7c4f-4eec-fcbb-453cc623e793"
      },
      "outputs": [
        {
          "output_type": "stream",
          "name": "stdout",
          "text": [
            "\u001b[1m\u001b[95m [DEBUG]: == Working Agent: Content Planner\u001b[00m\n",
            "\u001b[1m\u001b[95m [INFO]: == Starting Task: 1. Prioritize the latest trends, key players, and noteworthy news on Artificial Intelligence.\n",
            "2. Identify the target audience, considering their interests and pain points.\n",
            "3. Develop a detailed content outline including an introduction, key points, and a call to action.\n",
            "4. Include SEO keywords and relevant data or sources.\u001b[00m\n",
            "\n",
            "\n",
            "\u001b[1m> Entering new CrewAgentExecutor chain...\u001b[0m\n",
            "\u001b[32;1m\u001b[1;3mI now can give a great answer\n",
            "\n",
            "Final Answer: \n",
            "\n",
            "Title: The Future of Artificial Intelligence: Trends, Players, and News\n",
            "\n",
            "Introduction:\n",
            "- Brief overview of the current state of artificial intelligence\n",
            "- Importance of staying updated on AI trends and developments\n",
            "\n",
            "Key Points:\n",
            "1. Latest Trends in Artificial Intelligence:\n",
            "- Advancements in machine learning and deep learning\n",
            "- Integration of AI in various industries such as healthcare, finance, and automotive\n",
            "- Ethical considerations and regulations in AI development\n",
            "\n",
            "2. Key Players in the Artificial Intelligence Industry:\n",
            "- Leading companies such as Google, Amazon, and Microsoft investing heavily in AI research and development\n",
            "- Emerging startups disrupting the AI landscape with innovative solutions\n",
            "- Collaboration between academia and industry to push AI boundaries\n",
            "\n",
            "3. Noteworthy News in Artificial Intelligence:\n",
            "- Breakthroughs in natural language processing and computer vision\n",
            "- Applications of AI in combating climate change and improving sustainability\n",
            "- Impact of AI on job markets and workforce automation\n",
            "\n",
            "Audience Analysis:\n",
            "- Target audience includes tech enthusiasts, business professionals, and students interested in AI\n",
            "- Audience pain points may include understanding complex AI concepts, keeping up with rapid advancements, and navigating ethical dilemmas in AI development\n",
            "\n",
            "Content Outline:\n",
            "- Introduction to Artificial Intelligence\n",
            "- Latest Trends in AI\n",
            "- Key Players in the AI Industry\n",
            "- Noteworthy News in AI\n",
            "- Ethical Considerations in AI Development\n",
            "- Future Implications of AI\n",
            "- Call to Action: Stay informed and engaged with AI developments through reputable sources\n",
            "\n",
            "SEO Keywords:\n",
            "- Artificial Intelligence trends\n",
            "- Key players in AI industry\n",
            "- News on artificial intelligence\n",
            "- Ethical AI development\n",
            "- Future of artificial intelligence\n",
            "\n",
            "Resources:\n",
            "- Industry reports from Gartner and Forrester on AI trends\n",
            "- Articles from reputable sources such as TechCrunch and Wired on AI advancements\n",
            "- Research papers from leading AI conferences like NeurIPS and ICML\n",
            "\n",
            "By following this comprehensive content plan, the blog article on Artificial Intelligence will provide valuable insights and information to the target audience, helping them make informed decisions and stay updated on the latest developments in AI.\u001b[0m\n",
            "\n",
            "\u001b[1m> Finished chain.\u001b[0m\n",
            "\u001b[1m\u001b[92m [DEBUG]: == [Content Planner] Task output: Title: The Future of Artificial Intelligence: Trends, Players, and News\n",
            "\n",
            "Introduction:\n",
            "- Brief overview of the current state of artificial intelligence\n",
            "- Importance of staying updated on AI trends and developments\n",
            "\n",
            "Key Points:\n",
            "1. Latest Trends in Artificial Intelligence:\n",
            "- Advancements in machine learning and deep learning\n",
            "- Integration of AI in various industries such as healthcare, finance, and automotive\n",
            "- Ethical considerations and regulations in AI development\n",
            "\n",
            "2. Key Players in the Artificial Intelligence Industry:\n",
            "- Leading companies such as Google, Amazon, and Microsoft investing heavily in AI research and development\n",
            "- Emerging startups disrupting the AI landscape with innovative solutions\n",
            "- Collaboration between academia and industry to push AI boundaries\n",
            "\n",
            "3. Noteworthy News in Artificial Intelligence:\n",
            "- Breakthroughs in natural language processing and computer vision\n",
            "- Applications of AI in combating climate change and improving sustainability\n",
            "- Impact of AI on job markets and workforce automation\n",
            "\n",
            "Audience Analysis:\n",
            "- Target audience includes tech enthusiasts, business professionals, and students interested in AI\n",
            "- Audience pain points may include understanding complex AI concepts, keeping up with rapid advancements, and navigating ethical dilemmas in AI development\n",
            "\n",
            "Content Outline:\n",
            "- Introduction to Artificial Intelligence\n",
            "- Latest Trends in AI\n",
            "- Key Players in the AI Industry\n",
            "- Noteworthy News in AI\n",
            "- Ethical Considerations in AI Development\n",
            "- Future Implications of AI\n",
            "- Call to Action: Stay informed and engaged with AI developments through reputable sources\n",
            "\n",
            "SEO Keywords:\n",
            "- Artificial Intelligence trends\n",
            "- Key players in AI industry\n",
            "- News on artificial intelligence\n",
            "- Ethical AI development\n",
            "- Future of artificial intelligence\n",
            "\n",
            "Resources:\n",
            "- Industry reports from Gartner and Forrester on AI trends\n",
            "- Articles from reputable sources such as TechCrunch and Wired on AI advancements\n",
            "- Research papers from leading AI conferences like NeurIPS and ICML\n",
            "\n",
            "By following this comprehensive content plan, the blog article on Artificial Intelligence will provide valuable insights and information to the target audience, helping them make informed decisions and stay updated on the latest developments in AI.\n",
            "\n",
            "\u001b[00m\n",
            "\u001b[1m\u001b[95m [DEBUG]: == Working Agent: Content Writer\u001b[00m\n",
            "\u001b[1m\u001b[95m [INFO]: == Starting Task: 1. Use the content plan to craft a compelling blog post on Artificial Intelligence.\n",
            "2. Incorporate SEO keywords naturally.\n",
            "3. Sections/Subtitles are properly named in an engaging manner.\n",
            "4. Ensure the post is structured with an engaging introduction, insightful body, and a summarizing conclusion.\n",
            "5. Proofread for grammatical errors and alignment with the brand's voice.\n",
            "\u001b[00m\n",
            "\n",
            "\n",
            "\u001b[1m> Entering new CrewAgentExecutor chain...\u001b[0m\n",
            "\u001b[32;1m\u001b[1;3mI now can give a great answer\n",
            "\n",
            "Final Answer:\n",
            "# The Future of Artificial Intelligence: Trends, Players, and News\n",
            "\n",
            "## Introduction\n",
            "Artificial Intelligence (AI) has rapidly become a transformative force in our world, revolutionizing industries and reshaping the way we live and work. Staying informed on the latest AI trends and developments is crucial in understanding the future implications of this cutting-edge technology.\n",
            "\n",
            "## Latest Trends in Artificial Intelligence\n",
            "Advancements in machine learning and deep learning have propelled AI to new heights, enabling machines to learn from data and make decisions with minimal human intervention. This has led to the integration of AI in various sectors such as healthcare, finance, and automotive, where AI-powered solutions are optimizing processes and driving innovation. However, with great power comes great responsibility, as ethical considerations and regulations in AI development are paramount to ensure the responsible use of this powerful technology.\n",
            "\n",
            "## Key Players in the Artificial Intelligence Industry\n",
            "Leading tech giants like Google, Amazon, and Microsoft are at the forefront of AI research and development, investing heavily in cutting-edge technologies and solutions. Additionally, emerging startups are disrupting the AI landscape with innovative approaches and solutions that are challenging the status quo. Collaboration between academia and industry is pushing the boundaries of AI, fostering a dynamic ecosystem of research and innovation.\n",
            "\n",
            "## Noteworthy News in Artificial Intelligence\n",
            "Breakthroughs in natural language processing and computer vision have opened up new possibilities for AI applications, from virtual assistants to autonomous vehicles. AI is also being leveraged to combat climate change and improve sustainability, with algorithms and models driving impactful solutions. However, the impact of AI on job markets and workforce automation raises important questions about the future of work and the need for reskilling and upskilling in the age of AI.\n",
            "\n",
            "## Ethical Considerations in AI Development\n",
            "As AI becomes more pervasive in our society, ethical considerations in AI development are becoming increasingly important. From bias in algorithms to data privacy concerns, navigating the ethical dilemmas of AI requires a thoughtful and proactive approach. Establishing guidelines and frameworks for responsible AI development is essential to ensure that AI benefits society as a whole.\n",
            "\n",
            "## Future Implications of AI\n",
            "The future of artificial intelligence holds immense potential for both opportunities and challenges. As AI continues to evolve and expand its capabilities, it will reshape industries, redefine jobs, and transform the way we interact with technology. Staying informed and engaged with AI developments through reputable sources is key to navigating the complex landscape of AI and harnessing its benefits for a better future.\n",
            "\n",
            "## Call to Action\n",
            "In conclusion, the future of artificial intelligence is filled with promise and potential, but it also presents ethical, social, and economic challenges that must be addressed. By staying informed and engaged with AI developments, we can shape the future of AI in a responsible and sustainable manner. Let us embrace the opportunities that AI brings while also being mindful of the risks and implications, ensuring a future where AI works for the betterment of society.\n",
            "\n",
            "Remember to stay updated on Artificial Intelligence trends, explore the key players in the AI industry, and follow the latest news on AI developments to be at the forefront of this technological revolution.\u001b[0m\n",
            "\n",
            "\u001b[1m> Finished chain.\u001b[0m\n",
            "\u001b[1m\u001b[92m [DEBUG]: == [Content Writer] Task output: # The Future of Artificial Intelligence: Trends, Players, and News\n",
            "\n",
            "## Introduction\n",
            "Artificial Intelligence (AI) has rapidly become a transformative force in our world, revolutionizing industries and reshaping the way we live and work. Staying informed on the latest AI trends and developments is crucial in understanding the future implications of this cutting-edge technology.\n",
            "\n",
            "## Latest Trends in Artificial Intelligence\n",
            "Advancements in machine learning and deep learning have propelled AI to new heights, enabling machines to learn from data and make decisions with minimal human intervention. This has led to the integration of AI in various sectors such as healthcare, finance, and automotive, where AI-powered solutions are optimizing processes and driving innovation. However, with great power comes great responsibility, as ethical considerations and regulations in AI development are paramount to ensure the responsible use of this powerful technology.\n",
            "\n",
            "## Key Players in the Artificial Intelligence Industry\n",
            "Leading tech giants like Google, Amazon, and Microsoft are at the forefront of AI research and development, investing heavily in cutting-edge technologies and solutions. Additionally, emerging startups are disrupting the AI landscape with innovative approaches and solutions that are challenging the status quo. Collaboration between academia and industry is pushing the boundaries of AI, fostering a dynamic ecosystem of research and innovation.\n",
            "\n",
            "## Noteworthy News in Artificial Intelligence\n",
            "Breakthroughs in natural language processing and computer vision have opened up new possibilities for AI applications, from virtual assistants to autonomous vehicles. AI is also being leveraged to combat climate change and improve sustainability, with algorithms and models driving impactful solutions. However, the impact of AI on job markets and workforce automation raises important questions about the future of work and the need for reskilling and upskilling in the age of AI.\n",
            "\n",
            "## Ethical Considerations in AI Development\n",
            "As AI becomes more pervasive in our society, ethical considerations in AI development are becoming increasingly important. From bias in algorithms to data privacy concerns, navigating the ethical dilemmas of AI requires a thoughtful and proactive approach. Establishing guidelines and frameworks for responsible AI development is essential to ensure that AI benefits society as a whole.\n",
            "\n",
            "## Future Implications of AI\n",
            "The future of artificial intelligence holds immense potential for both opportunities and challenges. As AI continues to evolve and expand its capabilities, it will reshape industries, redefine jobs, and transform the way we interact with technology. Staying informed and engaged with AI developments through reputable sources is key to navigating the complex landscape of AI and harnessing its benefits for a better future.\n",
            "\n",
            "## Call to Action\n",
            "In conclusion, the future of artificial intelligence is filled with promise and potential, but it also presents ethical, social, and economic challenges that must be addressed. By staying informed and engaged with AI developments, we can shape the future of AI in a responsible and sustainable manner. Let us embrace the opportunities that AI brings while also being mindful of the risks and implications, ensuring a future where AI works for the betterment of society.\n",
            "\n",
            "Remember to stay updated on Artificial Intelligence trends, explore the key players in the AI industry, and follow the latest news on AI developments to be at the forefront of this technological revolution.\n",
            "\n",
            "\u001b[00m\n",
            "\u001b[1m\u001b[95m [DEBUG]: == Working Agent: Editor\u001b[00m\n",
            "\u001b[1m\u001b[95m [INFO]: == Starting Task: Proofread the given blog post for grammatical errors and alignment with the brand's voice.\u001b[00m\n",
            "\n",
            "\n",
            "\u001b[1m> Entering new CrewAgentExecutor chain...\u001b[0m\n",
            "\u001b[32;1m\u001b[1;3mI now can give a great answer\n",
            "\n",
            "Final Answer:\n",
            "# The Future of Artificial Intelligence: Trends, Players, and News\n",
            "\n",
            "## Introduction\n",
            "Artificial Intelligence (AI) has rapidly become a transformative force in our world, revolutionizing industries and reshaping the way we live and work. Staying informed on the latest AI trends and developments is crucial in understanding the future implications of this cutting-edge technology.\n",
            "\n",
            "## Latest Trends in Artificial Intelligence\n",
            "Advancements in machine learning and deep learning have propelled AI to new heights, enabling machines to learn from data and make decisions with minimal human intervention. This has led to the integration of AI in various sectors such as healthcare, finance, and automotive, where AI-powered solutions are optimizing processes and driving innovation. However, with great power comes great responsibility, as ethical considerations and regulations in AI development are paramount to ensure the responsible use of this powerful technology.\n",
            "\n",
            "## Key Players in the Artificial Intelligence Industry\n",
            "Leading tech giants like Google, Amazon, and Microsoft are at the forefront of AI research and development, investing heavily in cutting-edge technologies and solutions. Additionally, emerging startups are disrupting the AI landscape with innovative approaches and solutions that are challenging the status quo. Collaboration between academia and industry is pushing the boundaries of AI, fostering a dynamic ecosystem of research and innovation.\n",
            "\n",
            "## Noteworthy News in Artificial Intelligence\n",
            "Breakthroughs in natural language processing and computer vision have opened up new possibilities for AI applications, from virtual assistants to autonomous vehicles. AI is also being leveraged to combat climate change and improve sustainability, with algorithms and models driving impactful solutions. However, the impact of AI on job markets and workforce automation raises important questions about the future of work and the need for reskilling and upskilling in the age of AI.\n",
            "\n",
            "## Ethical Considerations in AI Development\n",
            "As AI becomes more pervasive in our society, ethical considerations in AI development are becoming increasingly important. From bias in algorithms to data privacy concerns, navigating the ethical dilemmas of AI requires a thoughtful and proactive approach. Establishing guidelines and frameworks for responsible AI development is essential to ensure that AI benefits society as a whole.\n",
            "\n",
            "## Future Implications of AI\n",
            "The future of artificial intelligence holds immense potential for both opportunities and challenges. As AI continues to evolve and expand its capabilities, it will reshape industries, redefine jobs, and transform the way we interact with technology. Staying informed and engaged with AI developments through reputable sources is key to navigating the complex landscape of AI and harnessing its benefits for a better future.\n",
            "\n",
            "## Call to Action\n",
            "In conclusion, the future of artificial intelligence is filled with promise and potential, but it also presents ethical, social, and economic challenges that must be addressed. By staying informed and engaged with AI developments, we can shape the future of AI in a responsible and sustainable manner. Let us embrace the opportunities that AI brings while also being mindful of the risks and implications, ensuring a future where AI works for the betterment of society.\n",
            "\n",
            "Remember to stay updated on Artificial Intelligence trends, explore the key players in the AI industry, and follow the latest news on AI developments to be at the forefront of this technological revolution.\u001b[0m\n",
            "\n",
            "\u001b[1m> Finished chain.\u001b[0m\n",
            "\u001b[1m\u001b[92m [DEBUG]: == [Editor] Task output: # The Future of Artificial Intelligence: Trends, Players, and News\n",
            "\n",
            "## Introduction\n",
            "Artificial Intelligence (AI) has rapidly become a transformative force in our world, revolutionizing industries and reshaping the way we live and work. Staying informed on the latest AI trends and developments is crucial in understanding the future implications of this cutting-edge technology.\n",
            "\n",
            "## Latest Trends in Artificial Intelligence\n",
            "Advancements in machine learning and deep learning have propelled AI to new heights, enabling machines to learn from data and make decisions with minimal human intervention. This has led to the integration of AI in various sectors such as healthcare, finance, and automotive, where AI-powered solutions are optimizing processes and driving innovation. However, with great power comes great responsibility, as ethical considerations and regulations in AI development are paramount to ensure the responsible use of this powerful technology.\n",
            "\n",
            "## Key Players in the Artificial Intelligence Industry\n",
            "Leading tech giants like Google, Amazon, and Microsoft are at the forefront of AI research and development, investing heavily in cutting-edge technologies and solutions. Additionally, emerging startups are disrupting the AI landscape with innovative approaches and solutions that are challenging the status quo. Collaboration between academia and industry is pushing the boundaries of AI, fostering a dynamic ecosystem of research and innovation.\n",
            "\n",
            "## Noteworthy News in Artificial Intelligence\n",
            "Breakthroughs in natural language processing and computer vision have opened up new possibilities for AI applications, from virtual assistants to autonomous vehicles. AI is also being leveraged to combat climate change and improve sustainability, with algorithms and models driving impactful solutions. However, the impact of AI on job markets and workforce automation raises important questions about the future of work and the need for reskilling and upskilling in the age of AI.\n",
            "\n",
            "## Ethical Considerations in AI Development\n",
            "As AI becomes more pervasive in our society, ethical considerations in AI development are becoming increasingly important. From bias in algorithms to data privacy concerns, navigating the ethical dilemmas of AI requires a thoughtful and proactive approach. Establishing guidelines and frameworks for responsible AI development is essential to ensure that AI benefits society as a whole.\n",
            "\n",
            "## Future Implications of AI\n",
            "The future of artificial intelligence holds immense potential for both opportunities and challenges. As AI continues to evolve and expand its capabilities, it will reshape industries, redefine jobs, and transform the way we interact with technology. Staying informed and engaged with AI developments through reputable sources is key to navigating the complex landscape of AI and harnessing its benefits for a better future.\n",
            "\n",
            "## Call to Action\n",
            "In conclusion, the future of artificial intelligence is filled with promise and potential, but it also presents ethical, social, and economic challenges that must be addressed. By staying informed and engaged with AI developments, we can shape the future of AI in a responsible and sustainable manner. Let us embrace the opportunities that AI brings while also being mindful of the risks and implications, ensuring a future where AI works for the betterment of society.\n",
            "\n",
            "Remember to stay updated on Artificial Intelligence trends, explore the key players in the AI industry, and follow the latest news on AI developments to be at the forefront of this technological revolution.\n",
            "\n",
            "\u001b[00m\n"
          ]
        }
      ],
      "source": [
        "result = crew.kickoff(inputs={\"topic\": \"Artificial Intelligence\"})"
      ]
    },
    {
      "cell_type": "markdown",
      "metadata": {
        "id": "FgMTtuemNm_9"
      },
      "source": [
        "- Display the results of your execution as markdown in the notebook."
      ]
    },
    {
      "cell_type": "code",
      "execution_count": null,
      "metadata": {
        "height": 47,
        "colab": {
          "base_uri": "https://localhost:8080/",
          "height": 828
        },
        "id": "wQ4ZZupNNm_9",
        "outputId": "6d6517ba-65e4-44fa-ee17-f201fc7ef7ea"
      },
      "outputs": [
        {
          "output_type": "execute_result",
          "data": {
            "text/plain": [
              "<IPython.core.display.Markdown object>"
            ],
            "text/markdown": "# The Future of Artificial Intelligence: Trends, Players, and News\n\n## Introduction\nArtificial Intelligence (AI) has rapidly become a transformative force in our world, revolutionizing industries and reshaping the way we live and work. Staying informed on the latest AI trends and developments is crucial in understanding the future implications of this cutting-edge technology.\n\n## Latest Trends in Artificial Intelligence\nAdvancements in machine learning and deep learning have propelled AI to new heights, enabling machines to learn from data and make decisions with minimal human intervention. This has led to the integration of AI in various sectors such as healthcare, finance, and automotive, where AI-powered solutions are optimizing processes and driving innovation. However, with great power comes great responsibility, as ethical considerations and regulations in AI development are paramount to ensure the responsible use of this powerful technology.\n\n## Key Players in the Artificial Intelligence Industry\nLeading tech giants like Google, Amazon, and Microsoft are at the forefront of AI research and development, investing heavily in cutting-edge technologies and solutions. Additionally, emerging startups are disrupting the AI landscape with innovative approaches and solutions that are challenging the status quo. Collaboration between academia and industry is pushing the boundaries of AI, fostering a dynamic ecosystem of research and innovation.\n\n## Noteworthy News in Artificial Intelligence\nBreakthroughs in natural language processing and computer vision have opened up new possibilities for AI applications, from virtual assistants to autonomous vehicles. AI is also being leveraged to combat climate change and improve sustainability, with algorithms and models driving impactful solutions. However, the impact of AI on job markets and workforce automation raises important questions about the future of work and the need for reskilling and upskilling in the age of AI.\n\n## Ethical Considerations in AI Development\nAs AI becomes more pervasive in our society, ethical considerations in AI development are becoming increasingly important. From bias in algorithms to data privacy concerns, navigating the ethical dilemmas of AI requires a thoughtful and proactive approach. Establishing guidelines and frameworks for responsible AI development is essential to ensure that AI benefits society as a whole.\n\n## Future Implications of AI\nThe future of artificial intelligence holds immense potential for both opportunities and challenges. As AI continues to evolve and expand its capabilities, it will reshape industries, redefine jobs, and transform the way we interact with technology. Staying informed and engaged with AI developments through reputable sources is key to navigating the complex landscape of AI and harnessing its benefits for a better future.\n\n## Call to Action\nIn conclusion, the future of artificial intelligence is filled with promise and potential, but it also presents ethical, social, and economic challenges that must be addressed. By staying informed and engaged with AI developments, we can shape the future of AI in a responsible and sustainable manner. Let us embrace the opportunities that AI brings while also being mindful of the risks and implications, ensuring a future where AI works for the betterment of society.\n\nRemember to stay updated on Artificial Intelligence trends, explore the key players in the AI industry, and follow the latest news on AI developments to be at the forefront of this technological revolution."
          },
          "metadata": {},
          "execution_count": 13
        }
      ],
      "source": [
        "# save the general workflow reseult as a markdown file and print its content\n",
        "from IPython.display import Markdown\n",
        "Markdown(result)"
      ]
    },
    {
      "cell_type": "markdown",
      "source": [],
      "metadata": {
        "id": "vSTRcc9KhXnE"
      }
    },
    {
      "cell_type": "markdown",
      "metadata": {
        "id": "hK4UJoC5Nm_9"
      },
      "source": [
        "## Additional Execution Example - Try it yourself!\n",
        "\n",
        "- Pass in a topic of your choice and see what the agents come up with!"
      ]
    },
    {
      "cell_type": "code",
      "execution_count": null,
      "metadata": {
        "height": 47,
        "id": "zeHec7D_Nm_9"
      },
      "outputs": [],
      "source": [
        "# topic = \"YOUR TOPIC HERE\"\n",
        "# result = crew.kickoff(inputs={\"topic\": topic})"
      ]
    },
    {
      "cell_type": "code",
      "execution_count": null,
      "metadata": {
        "height": 47,
        "colab": {
          "base_uri": "https://localhost:8080/"
        },
        "id": "hhL3PFl4aULY",
        "outputId": "1a5465be-10bb-4427-cfed-80ed0510a2fd"
      },
      "outputs": [
        {
          "output_type": "stream",
          "name": "stdout",
          "text": [
            "\u001b[1m\u001b[95m [DEBUG]: == Working Agent: Content Planner\u001b[00m\n",
            "\u001b[1m\u001b[95m [INFO]: == Starting Task: 1. Prioritize the latest trends, key players, and noteworthy news on Quantum mechanics.\n",
            "2. Identify the target audience, considering their interests and pain points.\n",
            "3. Develop a detailed content outline including an introduction, key points, and a call to action.\n",
            "4. Include SEO keywords and relevant data or sources.\u001b[00m\n",
            "\n",
            "\n",
            "\u001b[1m> Entering new CrewAgentExecutor chain...\u001b[0m\n",
            "\u001b[32;1m\u001b[1;3mI now can give a great answer\n",
            "\n",
            "Final Answer: \n",
            "\n",
            "Content Plan Document\n",
            "\n",
            "Title: Unraveling the Mysteries of Quantum Mechanics\n",
            "\n",
            "Introduction:\n",
            "- Brief explanation of quantum mechanics and its significance in modern physics\n",
            "- Overview of the latest trends and advancements in quantum mechanics research\n",
            "- Mention key players in the field and recent noteworthy news articles\n",
            "\n",
            "Target Audience:\n",
            "- Science enthusiasts, students, and professionals in the field of physics\n",
            "- Those interested in cutting-edge scientific discoveries and theories\n",
            "- Individuals looking to expand their knowledge of quantum mechanics\n",
            "\n",
            "Audience Interests and Pain Points:\n",
            "- Interest in understanding complex scientific concepts\n",
            "- Desire to stay updated on the latest developments in the field of physics\n",
            "- Pain points related to the difficulty of grasping quantum mechanics principles\n",
            "\n",
            "Content Outline:\n",
            "1. Introduction to Quantum Mechanics\n",
            "- Brief history and key concepts\n",
            "- Importance of quantum mechanics in modern physics\n",
            "\n",
            "2. Latest Trends and Advancements\n",
            "- Overview of recent breakthroughs in quantum mechanics research\n",
            "- Discussion on quantum computing, entanglement, and superposition\n",
            "\n",
            "3. Key Players and Noteworthy News\n",
            "- Profiles of prominent scientists in the field\n",
            "- Summary of recent news articles related to quantum mechanics\n",
            "\n",
            "4. Call to Action\n",
            "- Encourage readers to explore further resources on quantum mechanics\n",
            "- Invite them to engage in discussions and share their thoughts on the topic\n",
            "\n",
            "SEO Keywords:\n",
            "- Quantum mechanics\n",
            "- Quantum physics\n",
            "- Quantum theory\n",
            "- Quantum computing\n",
            "- Quantum entanglement\n",
            "\n",
            "Resources:\n",
            "- Scientific journals and articles on quantum mechanics\n",
            "- Websites of leading research institutions in the field\n",
            "- Books on quantum mechanics for further reading\n",
            "\n",
            "Overall, this content plan aims to provide a comprehensive overview of quantum mechanics, catering to a diverse audience interested in the subject. By incorporating the latest trends, key players, and noteworthy news, the blog article will engage readers and encourage them to delve deeper into the fascinating world of quantum physics.\u001b[0m\n",
            "\n",
            "\u001b[1m> Finished chain.\u001b[0m\n",
            "\u001b[1m\u001b[92m [DEBUG]: == [Content Planner] Task output: Content Plan Document\n",
            "\n",
            "Title: Unraveling the Mysteries of Quantum Mechanics\n",
            "\n",
            "Introduction:\n",
            "- Brief explanation of quantum mechanics and its significance in modern physics\n",
            "- Overview of the latest trends and advancements in quantum mechanics research\n",
            "- Mention key players in the field and recent noteworthy news articles\n",
            "\n",
            "Target Audience:\n",
            "- Science enthusiasts, students, and professionals in the field of physics\n",
            "- Those interested in cutting-edge scientific discoveries and theories\n",
            "- Individuals looking to expand their knowledge of quantum mechanics\n",
            "\n",
            "Audience Interests and Pain Points:\n",
            "- Interest in understanding complex scientific concepts\n",
            "- Desire to stay updated on the latest developments in the field of physics\n",
            "- Pain points related to the difficulty of grasping quantum mechanics principles\n",
            "\n",
            "Content Outline:\n",
            "1. Introduction to Quantum Mechanics\n",
            "- Brief history and key concepts\n",
            "- Importance of quantum mechanics in modern physics\n",
            "\n",
            "2. Latest Trends and Advancements\n",
            "- Overview of recent breakthroughs in quantum mechanics research\n",
            "- Discussion on quantum computing, entanglement, and superposition\n",
            "\n",
            "3. Key Players and Noteworthy News\n",
            "- Profiles of prominent scientists in the field\n",
            "- Summary of recent news articles related to quantum mechanics\n",
            "\n",
            "4. Call to Action\n",
            "- Encourage readers to explore further resources on quantum mechanics\n",
            "- Invite them to engage in discussions and share their thoughts on the topic\n",
            "\n",
            "SEO Keywords:\n",
            "- Quantum mechanics\n",
            "- Quantum physics\n",
            "- Quantum theory\n",
            "- Quantum computing\n",
            "- Quantum entanglement\n",
            "\n",
            "Resources:\n",
            "- Scientific journals and articles on quantum mechanics\n",
            "- Websites of leading research institutions in the field\n",
            "- Books on quantum mechanics for further reading\n",
            "\n",
            "Overall, this content plan aims to provide a comprehensive overview of quantum mechanics, catering to a diverse audience interested in the subject. By incorporating the latest trends, key players, and noteworthy news, the blog article will engage readers and encourage them to delve deeper into the fascinating world of quantum physics.\n",
            "\n",
            "\u001b[00m\n",
            "\u001b[1m\u001b[95m [DEBUG]: == Working Agent: Content Writer\u001b[00m\n",
            "\u001b[1m\u001b[95m [INFO]: == Starting Task: 1. Use the content plan to craft a compelling blog post on Quantum mechanics.\n",
            "2. Incorporate SEO keywords naturally.\n",
            "3. Sections/Subtitles are properly named in an engaging manner.\n",
            "4. Ensure the post is structured with an engaging introduction, insightful body, and a summarizing conclusion.\n",
            "5. Proofread for grammatical errors and alignment with the brand's voice.\n",
            "\u001b[00m\n",
            "\n",
            "\n",
            "\u001b[1m> Entering new CrewAgentExecutor chain...\u001b[0m\n",
            "\u001b[32;1m\u001b[1;3mI now can give a great answer\n",
            "\n",
            "Final Answer:\n",
            "\n",
            "# Unraveling the Mysteries of Quantum Mechanics\n",
            "\n",
            "## Introduction to Quantum Mechanics\n",
            "\n",
            "Quantum mechanics, a fundamental theory in physics, has revolutionized our understanding of the universe at its most fundamental levels. Developed in the early 20th century, this theory describes the behavior of particles at the atomic and subatomic levels, challenging our classical notions of reality. Quantum mechanics plays a crucial role in modern physics, with applications in areas such as quantum computing, cryptography, and information theory.\n",
            "\n",
            "## Latest Trends and Advancements\n",
            "\n",
            "Recent years have seen significant breakthroughs in quantum mechanics research, particularly in the fields of quantum computing, entanglement, and superposition. Quantum computing, in particular, holds the promise of exponentially faster computation and has the potential to revolutionize industries ranging from healthcare to finance. Entanglement, a phenomenon where particles become interconnected regardless of distance, continues to baffle scientists and push the boundaries of our understanding of the quantum world. Superposition, the concept that particles can exist in multiple states simultaneously, opens up possibilities for new technologies and innovations.\n",
            "\n",
            "## Key Players and Noteworthy News\n",
            "\n",
            "Prominent scientists in the field of quantum mechanics, such as Niels Bohr, Max Planck, and Richard Feynman, have made significant contributions to the development of the theory. Their work continues to inspire new generations of researchers and students. Recent news articles on quantum mechanics have highlighted advancements in quantum teleportation, quantum encryption, and the quest for a unified theory of quantum gravity.\n",
            "\n",
            "## Call to Action\n",
            "\n",
            "As we continue to unravel the mysteries of quantum mechanics, it is essential to stay informed and engage with the latest developments in the field. I encourage readers to explore further resources on quantum mechanics, including scientific journals, research institutions, and books on the subject. Join the conversation, share your thoughts, and be a part of the exciting journey into the fascinating world of quantum physics.\n",
            "\n",
            "In conclusion, quantum mechanics remains a captivating and ever-evolving field of study, with endless possibilities for discovery and innovation. By staying curious and informed, we can all contribute to the advancement of this groundbreaking theory and shape the future of science.\n",
            "\n",
            "Thank you for joining me on this exploration of quantum mechanics, and I look forward to continuing the conversation with you.\u001b[0m\n",
            "\n",
            "\u001b[1m> Finished chain.\u001b[0m\n",
            "\u001b[1m\u001b[92m [DEBUG]: == [Content Writer] Task output: # Unraveling the Mysteries of Quantum Mechanics\n",
            "\n",
            "## Introduction to Quantum Mechanics\n",
            "\n",
            "Quantum mechanics, a fundamental theory in physics, has revolutionized our understanding of the universe at its most fundamental levels. Developed in the early 20th century, this theory describes the behavior of particles at the atomic and subatomic levels, challenging our classical notions of reality. Quantum mechanics plays a crucial role in modern physics, with applications in areas such as quantum computing, cryptography, and information theory.\n",
            "\n",
            "## Latest Trends and Advancements\n",
            "\n",
            "Recent years have seen significant breakthroughs in quantum mechanics research, particularly in the fields of quantum computing, entanglement, and superposition. Quantum computing, in particular, holds the promise of exponentially faster computation and has the potential to revolutionize industries ranging from healthcare to finance. Entanglement, a phenomenon where particles become interconnected regardless of distance, continues to baffle scientists and push the boundaries of our understanding of the quantum world. Superposition, the concept that particles can exist in multiple states simultaneously, opens up possibilities for new technologies and innovations.\n",
            "\n",
            "## Key Players and Noteworthy News\n",
            "\n",
            "Prominent scientists in the field of quantum mechanics, such as Niels Bohr, Max Planck, and Richard Feynman, have made significant contributions to the development of the theory. Their work continues to inspire new generations of researchers and students. Recent news articles on quantum mechanics have highlighted advancements in quantum teleportation, quantum encryption, and the quest for a unified theory of quantum gravity.\n",
            "\n",
            "## Call to Action\n",
            "\n",
            "As we continue to unravel the mysteries of quantum mechanics, it is essential to stay informed and engage with the latest developments in the field. I encourage readers to explore further resources on quantum mechanics, including scientific journals, research institutions, and books on the subject. Join the conversation, share your thoughts, and be a part of the exciting journey into the fascinating world of quantum physics.\n",
            "\n",
            "In conclusion, quantum mechanics remains a captivating and ever-evolving field of study, with endless possibilities for discovery and innovation. By staying curious and informed, we can all contribute to the advancement of this groundbreaking theory and shape the future of science.\n",
            "\n",
            "Thank you for joining me on this exploration of quantum mechanics, and I look forward to continuing the conversation with you.\n",
            "\n",
            "\u001b[00m\n",
            "\u001b[1m\u001b[95m [DEBUG]: == Working Agent: Editor\u001b[00m\n",
            "\u001b[1m\u001b[95m [INFO]: == Starting Task: Proofread the given blog post for grammatical errors and alignment with the brand's voice.\u001b[00m\n",
            "\n",
            "\n",
            "\u001b[1m> Entering new CrewAgentExecutor chain...\u001b[0m\n",
            "\u001b[32;1m\u001b[1;3mI now can give a great answer\n",
            "\n",
            "Final Answer:\n",
            "# Unraveling the Mysteries of Quantum Mechanics\n",
            "\n",
            "## Introduction to Quantum Mechanics\n",
            "\n",
            "Quantum mechanics, a fundamental theory in physics, has revolutionized our understanding of the universe at its most fundamental levels. Developed in the early 20th century, this theory describes the behavior of particles at the atomic and subatomic levels, challenging our classical notions of reality. Quantum mechanics plays a crucial role in modern physics, with applications in areas such as quantum computing, cryptography, and information theory.\n",
            "\n",
            "Recent years have seen significant breakthroughs in quantum mechanics research, particularly in the fields of quantum computing, entanglement, and superposition. Quantum computing, in particular, holds the promise of exponentially faster computation and has the potential to revolutionize industries ranging from healthcare to finance. Entanglement, a phenomenon where particles become interconnected regardless of distance, continues to baffle scientists and push the boundaries of our understanding of the quantum world. Superposition, the concept that particles can exist in multiple states simultaneously, opens up possibilities for new technologies and innovations.\n",
            "\n",
            "## Key Players and Noteworthy News\n",
            "\n",
            "Prominent scientists in the field of quantum mechanics, such as Niels Bohr, Max Planck, and Richard Feynman, have made significant contributions to the development of the theory. Their work continues to inspire new generations of researchers and students. Recent news articles on quantum mechanics have highlighted advancements in quantum teleportation, quantum encryption, and the quest for a unified theory of quantum gravity.\n",
            "\n",
            "## Call to Action\n",
            "\n",
            "As we continue to unravel the mysteries of quantum mechanics, it is essential to stay informed and engage with the latest developments in the field. I encourage readers to explore further resources on quantum mechanics, including scientific journals, research institutions, and books on the subject. Join the conversation, share your thoughts, and be a part of the exciting journey into the fascinating world of quantum physics.\n",
            "\n",
            "In conclusion, quantum mechanics remains a captivating and ever-evolving field of study, with endless possibilities for discovery and innovation. By staying curious and informed, we can all contribute to the advancement of this groundbreaking theory and shape the future of science.\n",
            "\n",
            "Thank you for joining me on this exploration of quantum mechanics, and I look forward to continuing the conversation with you.\u001b[0m\n",
            "\n",
            "\u001b[1m> Finished chain.\u001b[0m\n",
            "\u001b[1m\u001b[92m [DEBUG]: == [Editor] Task output: # Unraveling the Mysteries of Quantum Mechanics\n",
            "\n",
            "## Introduction to Quantum Mechanics\n",
            "\n",
            "Quantum mechanics, a fundamental theory in physics, has revolutionized our understanding of the universe at its most fundamental levels. Developed in the early 20th century, this theory describes the behavior of particles at the atomic and subatomic levels, challenging our classical notions of reality. Quantum mechanics plays a crucial role in modern physics, with applications in areas such as quantum computing, cryptography, and information theory.\n",
            "\n",
            "Recent years have seen significant breakthroughs in quantum mechanics research, particularly in the fields of quantum computing, entanglement, and superposition. Quantum computing, in particular, holds the promise of exponentially faster computation and has the potential to revolutionize industries ranging from healthcare to finance. Entanglement, a phenomenon where particles become interconnected regardless of distance, continues to baffle scientists and push the boundaries of our understanding of the quantum world. Superposition, the concept that particles can exist in multiple states simultaneously, opens up possibilities for new technologies and innovations.\n",
            "\n",
            "## Key Players and Noteworthy News\n",
            "\n",
            "Prominent scientists in the field of quantum mechanics, such as Niels Bohr, Max Planck, and Richard Feynman, have made significant contributions to the development of the theory. Their work continues to inspire new generations of researchers and students. Recent news articles on quantum mechanics have highlighted advancements in quantum teleportation, quantum encryption, and the quest for a unified theory of quantum gravity.\n",
            "\n",
            "## Call to Action\n",
            "\n",
            "As we continue to unravel the mysteries of quantum mechanics, it is essential to stay informed and engage with the latest developments in the field. I encourage readers to explore further resources on quantum mechanics, including scientific journals, research institutions, and books on the subject. Join the conversation, share your thoughts, and be a part of the exciting journey into the fascinating world of quantum physics.\n",
            "\n",
            "In conclusion, quantum mechanics remains a captivating and ever-evolving field of study, with endless possibilities for discovery and innovation. By staying curious and informed, we can all contribute to the advancement of this groundbreaking theory and shape the future of science.\n",
            "\n",
            "Thank you for joining me on this exploration of quantum mechanics, and I look forward to continuing the conversation with you.\n",
            "\n",
            "\u001b[00m\n"
          ]
        }
      ],
      "source": [
        "topic = \"Quantum mechanics\"\n",
        "result = crew.kickoff(inputs={\"topic\": topic})"
      ]
    },
    {
      "cell_type": "code",
      "execution_count": null,
      "metadata": {
        "height": 30,
        "colab": {
          "base_uri": "https://localhost:8080/",
          "height": 538
        },
        "id": "JglQHfbwNm_-",
        "outputId": "2cb9a674-1f8c-417d-f61d-07eebf818d29"
      },
      "outputs": [
        {
          "output_type": "execute_result",
          "data": {
            "text/plain": [
              "<IPython.core.display.Markdown object>"
            ],
            "text/markdown": "# Unraveling the Mysteries of Quantum Mechanics\n\n## Introduction to Quantum Mechanics\n\nQuantum mechanics, a fundamental theory in physics, has revolutionized our understanding of the universe at its most fundamental levels. Developed in the early 20th century, this theory describes the behavior of particles at the atomic and subatomic levels, challenging our classical notions of reality. Quantum mechanics plays a crucial role in modern physics, with applications in areas such as quantum computing, cryptography, and information theory.\n\nRecent years have seen significant breakthroughs in quantum mechanics research, particularly in the fields of quantum computing, entanglement, and superposition. Quantum computing, in particular, holds the promise of exponentially faster computation and has the potential to revolutionize industries ranging from healthcare to finance. Entanglement, a phenomenon where particles become interconnected regardless of distance, continues to baffle scientists and push the boundaries of our understanding of the quantum world. Superposition, the concept that particles can exist in multiple states simultaneously, opens up possibilities for new technologies and innovations.\n\n## Key Players and Noteworthy News\n\nProminent scientists in the field of quantum mechanics, such as Niels Bohr, Max Planck, and Richard Feynman, have made significant contributions to the development of the theory. Their work continues to inspire new generations of researchers and students. Recent news articles on quantum mechanics have highlighted advancements in quantum teleportation, quantum encryption, and the quest for a unified theory of quantum gravity.\n\n## Call to Action\n\nAs we continue to unravel the mysteries of quantum mechanics, it is essential to stay informed and engage with the latest developments in the field. I encourage readers to explore further resources on quantum mechanics, including scientific journals, research institutions, and books on the subject. Join the conversation, share your thoughts, and be a part of the exciting journey into the fascinating world of quantum physics.\n\nIn conclusion, quantum mechanics remains a captivating and ever-evolving field of study, with endless possibilities for discovery and innovation. By staying curious and informed, we can all contribute to the advancement of this groundbreaking theory and shape the future of science.\n\nThank you for joining me on this exploration of quantum mechanics, and I look forward to continuing the conversation with you."
          },
          "metadata": {},
          "execution_count": 16
        }
      ],
      "source": [
        "Markdown(result)"
      ]
    },
    {
      "cell_type": "markdown",
      "source": [
        "## Downloading the markdown file"
      ],
      "metadata": {
        "id": "3OaXvpEwfYSa"
      }
    },
    {
      "cell_type": "code",
      "source": [
        "# !pip install markdown"
      ],
      "metadata": {
        "id": "hXeMAlZ7lZ0P"
      },
      "execution_count": null,
      "outputs": []
    },
    {
      "cell_type": "code",
      "source": [
        "import markdown"
      ],
      "metadata": {
        "id": "gd8ofr72loot"
      },
      "execution_count": null,
      "outputs": []
    },
    {
      "cell_type": "code",
      "source": [
        "markdown_content = Markdown(result)\n",
        "file_name = \"quantum_mechanics.md\"\n",
        "\n",
        "with open(file_name, 'w', encoding='utf-8') as file:\n",
        "    file.write(str(markdown_content))\n"
      ],
      "metadata": {
        "id": "xeF3QSkOfeKI"
      },
      "execution_count": null,
      "outputs": []
    },
    {
      "cell_type": "code",
      "source": [
        "with open(file_name, 'r') as file:\n",
        "    content = file.read()\n",
        "print(content)\n"
      ],
      "metadata": {
        "colab": {
          "base_uri": "https://localhost:8080/"
        },
        "id": "D4XZd5tXhqIy",
        "outputId": "72459cb6-e463-4e1f-9e87-671d482ab68e"
      },
      "execution_count": null,
      "outputs": [
        {
          "output_type": "stream",
          "name": "stdout",
          "text": [
            "<IPython.core.display.Markdown object>\n"
          ]
        }
      ]
    },
    {
      "cell_type": "code",
      "source": [],
      "metadata": {
        "id": "_Z94pmNFhtv3"
      },
      "execution_count": null,
      "outputs": []
    },
    {
      "cell_type": "markdown",
      "metadata": {
        "id": "6ku9yKlBNm_-"
      },
      "source": [
        "<a name='1'></a>\n",
        " ## Other Popular Models as LLM for your Agents"
      ]
    },
    {
      "cell_type": "markdown",
      "metadata": {
        "id": "h3WogkuUNm_-"
      },
      "source": [
        "#### Hugging Face (HuggingFaceHub endpoint)\n",
        "\n",
        "```Python\n",
        "from langchain_community.llms import HuggingFaceHub\n",
        "\n",
        "llm = HuggingFaceHub(\n",
        "    repo_id=\"HuggingFaceH4/zephyr-7b-beta\",\n",
        "    huggingfacehub_api_token=\"<HF_TOKEN_HERE>\",\n",
        "    task=\"text-generation\",\n",
        ")\n",
        "\n",
        "### you will pass \"llm\" to your agent function\n",
        "```"
      ]
    },
    {
      "cell_type": "markdown",
      "metadata": {
        "id": "jAy07MtnNm_-"
      },
      "source": [
        "#### Mistral API\n",
        "\n",
        "```Python\n",
        "OPENAI_API_KEY=your-mistral-api-key\n",
        "OPENAI_API_BASE=https://api.mistral.ai/v1\n",
        "OPENAI_MODEL_NAME=\"mistral-small\"\n",
        "```"
      ]
    },
    {
      "cell_type": "markdown",
      "metadata": {
        "id": "VKmk-CmNNm_-"
      },
      "source": [
        "#### Cohere\n",
        "\n",
        "```Python\n",
        "from langchain_community.chat_models import ChatCohere\n",
        "# Initialize language model\n",
        "os.environ[\"COHERE_API_KEY\"] = \"your-cohere-api-key\"\n",
        "llm = ChatCohere()\n",
        "\n",
        "### you will pass \"llm\" to your agent function\n",
        "```"
      ]
    },
    {
      "cell_type": "markdown",
      "metadata": {
        "id": "D0VPAqHoNm__"
      },
      "source": [
        "### For using Llama locally with Ollama and more, checkout the crewAI documentation on [Connecting to any LLM](https://docs.crewai.com/how-to/LLM-Connections/)."
      ]
    },
    {
      "cell_type": "code",
      "execution_count": null,
      "metadata": {
        "height": 30,
        "id": "u9yFbF4TNm__"
      },
      "outputs": [],
      "source": []
    },
    {
      "cell_type": "markdown",
      "source": [
        "# Conclusion\n",
        "\n",
        "This notebook demonstrates how to automate content creation using a multi-agent system, providing a robust framework for generating high-quality written content on various topics.\n",
        "\n",
        "What we learned is:\n",
        "\n",
        "Agent:\n",
        "- agent performs better when role-playing\n",
        "- make sure to focus on goal and expections\n",
        "\n",
        "\n",
        "Tasks:\n",
        "- one agent can do multiple tasks\n",
        "- tasks and agents should be granular\n",
        "\n",
        "Crew:\n",
        "- tasks can be executed in different ways: sequentially, in parallel or hierarchically."
      ],
      "metadata": {
        "id": "JGzWZPtJh2a9"
      }
    },
    {
      "cell_type": "code",
      "execution_count": null,
      "metadata": {
        "height": 30,
        "id": "N8Qs0K_FNm__"
      },
      "outputs": [],
      "source": []
    },
    {
      "cell_type": "code",
      "execution_count": null,
      "metadata": {
        "height": 30,
        "id": "PAuzhh5eNm__"
      },
      "outputs": [],
      "source": []
    }
  ],
  "metadata": {
    "colab": {
      "gpuType": "T4",
      "provenance": [],
      "toc_visible": true,
      "include_colab_link": true
    },
    "kernelspec": {
      "display_name": "Python 3 (ipykernel)",
      "language": "python",
      "name": "python3"
    },
    "language_info": {
      "codemirror_mode": {
        "name": "ipython",
        "version": 3
      },
      "file_extension": ".py",
      "mimetype": "text/x-python",
      "name": "python",
      "nbconvert_exporter": "python",
      "pygments_lexer": "ipython3",
      "version": "3.11.9"
    }
  },
  "nbformat": 4,
  "nbformat_minor": 0
}