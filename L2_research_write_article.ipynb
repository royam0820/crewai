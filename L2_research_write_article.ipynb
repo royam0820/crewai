{
  "cells": [
    {
      "cell_type": "markdown",
      "metadata": {
        "id": "view-in-github",
        "colab_type": "text"
      },
      "source": [
        "<a href=\"https://colab.research.google.com/github/royam0820/crewai/blob/main/L2_research_write_article.ipynb\" target=\"_parent\"><img src=\"https://colab.research.google.com/assets/colab-badge.svg\" alt=\"Open In Colab\"/></a>"
      ]
    },
    {
      "cell_type": "markdown",
      "source": [
        "DeepLearning Course on [Multi AI Agent Systems with crewAI](https://learn.deeplearning.ai/courses/multi-ai-agent-systems-with-crewai/lesson/4/create-agents-to-research-and-write-an-article-(code))"
      ],
      "metadata": {
        "id": "x26qBAEYnLaA"
      }
    },
    {
      "cell_type": "markdown",
      "source": [
        "# Writing a blog post"
      ],
      "metadata": {
        "id": "yRM2OFzSeES3"
      }
    },
    {
      "cell_type": "markdown",
      "source": [
        "This Jupyter notebook is designed to **automate the process of writing a blog post on a given topic using agent-based AI systems**. It utilizes the crewai library to create and manage AI agents with different roles in the content creation workflow.\n",
        "\n",
        "The notebook defines three main agents—\n",
        "- Content Planner,\n",
        "- Content Writer, and\n",
        "- Editor, and\n",
        "- orchestrates their tasks using the Crew class to produce a well-written blog post."
      ],
      "metadata": {
        "id": "i9M2lxIieAkg"
      }
    },
    {
      "cell_type": "markdown",
      "metadata": {
        "id": "LI-LY3hLNm_x"
      },
      "source": [
        "You can download the `requirements.txt` for this course from the workspace of this lab. `File --> Open...`\n",
        "\n",
        "\n",
        "\n",
        "```\n",
        "crewai==0.28.8\n",
        "crewai_tools==0.1.6\n",
        "langchain_community==0.0.29# This is formatted as code\n",
        "```\n",
        "\n"
      ]
    },
    {
      "cell_type": "markdown",
      "source": [
        "## Library Installation and Imports"
      ],
      "metadata": {
        "id": "4xFxQAqReNOP"
      }
    },
    {
      "cell_type": "code",
      "source": [
        "!pip install crewai==0.28.8\n",
        "!pip install crewai_tools--0.1.6\n",
        "!pip install langchain_community==0.0.29 # this is formatted as code\n",
        "!pip install utils"
      ],
      "metadata": {
        "colab": {
          "base_uri": "https://localhost:8080/"
        },
        "id": "GtFqlq-UN6uJ",
        "outputId": "5b198865-c08e-4f79-a2ed-ece057b91772"
      },
      "execution_count": 1,
      "outputs": [
        {
          "output_type": "stream",
          "name": "stdout",
          "text": [
            "Collecting crewai==0.28.8\n",
            "  Downloading crewai-0.28.8-py3-none-any.whl (61 kB)\n",
            "\u001b[2K     \u001b[90m━━━━━━━━━━━━━━━━━━━━━━━━━━━━━━━━━━━━━━━━\u001b[0m \u001b[32m61.6/61.6 kB\u001b[0m \u001b[31m781.0 kB/s\u001b[0m eta \u001b[36m0:00:00\u001b[0m\n",
            "\u001b[?25hCollecting appdirs<2.0.0,>=1.4.4 (from crewai==0.28.8)\n",
            "  Downloading appdirs-1.4.4-py2.py3-none-any.whl (9.6 kB)\n",
            "Requirement already satisfied: click<9.0.0,>=8.1.7 in /usr/local/lib/python3.10/dist-packages (from crewai==0.28.8) (8.1.7)\n",
            "Collecting embedchain<0.2.0,>=0.1.98 (from crewai==0.28.8)\n",
            "  Downloading embedchain-0.1.104-py3-none-any.whl (194 kB)\n",
            "\u001b[2K     \u001b[90m━━━━━━━━━━━━━━━━━━━━━━━━━━━━━━━━━━━━━━━━\u001b[0m \u001b[32m194.8/194.8 kB\u001b[0m \u001b[31m4.4 MB/s\u001b[0m eta \u001b[36m0:00:00\u001b[0m\n",
            "\u001b[?25hCollecting instructor<0.6.0,>=0.5.2 (from crewai==0.28.8)\n",
            "  Downloading instructor-0.5.2-py3-none-any.whl (33 kB)\n",
            "Collecting langchain<0.2.0,>=0.1.10 (from crewai==0.28.8)\n",
            "  Downloading langchain-0.1.20-py3-none-any.whl (1.0 MB)\n",
            "\u001b[2K     \u001b[90m━━━━━━━━━━━━━━━━━━━━━━━━━━━━━━━━━━━━━━━━\u001b[0m \u001b[32m1.0/1.0 MB\u001b[0m \u001b[31m21.3 MB/s\u001b[0m eta \u001b[36m0:00:00\u001b[0m\n",
            "\u001b[?25hCollecting openai<2.0.0,>=1.13.3 (from crewai==0.28.8)\n",
            "  Downloading openai-1.30.5-py3-none-any.whl (320 kB)\n",
            "\u001b[2K     \u001b[90m━━━━━━━━━━━━━━━━━━━━━━━━━━━━━━━━━━━━━━━━\u001b[0m \u001b[32m320.7/320.7 kB\u001b[0m \u001b[31m23.6 MB/s\u001b[0m eta \u001b[36m0:00:00\u001b[0m\n",
            "\u001b[?25hCollecting opentelemetry-api<2.0.0,>=1.22.0 (from crewai==0.28.8)\n",
            "  Downloading opentelemetry_api-1.24.0-py3-none-any.whl (60 kB)\n",
            "\u001b[2K     \u001b[90m━━━━━━━━━━━━━━━━━━━━━━━━━━━━━━━━━━━━━━━━\u001b[0m \u001b[32m60.1/60.1 kB\u001b[0m \u001b[31m5.5 MB/s\u001b[0m eta \u001b[36m0:00:00\u001b[0m\n",
            "\u001b[?25hCollecting opentelemetry-exporter-otlp-proto-http<2.0.0,>=1.22.0 (from crewai==0.28.8)\n",
            "  Downloading opentelemetry_exporter_otlp_proto_http-1.24.0-py3-none-any.whl (16 kB)\n",
            "Collecting opentelemetry-sdk<2.0.0,>=1.22.0 (from crewai==0.28.8)\n",
            "  Downloading opentelemetry_sdk-1.24.0-py3-none-any.whl (106 kB)\n",
            "\u001b[2K     \u001b[90m━━━━━━━━━━━━━━━━━━━━━━━━━━━━━━━━━━━━━━━━\u001b[0m \u001b[32m106.1/106.1 kB\u001b[0m \u001b[31m8.6 MB/s\u001b[0m eta \u001b[36m0:00:00\u001b[0m\n",
            "\u001b[?25hRequirement already satisfied: pydantic<3.0.0,>=2.4.2 in /usr/local/lib/python3.10/dist-packages (from crewai==0.28.8) (2.7.1)\n",
            "Collecting python-dotenv==1.0.0 (from crewai==0.28.8)\n",
            "  Downloading python_dotenv-1.0.0-py3-none-any.whl (19 kB)\n",
            "Collecting regex<2024.0.0,>=2023.12.25 (from crewai==0.28.8)\n",
            "  Downloading regex-2023.12.25-cp310-cp310-manylinux_2_17_x86_64.manylinux2014_x86_64.whl (773 kB)\n",
            "\u001b[2K     \u001b[90m━━━━━━━━━━━━━━━━━━━━━━━━━━━━━━━━━━━━━━━━\u001b[0m \u001b[32m774.0/774.0 kB\u001b[0m \u001b[31m13.2 MB/s\u001b[0m eta \u001b[36m0:00:00\u001b[0m\n",
            "\u001b[?25hCollecting alembic<2.0.0,>=1.13.1 (from embedchain<0.2.0,>=0.1.98->crewai==0.28.8)\n",
            "  Downloading alembic-1.13.1-py3-none-any.whl (233 kB)\n",
            "\u001b[2K     \u001b[90m━━━━━━━━━━━━━━━━━━━━━━━━━━━━━━━━━━━━━━━━\u001b[0m \u001b[32m233.4/233.4 kB\u001b[0m \u001b[31m3.1 MB/s\u001b[0m eta \u001b[36m0:00:00\u001b[0m\n",
            "\u001b[?25hRequirement already satisfied: beautifulsoup4<5.0.0,>=4.12.2 in /usr/local/lib/python3.10/dist-packages (from embedchain<0.2.0,>=0.1.98->crewai==0.28.8) (4.12.3)\n",
            "Collecting chromadb<0.6.0,>=0.5.0 (from embedchain<0.2.0,>=0.1.98->crewai==0.28.8)\n",
            "  Downloading chromadb-0.5.0-py3-none-any.whl (526 kB)\n",
            "\u001b[2K     \u001b[90m━━━━━━━━━━━━━━━━━━━━━━━━━━━━━━━━━━━━━━━━\u001b[0m \u001b[32m526.8/526.8 kB\u001b[0m \u001b[31m11.9 MB/s\u001b[0m eta \u001b[36m0:00:00\u001b[0m\n",
            "\u001b[?25hRequirement already satisfied: google-cloud-aiplatform<2.0.0,>=1.26.1 in /usr/local/lib/python3.10/dist-packages (from embedchain<0.2.0,>=0.1.98->crewai==0.28.8) (1.52.0)\n",
            "Collecting gptcache<0.2.0,>=0.1.43 (from embedchain<0.2.0,>=0.1.98->crewai==0.28.8)\n",
            "  Downloading gptcache-0.1.43-py3-none-any.whl (131 kB)\n",
            "\u001b[2K     \u001b[90m━━━━━━━━━━━━━━━━━━━━━━━━━━━━━━━━━━━━━━━━\u001b[0m \u001b[32m131.5/131.5 kB\u001b[0m \u001b[31m6.1 MB/s\u001b[0m eta \u001b[36m0:00:00\u001b[0m\n",
            "\u001b[?25hCollecting langchain-cohere<0.2.0,>=0.1.4 (from embedchain<0.2.0,>=0.1.98->crewai==0.28.8)\n",
            "  Downloading langchain_cohere-0.1.5-py3-none-any.whl (30 kB)\n",
            "Collecting langchain-openai<0.2.0,>=0.1.7 (from embedchain<0.2.0,>=0.1.98->crewai==0.28.8)\n",
            "  Downloading langchain_openai-0.1.8-py3-none-any.whl (38 kB)\n",
            "Collecting posthog<4.0.0,>=3.0.2 (from embedchain<0.2.0,>=0.1.98->crewai==0.28.8)\n",
            "  Downloading posthog-3.5.0-py2.py3-none-any.whl (41 kB)\n",
            "\u001b[2K     \u001b[90m━━━━━━━━━━━━━━━━━━━━━━━━━━━━━━━━━━━━━━━━\u001b[0m \u001b[32m41.3/41.3 kB\u001b[0m \u001b[31m3.1 MB/s\u001b[0m eta \u001b[36m0:00:00\u001b[0m\n",
            "\u001b[?25hCollecting pypdf<5.0.0,>=4.0.1 (from embedchain<0.2.0,>=0.1.98->crewai==0.28.8)\n",
            "  Downloading pypdf-4.2.0-py3-none-any.whl (290 kB)\n",
            "\u001b[2K     \u001b[90m━━━━━━━━━━━━━━━━━━━━━━━━━━━━━━━━━━━━━━━━\u001b[0m \u001b[32m290.4/290.4 kB\u001b[0m \u001b[31m15.0 MB/s\u001b[0m eta \u001b[36m0:00:00\u001b[0m\n",
            "\u001b[?25hCollecting pysbd<0.4.0,>=0.3.4 (from embedchain<0.2.0,>=0.1.98->crewai==0.28.8)\n",
            "  Downloading pysbd-0.3.4-py3-none-any.whl (71 kB)\n",
            "\u001b[2K     \u001b[90m━━━━━━━━━━━━━━━━━━━━━━━━━━━━━━━━━━━━━━━━\u001b[0m \u001b[32m71.1/71.1 kB\u001b[0m \u001b[31m8.1 MB/s\u001b[0m eta \u001b[36m0:00:00\u001b[0m\n",
            "\u001b[?25hRequirement already satisfied: rich<14.0.0,>=13.7.0 in /usr/local/lib/python3.10/dist-packages (from embedchain<0.2.0,>=0.1.98->crewai==0.28.8) (13.7.1)\n",
            "Collecting schema<0.8.0,>=0.7.5 (from embedchain<0.2.0,>=0.1.98->crewai==0.28.8)\n",
            "  Downloading schema-0.7.7-py2.py3-none-any.whl (18 kB)\n",
            "Requirement already satisfied: sqlalchemy<3.0.0,>=2.0.27 in /usr/local/lib/python3.10/dist-packages (from embedchain<0.2.0,>=0.1.98->crewai==0.28.8) (2.0.30)\n",
            "Collecting tiktoken<0.8.0,>=0.7.0 (from embedchain<0.2.0,>=0.1.98->crewai==0.28.8)\n",
            "  Downloading tiktoken-0.7.0-cp310-cp310-manylinux_2_17_x86_64.manylinux2014_x86_64.whl (1.1 MB)\n",
            "\u001b[2K     \u001b[90m━━━━━━━━━━━━━━━━━━━━━━━━━━━━━━━━━━━━━━━━\u001b[0m \u001b[32m1.1/1.1 MB\u001b[0m \u001b[31m44.7 MB/s\u001b[0m eta \u001b[36m0:00:00\u001b[0m\n",
            "\u001b[?25hRequirement already satisfied: aiohttp<4.0.0,>=3.9.1 in /usr/local/lib/python3.10/dist-packages (from instructor<0.6.0,>=0.5.2->crewai==0.28.8) (3.9.5)\n",
            "Collecting docstring-parser<0.16,>=0.15 (from instructor<0.6.0,>=0.5.2->crewai==0.28.8)\n",
            "  Downloading docstring_parser-0.15-py3-none-any.whl (36 kB)\n",
            "Requirement already satisfied: tenacity<9.0.0,>=8.2.3 in /usr/local/lib/python3.10/dist-packages (from instructor<0.6.0,>=0.5.2->crewai==0.28.8) (8.3.0)\n",
            "Requirement already satisfied: typer<0.10.0,>=0.9.0 in /usr/local/lib/python3.10/dist-packages (from instructor<0.6.0,>=0.5.2->crewai==0.28.8) (0.9.4)\n",
            "Requirement already satisfied: PyYAML>=5.3 in /usr/local/lib/python3.10/dist-packages (from langchain<0.2.0,>=0.1.10->crewai==0.28.8) (6.0.1)\n",
            "Requirement already satisfied: async-timeout<5.0.0,>=4.0.0 in /usr/local/lib/python3.10/dist-packages (from langchain<0.2.0,>=0.1.10->crewai==0.28.8) (4.0.3)\n",
            "Collecting dataclasses-json<0.7,>=0.5.7 (from langchain<0.2.0,>=0.1.10->crewai==0.28.8)\n",
            "  Downloading dataclasses_json-0.6.6-py3-none-any.whl (28 kB)\n",
            "Collecting langchain-community<0.1,>=0.0.38 (from langchain<0.2.0,>=0.1.10->crewai==0.28.8)\n",
            "  Downloading langchain_community-0.0.38-py3-none-any.whl (2.0 MB)\n",
            "\u001b[2K     \u001b[90m━━━━━━━━━━━━━━━━━━━━━━━━━━━━━━━━━━━━━━━━\u001b[0m \u001b[32m2.0/2.0 MB\u001b[0m \u001b[31m50.8 MB/s\u001b[0m eta \u001b[36m0:00:00\u001b[0m\n",
            "\u001b[?25hCollecting langchain-core<0.2.0,>=0.1.52 (from langchain<0.2.0,>=0.1.10->crewai==0.28.8)\n",
            "  Downloading langchain_core-0.1.52-py3-none-any.whl (302 kB)\n",
            "\u001b[2K     \u001b[90m━━━━━━━━━━━━━━━━━━━━━━━━━━━━━━━━━━━━━━━━\u001b[0m \u001b[32m302.9/302.9 kB\u001b[0m \u001b[31m20.7 MB/s\u001b[0m eta \u001b[36m0:00:00\u001b[0m\n",
            "\u001b[?25hCollecting langchain-text-splitters<0.1,>=0.0.1 (from langchain<0.2.0,>=0.1.10->crewai==0.28.8)\n",
            "  Downloading langchain_text_splitters-0.0.2-py3-none-any.whl (23 kB)\n",
            "Collecting langsmith<0.2.0,>=0.1.17 (from langchain<0.2.0,>=0.1.10->crewai==0.28.8)\n",
            "  Downloading langsmith-0.1.64-py3-none-any.whl (123 kB)\n",
            "\u001b[2K     \u001b[90m━━━━━━━━━━━━━━━━━━━━━━━━━━━━━━━━━━━━━━━━\u001b[0m \u001b[32m123.4/123.4 kB\u001b[0m \u001b[31m10.3 MB/s\u001b[0m eta \u001b[36m0:00:00\u001b[0m\n",
            "\u001b[?25hRequirement already satisfied: numpy<2,>=1 in /usr/local/lib/python3.10/dist-packages (from langchain<0.2.0,>=0.1.10->crewai==0.28.8) (1.25.2)\n",
            "Requirement already satisfied: requests<3,>=2 in /usr/local/lib/python3.10/dist-packages (from langchain<0.2.0,>=0.1.10->crewai==0.28.8) (2.31.0)\n",
            "Requirement already satisfied: anyio<5,>=3.5.0 in /usr/local/lib/python3.10/dist-packages (from openai<2.0.0,>=1.13.3->crewai==0.28.8) (3.7.1)\n",
            "Requirement already satisfied: distro<2,>=1.7.0 in /usr/lib/python3/dist-packages (from openai<2.0.0,>=1.13.3->crewai==0.28.8) (1.7.0)\n",
            "Collecting httpx<1,>=0.23.0 (from openai<2.0.0,>=1.13.3->crewai==0.28.8)\n",
            "  Downloading httpx-0.27.0-py3-none-any.whl (75 kB)\n",
            "\u001b[2K     \u001b[90m━━━━━━━━━━━━━━━━━━━━━━━━━━━━━━━━━━━━━━━━\u001b[0m \u001b[32m75.6/75.6 kB\u001b[0m \u001b[31m5.5 MB/s\u001b[0m eta \u001b[36m0:00:00\u001b[0m\n",
            "\u001b[?25hRequirement already satisfied: sniffio in /usr/local/lib/python3.10/dist-packages (from openai<2.0.0,>=1.13.3->crewai==0.28.8) (1.3.1)\n",
            "Requirement already satisfied: tqdm>4 in /usr/local/lib/python3.10/dist-packages (from openai<2.0.0,>=1.13.3->crewai==0.28.8) (4.66.4)\n",
            "Requirement already satisfied: typing-extensions<5,>=4.7 in /usr/local/lib/python3.10/dist-packages (from openai<2.0.0,>=1.13.3->crewai==0.28.8) (4.11.0)\n",
            "Collecting deprecated>=1.2.6 (from opentelemetry-api<2.0.0,>=1.22.0->crewai==0.28.8)\n",
            "  Downloading Deprecated-1.2.14-py2.py3-none-any.whl (9.6 kB)\n",
            "Collecting importlib-metadata<=7.0,>=6.0 (from opentelemetry-api<2.0.0,>=1.22.0->crewai==0.28.8)\n",
            "  Downloading importlib_metadata-7.0.0-py3-none-any.whl (23 kB)\n",
            "Requirement already satisfied: googleapis-common-protos~=1.52 in /usr/local/lib/python3.10/dist-packages (from opentelemetry-exporter-otlp-proto-http<2.0.0,>=1.22.0->crewai==0.28.8) (1.63.0)\n",
            "Collecting opentelemetry-exporter-otlp-proto-common==1.24.0 (from opentelemetry-exporter-otlp-proto-http<2.0.0,>=1.22.0->crewai==0.28.8)\n",
            "  Downloading opentelemetry_exporter_otlp_proto_common-1.24.0-py3-none-any.whl (17 kB)\n",
            "Collecting opentelemetry-proto==1.24.0 (from opentelemetry-exporter-otlp-proto-http<2.0.0,>=1.22.0->crewai==0.28.8)\n",
            "  Downloading opentelemetry_proto-1.24.0-py3-none-any.whl (50 kB)\n",
            "\u001b[2K     \u001b[90m━━━━━━━━━━━━━━━━━━━━━━━━━━━━━━━━━━━━━━━━\u001b[0m \u001b[32m50.8/50.8 kB\u001b[0m \u001b[31m5.1 MB/s\u001b[0m eta \u001b[36m0:00:00\u001b[0m\n",
            "\u001b[?25hRequirement already satisfied: protobuf<5.0,>=3.19 in /usr/local/lib/python3.10/dist-packages (from opentelemetry-proto==1.24.0->opentelemetry-exporter-otlp-proto-http<2.0.0,>=1.22.0->crewai==0.28.8) (3.20.3)\n",
            "Collecting opentelemetry-semantic-conventions==0.45b0 (from opentelemetry-sdk<2.0.0,>=1.22.0->crewai==0.28.8)\n",
            "  Downloading opentelemetry_semantic_conventions-0.45b0-py3-none-any.whl (36 kB)\n",
            "Requirement already satisfied: annotated-types>=0.4.0 in /usr/local/lib/python3.10/dist-packages (from pydantic<3.0.0,>=2.4.2->crewai==0.28.8) (0.7.0)\n",
            "Requirement already satisfied: pydantic-core==2.18.2 in /usr/local/lib/python3.10/dist-packages (from pydantic<3.0.0,>=2.4.2->crewai==0.28.8) (2.18.2)\n",
            "Requirement already satisfied: aiosignal>=1.1.2 in /usr/local/lib/python3.10/dist-packages (from aiohttp<4.0.0,>=3.9.1->instructor<0.6.0,>=0.5.2->crewai==0.28.8) (1.3.1)\n",
            "Requirement already satisfied: attrs>=17.3.0 in /usr/local/lib/python3.10/dist-packages (from aiohttp<4.0.0,>=3.9.1->instructor<0.6.0,>=0.5.2->crewai==0.28.8) (23.2.0)\n",
            "Requirement already satisfied: frozenlist>=1.1.1 in /usr/local/lib/python3.10/dist-packages (from aiohttp<4.0.0,>=3.9.1->instructor<0.6.0,>=0.5.2->crewai==0.28.8) (1.4.1)\n",
            "Requirement already satisfied: multidict<7.0,>=4.5 in /usr/local/lib/python3.10/dist-packages (from aiohttp<4.0.0,>=3.9.1->instructor<0.6.0,>=0.5.2->crewai==0.28.8) (6.0.5)\n",
            "Requirement already satisfied: yarl<2.0,>=1.0 in /usr/local/lib/python3.10/dist-packages (from aiohttp<4.0.0,>=3.9.1->instructor<0.6.0,>=0.5.2->crewai==0.28.8) (1.9.4)\n",
            "Collecting Mako (from alembic<2.0.0,>=1.13.1->embedchain<0.2.0,>=0.1.98->crewai==0.28.8)\n",
            "  Downloading Mako-1.3.5-py3-none-any.whl (78 kB)\n",
            "\u001b[2K     \u001b[90m━━━━━━━━━━━━━━━━━━━━━━━━━━━━━━━━━━━━━━━━\u001b[0m \u001b[32m78.6/78.6 kB\u001b[0m \u001b[31m6.8 MB/s\u001b[0m eta \u001b[36m0:00:00\u001b[0m\n",
            "\u001b[?25hRequirement already satisfied: idna>=2.8 in /usr/local/lib/python3.10/dist-packages (from anyio<5,>=3.5.0->openai<2.0.0,>=1.13.3->crewai==0.28.8) (3.7)\n",
            "Requirement already satisfied: exceptiongroup in /usr/local/lib/python3.10/dist-packages (from anyio<5,>=3.5.0->openai<2.0.0,>=1.13.3->crewai==0.28.8) (1.2.1)\n",
            "Requirement already satisfied: soupsieve>1.2 in /usr/local/lib/python3.10/dist-packages (from beautifulsoup4<5.0.0,>=4.12.2->embedchain<0.2.0,>=0.1.98->crewai==0.28.8) (2.5)\n",
            "Requirement already satisfied: build>=1.0.3 in /usr/local/lib/python3.10/dist-packages (from chromadb<0.6.0,>=0.5.0->embedchain<0.2.0,>=0.1.98->crewai==0.28.8) (1.2.1)\n",
            "Collecting chroma-hnswlib==0.7.3 (from chromadb<0.6.0,>=0.5.0->embedchain<0.2.0,>=0.1.98->crewai==0.28.8)\n",
            "  Downloading chroma_hnswlib-0.7.3-cp310-cp310-manylinux_2_17_x86_64.manylinux2014_x86_64.whl (2.4 MB)\n",
            "\u001b[2K     \u001b[90m━━━━━━━━━━━━━━━━━━━━━━━━━━━━━━━━━━━━━━━━\u001b[0m \u001b[32m2.4/2.4 MB\u001b[0m \u001b[31m59.4 MB/s\u001b[0m eta \u001b[36m0:00:00\u001b[0m\n",
            "\u001b[?25hCollecting fastapi>=0.95.2 (from chromadb<0.6.0,>=0.5.0->embedchain<0.2.0,>=0.1.98->crewai==0.28.8)\n",
            "  Downloading fastapi-0.111.0-py3-none-any.whl (91 kB)\n",
            "\u001b[2K     \u001b[90m━━━━━━━━━━━━━━━━━━━━━━━━━━━━━━━━━━━━━━━━\u001b[0m \u001b[32m92.0/92.0 kB\u001b[0m \u001b[31m8.2 MB/s\u001b[0m eta \u001b[36m0:00:00\u001b[0m\n",
            "\u001b[?25hCollecting uvicorn[standard]>=0.18.3 (from chromadb<0.6.0,>=0.5.0->embedchain<0.2.0,>=0.1.98->crewai==0.28.8)\n",
            "  Downloading uvicorn-0.30.0-py3-none-any.whl (62 kB)\n",
            "\u001b[2K     \u001b[90m━━━━━━━━━━━━━━━━━━━━━━━━━━━━━━━━━━━━━━━━\u001b[0m \u001b[32m62.4/62.4 kB\u001b[0m \u001b[31m4.9 MB/s\u001b[0m eta \u001b[36m0:00:00\u001b[0m\n",
            "\u001b[?25hCollecting onnxruntime>=1.14.1 (from chromadb<0.6.0,>=0.5.0->embedchain<0.2.0,>=0.1.98->crewai==0.28.8)\n",
            "  Downloading onnxruntime-1.18.0-cp310-cp310-manylinux_2_27_x86_64.manylinux_2_28_x86_64.whl (6.8 MB)\n",
            "\u001b[2K     \u001b[90m━━━━━━━━━━━━━━━━━━━━━━━━━━━━━━━━━━━━━━━━\u001b[0m \u001b[32m6.8/6.8 MB\u001b[0m \u001b[31m54.4 MB/s\u001b[0m eta \u001b[36m0:00:00\u001b[0m\n",
            "\u001b[?25hCollecting opentelemetry-exporter-otlp-proto-grpc>=1.2.0 (from chromadb<0.6.0,>=0.5.0->embedchain<0.2.0,>=0.1.98->crewai==0.28.8)\n",
            "  Downloading opentelemetry_exporter_otlp_proto_grpc-1.24.0-py3-none-any.whl (18 kB)\n",
            "Collecting opentelemetry-instrumentation-fastapi>=0.41b0 (from chromadb<0.6.0,>=0.5.0->embedchain<0.2.0,>=0.1.98->crewai==0.28.8)\n",
            "  Downloading opentelemetry_instrumentation_fastapi-0.45b0-py3-none-any.whl (11 kB)\n",
            "Requirement already satisfied: tokenizers>=0.13.2 in /usr/local/lib/python3.10/dist-packages (from chromadb<0.6.0,>=0.5.0->embedchain<0.2.0,>=0.1.98->crewai==0.28.8) (0.19.1)\n",
            "Collecting pypika>=0.48.9 (from chromadb<0.6.0,>=0.5.0->embedchain<0.2.0,>=0.1.98->crewai==0.28.8)\n",
            "  Downloading PyPika-0.48.9.tar.gz (67 kB)\n",
            "\u001b[2K     \u001b[90m━━━━━━━━━━━━━━━━━━━━━━━━━━━━━━━━━━━━━━━━\u001b[0m \u001b[32m67.3/67.3 kB\u001b[0m \u001b[31m6.5 MB/s\u001b[0m eta \u001b[36m0:00:00\u001b[0m\n",
            "\u001b[?25h  Installing build dependencies ... \u001b[?25l\u001b[?25hdone\n",
            "  Getting requirements to build wheel ... \u001b[?25l\u001b[?25hdone\n",
            "  Preparing metadata (pyproject.toml) ... \u001b[?25l\u001b[?25hdone\n",
            "Collecting overrides>=7.3.1 (from chromadb<0.6.0,>=0.5.0->embedchain<0.2.0,>=0.1.98->crewai==0.28.8)\n",
            "  Downloading overrides-7.7.0-py3-none-any.whl (17 kB)\n",
            "Requirement already satisfied: importlib-resources in /usr/local/lib/python3.10/dist-packages (from chromadb<0.6.0,>=0.5.0->embedchain<0.2.0,>=0.1.98->crewai==0.28.8) (6.4.0)\n",
            "Requirement already satisfied: grpcio>=1.58.0 in /usr/local/lib/python3.10/dist-packages (from chromadb<0.6.0,>=0.5.0->embedchain<0.2.0,>=0.1.98->crewai==0.28.8) (1.64.0)\n",
            "Collecting bcrypt>=4.0.1 (from chromadb<0.6.0,>=0.5.0->embedchain<0.2.0,>=0.1.98->crewai==0.28.8)\n",
            "  Downloading bcrypt-4.1.3-cp39-abi3-manylinux_2_28_x86_64.whl (283 kB)\n",
            "\u001b[2K     \u001b[90m━━━━━━━━━━━━━━━━━━━━━━━━━━━━━━━━━━━━━━━━\u001b[0m \u001b[32m283.7/283.7 kB\u001b[0m \u001b[31m32.1 MB/s\u001b[0m eta \u001b[36m0:00:00\u001b[0m\n",
            "\u001b[?25hCollecting kubernetes>=28.1.0 (from chromadb<0.6.0,>=0.5.0->embedchain<0.2.0,>=0.1.98->crewai==0.28.8)\n",
            "  Downloading kubernetes-29.0.0-py2.py3-none-any.whl (1.6 MB)\n",
            "\u001b[2K     \u001b[90m━━━━━━━━━━━━━━━━━━━━━━━━━━━━━━━━━━━━━━━━\u001b[0m \u001b[32m1.6/1.6 MB\u001b[0m \u001b[31m86.1 MB/s\u001b[0m eta \u001b[36m0:00:00\u001b[0m\n",
            "\u001b[?25hCollecting mmh3>=4.0.1 (from chromadb<0.6.0,>=0.5.0->embedchain<0.2.0,>=0.1.98->crewai==0.28.8)\n",
            "  Downloading mmh3-4.1.0-cp310-cp310-manylinux_2_5_x86_64.manylinux1_x86_64.manylinux_2_17_x86_64.manylinux2014_x86_64.whl (67 kB)\n",
            "\u001b[2K     \u001b[90m━━━━━━━━━━━━━━━━━━━━━━━━━━━━━━━━━━━━━━━━\u001b[0m \u001b[32m67.6/67.6 kB\u001b[0m \u001b[31m9.2 MB/s\u001b[0m eta \u001b[36m0:00:00\u001b[0m\n",
            "\u001b[?25hCollecting orjson>=3.9.12 (from chromadb<0.6.0,>=0.5.0->embedchain<0.2.0,>=0.1.98->crewai==0.28.8)\n",
            "  Downloading orjson-3.10.3-cp310-cp310-manylinux_2_17_x86_64.manylinux2014_x86_64.whl (142 kB)\n",
            "\u001b[2K     \u001b[90m━━━━━━━━━━━━━━━━━━━━━━━━━━━━━━━━━━━━━━━━\u001b[0m \u001b[32m142.5/142.5 kB\u001b[0m \u001b[31m18.1 MB/s\u001b[0m eta \u001b[36m0:00:00\u001b[0m\n",
            "\u001b[?25hCollecting marshmallow<4.0.0,>=3.18.0 (from dataclasses-json<0.7,>=0.5.7->langchain<0.2.0,>=0.1.10->crewai==0.28.8)\n",
            "  Downloading marshmallow-3.21.2-py3-none-any.whl (49 kB)\n",
            "\u001b[2K     \u001b[90m━━━━━━━━━━━━━━━━━━━━━━━━━━━━━━━━━━━━━━━━\u001b[0m \u001b[32m49.3/49.3 kB\u001b[0m \u001b[31m7.8 MB/s\u001b[0m eta \u001b[36m0:00:00\u001b[0m\n",
            "\u001b[?25hCollecting typing-inspect<1,>=0.4.0 (from dataclasses-json<0.7,>=0.5.7->langchain<0.2.0,>=0.1.10->crewai==0.28.8)\n",
            "  Downloading typing_inspect-0.9.0-py3-none-any.whl (8.8 kB)\n",
            "Requirement already satisfied: wrapt<2,>=1.10 in /usr/local/lib/python3.10/dist-packages (from deprecated>=1.2.6->opentelemetry-api<2.0.0,>=1.22.0->crewai==0.28.8) (1.14.1)\n",
            "Requirement already satisfied: google-api-core[grpc]!=2.0.*,!=2.1.*,!=2.2.*,!=2.3.*,!=2.4.*,!=2.5.*,!=2.6.*,!=2.7.*,<3.0.0dev,>=1.34.1 in /usr/local/lib/python3.10/dist-packages (from google-cloud-aiplatform<2.0.0,>=1.26.1->embedchain<0.2.0,>=0.1.98->crewai==0.28.8) (2.11.1)\n",
            "Requirement already satisfied: google-auth<3.0.0dev,>=2.14.1 in /usr/local/lib/python3.10/dist-packages (from google-cloud-aiplatform<2.0.0,>=1.26.1->embedchain<0.2.0,>=0.1.98->crewai==0.28.8) (2.27.0)\n",
            "Requirement already satisfied: proto-plus<2.0.0dev,>=1.22.0 in /usr/local/lib/python3.10/dist-packages (from google-cloud-aiplatform<2.0.0,>=1.26.1->embedchain<0.2.0,>=0.1.98->crewai==0.28.8) (1.23.0)\n",
            "Requirement already satisfied: packaging>=14.3 in /usr/local/lib/python3.10/dist-packages (from google-cloud-aiplatform<2.0.0,>=1.26.1->embedchain<0.2.0,>=0.1.98->crewai==0.28.8) (24.0)\n",
            "Requirement already satisfied: google-cloud-storage<3.0.0dev,>=1.32.0 in /usr/local/lib/python3.10/dist-packages (from google-cloud-aiplatform<2.0.0,>=1.26.1->embedchain<0.2.0,>=0.1.98->crewai==0.28.8) (2.8.0)\n",
            "Requirement already satisfied: google-cloud-bigquery!=3.20.0,<4.0.0dev,>=1.15.0 in /usr/local/lib/python3.10/dist-packages (from google-cloud-aiplatform<2.0.0,>=1.26.1->embedchain<0.2.0,>=0.1.98->crewai==0.28.8) (3.21.0)\n",
            "Requirement already satisfied: google-cloud-resource-manager<3.0.0dev,>=1.3.3 in /usr/local/lib/python3.10/dist-packages (from google-cloud-aiplatform<2.0.0,>=1.26.1->embedchain<0.2.0,>=0.1.98->crewai==0.28.8) (1.12.3)\n",
            "Requirement already satisfied: shapely<3.0.0dev in /usr/local/lib/python3.10/dist-packages (from google-cloud-aiplatform<2.0.0,>=1.26.1->embedchain<0.2.0,>=0.1.98->crewai==0.28.8) (2.0.4)\n",
            "Requirement already satisfied: cachetools in /usr/local/lib/python3.10/dist-packages (from gptcache<0.2.0,>=0.1.43->embedchain<0.2.0,>=0.1.98->crewai==0.28.8) (5.3.3)\n",
            "Requirement already satisfied: certifi in /usr/local/lib/python3.10/dist-packages (from httpx<1,>=0.23.0->openai<2.0.0,>=1.13.3->crewai==0.28.8) (2024.2.2)\n",
            "Collecting httpcore==1.* (from httpx<1,>=0.23.0->openai<2.0.0,>=1.13.3->crewai==0.28.8)\n",
            "  Downloading httpcore-1.0.5-py3-none-any.whl (77 kB)\n",
            "\u001b[2K     \u001b[90m━━━━━━━━━━━━━━━━━━━━━━━━━━━━━━━━━━━━━━━━\u001b[0m \u001b[32m77.9/77.9 kB\u001b[0m \u001b[31m12.0 MB/s\u001b[0m eta \u001b[36m0:00:00\u001b[0m\n",
            "\u001b[?25hCollecting h11<0.15,>=0.13 (from httpcore==1.*->httpx<1,>=0.23.0->openai<2.0.0,>=1.13.3->crewai==0.28.8)\n",
            "  Downloading h11-0.14.0-py3-none-any.whl (58 kB)\n",
            "\u001b[2K     \u001b[90m━━━━━━━━━━━━━━━━━━━━━━━━━━━━━━━━━━━━━━━━\u001b[0m \u001b[32m58.3/58.3 kB\u001b[0m \u001b[31m9.0 MB/s\u001b[0m eta \u001b[36m0:00:00\u001b[0m\n",
            "\u001b[?25hRequirement already satisfied: zipp>=0.5 in /usr/local/lib/python3.10/dist-packages (from importlib-metadata<=7.0,>=6.0->opentelemetry-api<2.0.0,>=1.22.0->crewai==0.28.8) (3.18.2)\n",
            "Collecting cohere<6.0,>=5.5 (from langchain-cohere<0.2.0,>=0.1.4->embedchain<0.2.0,>=0.1.98->crewai==0.28.8)\n",
            "  Downloading cohere-5.5.4-py3-none-any.whl (168 kB)\n",
            "\u001b[2K     \u001b[90m━━━━━━━━━━━━━━━━━━━━━━━━━━━━━━━━━━━━━━━━\u001b[0m \u001b[32m168.9/168.9 kB\u001b[0m \u001b[31m25.8 MB/s\u001b[0m eta \u001b[36m0:00:00\u001b[0m\n",
            "\u001b[?25hCollecting jsonpatch<2.0,>=1.33 (from langchain-core<0.2.0,>=0.1.52->langchain<0.2.0,>=0.1.10->crewai==0.28.8)\n",
            "  Downloading jsonpatch-1.33-py2.py3-none-any.whl (12 kB)\n",
            "Collecting packaging>=14.3 (from google-cloud-aiplatform<2.0.0,>=1.26.1->embedchain<0.2.0,>=0.1.98->crewai==0.28.8)\n",
            "  Downloading packaging-23.2-py3-none-any.whl (53 kB)\n",
            "\u001b[2K     \u001b[90m━━━━━━━━━━━━━━━━━━━━━━━━━━━━━━━━━━━━━━━━\u001b[0m \u001b[32m53.0/53.0 kB\u001b[0m \u001b[31m8.5 MB/s\u001b[0m eta \u001b[36m0:00:00\u001b[0m\n",
            "\u001b[?25hINFO: pip is looking at multiple versions of langchain-openai to determine which version is compatible with other requirements. This could take a while.\n",
            "Collecting langchain-openai<0.2.0,>=0.1.7 (from embedchain<0.2.0,>=0.1.98->crewai==0.28.8)\n",
            "  Downloading langchain_openai-0.1.7-py3-none-any.whl (34 kB)\n",
            "Requirement already satisfied: six>=1.5 in /usr/local/lib/python3.10/dist-packages (from posthog<4.0.0,>=3.0.2->embedchain<0.2.0,>=0.1.98->crewai==0.28.8) (1.16.0)\n",
            "Collecting monotonic>=1.5 (from posthog<4.0.0,>=3.0.2->embedchain<0.2.0,>=0.1.98->crewai==0.28.8)\n",
            "  Downloading monotonic-1.6-py2.py3-none-any.whl (8.2 kB)\n",
            "Collecting backoff>=1.10.0 (from posthog<4.0.0,>=3.0.2->embedchain<0.2.0,>=0.1.98->crewai==0.28.8)\n",
            "  Downloading backoff-2.2.1-py3-none-any.whl (15 kB)\n",
            "Requirement already satisfied: python-dateutil>2.1 in /usr/local/lib/python3.10/dist-packages (from posthog<4.0.0,>=3.0.2->embedchain<0.2.0,>=0.1.98->crewai==0.28.8) (2.8.2)\n",
            "Requirement already satisfied: charset-normalizer<4,>=2 in /usr/local/lib/python3.10/dist-packages (from requests<3,>=2->langchain<0.2.0,>=0.1.10->crewai==0.28.8) (3.3.2)\n",
            "Requirement already satisfied: urllib3<3,>=1.21.1 in /usr/local/lib/python3.10/dist-packages (from requests<3,>=2->langchain<0.2.0,>=0.1.10->crewai==0.28.8) (2.0.7)\n",
            "Requirement already satisfied: markdown-it-py>=2.2.0 in /usr/local/lib/python3.10/dist-packages (from rich<14.0.0,>=13.7.0->embedchain<0.2.0,>=0.1.98->crewai==0.28.8) (3.0.0)\n",
            "Requirement already satisfied: pygments<3.0.0,>=2.13.0 in /usr/local/lib/python3.10/dist-packages (from rich<14.0.0,>=13.7.0->embedchain<0.2.0,>=0.1.98->crewai==0.28.8) (2.16.1)\n",
            "Requirement already satisfied: greenlet!=0.4.17 in /usr/local/lib/python3.10/dist-packages (from sqlalchemy<3.0.0,>=2.0.27->embedchain<0.2.0,>=0.1.98->crewai==0.28.8) (3.0.3)\n",
            "Requirement already satisfied: pyproject_hooks in /usr/local/lib/python3.10/dist-packages (from build>=1.0.3->chromadb<0.6.0,>=0.5.0->embedchain<0.2.0,>=0.1.98->crewai==0.28.8) (1.1.0)\n",
            "Requirement already satisfied: tomli>=1.1.0 in /usr/local/lib/python3.10/dist-packages (from build>=1.0.3->chromadb<0.6.0,>=0.5.0->embedchain<0.2.0,>=0.1.98->crewai==0.28.8) (2.0.1)\n",
            "Collecting boto3<2.0.0,>=1.34.0 (from cohere<6.0,>=5.5->langchain-cohere<0.2.0,>=0.1.4->embedchain<0.2.0,>=0.1.98->crewai==0.28.8)\n",
            "  Downloading boto3-1.34.115-py3-none-any.whl (139 kB)\n",
            "\u001b[2K     \u001b[90m━━━━━━━━━━━━━━━━━━━━━━━━━━━━━━━━━━━━━━━━\u001b[0m \u001b[32m139.3/139.3 kB\u001b[0m \u001b[31m24.4 MB/s\u001b[0m eta \u001b[36m0:00:00\u001b[0m\n",
            "\u001b[?25hCollecting fastavro<2.0.0,>=1.9.4 (from cohere<6.0,>=5.5->langchain-cohere<0.2.0,>=0.1.4->embedchain<0.2.0,>=0.1.98->crewai==0.28.8)\n",
            "  Downloading fastavro-1.9.4-cp310-cp310-manylinux_2_17_x86_64.manylinux2014_x86_64.whl (3.1 MB)\n",
            "\u001b[2K     \u001b[90m━━━━━━━━━━━━━━━━━━━━━━━━━━━━━━━━━━━━━━━━\u001b[0m \u001b[32m3.1/3.1 MB\u001b[0m \u001b[31m85.7 MB/s\u001b[0m eta \u001b[36m0:00:00\u001b[0m\n",
            "\u001b[?25hCollecting httpx-sse<0.5.0,>=0.4.0 (from cohere<6.0,>=5.5->langchain-cohere<0.2.0,>=0.1.4->embedchain<0.2.0,>=0.1.98->crewai==0.28.8)\n",
            "  Downloading httpx_sse-0.4.0-py3-none-any.whl (7.8 kB)\n",
            "Collecting tokenizers>=0.13.2 (from chromadb<0.6.0,>=0.5.0->embedchain<0.2.0,>=0.1.98->crewai==0.28.8)\n",
            "  Downloading tokenizers-0.15.2-cp310-cp310-manylinux_2_17_x86_64.manylinux2014_x86_64.whl (3.6 MB)\n",
            "\u001b[2K     \u001b[90m━━━━━━━━━━━━━━━━━━━━━━━━━━━━━━━━━━━━━━━━\u001b[0m \u001b[32m3.6/3.6 MB\u001b[0m \u001b[31m71.6 MB/s\u001b[0m eta \u001b[36m0:00:00\u001b[0m\n",
            "\u001b[?25hCollecting types-requests<3.0.0,>=2.0.0 (from cohere<6.0,>=5.5->langchain-cohere<0.2.0,>=0.1.4->embedchain<0.2.0,>=0.1.98->crewai==0.28.8)\n",
            "  Downloading types_requests-2.32.0.20240523-py3-none-any.whl (15 kB)\n",
            "Collecting starlette<0.38.0,>=0.37.2 (from fastapi>=0.95.2->chromadb<0.6.0,>=0.5.0->embedchain<0.2.0,>=0.1.98->crewai==0.28.8)\n",
            "  Downloading starlette-0.37.2-py3-none-any.whl (71 kB)\n",
            "\u001b[2K     \u001b[90m━━━━━━━━━━━━━━━━━━━━━━━━━━━━━━━━━━━━━━━━\u001b[0m \u001b[32m71.9/71.9 kB\u001b[0m \u001b[31m9.6 MB/s\u001b[0m eta \u001b[36m0:00:00\u001b[0m\n",
            "\u001b[?25hCollecting fastapi-cli>=0.0.2 (from fastapi>=0.95.2->chromadb<0.6.0,>=0.5.0->embedchain<0.2.0,>=0.1.98->crewai==0.28.8)\n",
            "  Downloading fastapi_cli-0.0.4-py3-none-any.whl (9.5 kB)\n",
            "Requirement already satisfied: jinja2>=2.11.2 in /usr/local/lib/python3.10/dist-packages (from fastapi>=0.95.2->chromadb<0.6.0,>=0.5.0->embedchain<0.2.0,>=0.1.98->crewai==0.28.8) (3.1.4)\n",
            "Collecting python-multipart>=0.0.7 (from fastapi>=0.95.2->chromadb<0.6.0,>=0.5.0->embedchain<0.2.0,>=0.1.98->crewai==0.28.8)\n",
            "  Downloading python_multipart-0.0.9-py3-none-any.whl (22 kB)\n",
            "Collecting ujson!=4.0.2,!=4.1.0,!=4.2.0,!=4.3.0,!=5.0.0,!=5.1.0,>=4.0.1 (from fastapi>=0.95.2->chromadb<0.6.0,>=0.5.0->embedchain<0.2.0,>=0.1.98->crewai==0.28.8)\n",
            "  Downloading ujson-5.10.0-cp310-cp310-manylinux_2_17_x86_64.manylinux2014_x86_64.whl (53 kB)\n",
            "\u001b[2K     \u001b[90m━━━━━━━━━━━━━━━━━━━━━━━━━━━━━━━━━━━━━━━━\u001b[0m \u001b[32m53.6/53.6 kB\u001b[0m \u001b[31m7.8 MB/s\u001b[0m eta \u001b[36m0:00:00\u001b[0m\n",
            "\u001b[?25hCollecting email_validator>=2.0.0 (from fastapi>=0.95.2->chromadb<0.6.0,>=0.5.0->embedchain<0.2.0,>=0.1.98->crewai==0.28.8)\n",
            "  Downloading email_validator-2.1.1-py3-none-any.whl (30 kB)\n",
            "Requirement already satisfied: grpcio-status<2.0.dev0,>=1.33.2 in /usr/local/lib/python3.10/dist-packages (from google-api-core[grpc]!=2.0.*,!=2.1.*,!=2.2.*,!=2.3.*,!=2.4.*,!=2.5.*,!=2.6.*,!=2.7.*,<3.0.0dev,>=1.34.1->google-cloud-aiplatform<2.0.0,>=1.26.1->embedchain<0.2.0,>=0.1.98->crewai==0.28.8) (1.48.2)\n",
            "Requirement already satisfied: pyasn1-modules>=0.2.1 in /usr/local/lib/python3.10/dist-packages (from google-auth<3.0.0dev,>=2.14.1->google-cloud-aiplatform<2.0.0,>=1.26.1->embedchain<0.2.0,>=0.1.98->crewai==0.28.8) (0.4.0)\n",
            "Requirement already satisfied: rsa<5,>=3.1.4 in /usr/local/lib/python3.10/dist-packages (from google-auth<3.0.0dev,>=2.14.1->google-cloud-aiplatform<2.0.0,>=1.26.1->embedchain<0.2.0,>=0.1.98->crewai==0.28.8) (4.9)\n",
            "Requirement already satisfied: google-cloud-core<3.0.0dev,>=1.6.0 in /usr/local/lib/python3.10/dist-packages (from google-cloud-bigquery!=3.20.0,<4.0.0dev,>=1.15.0->google-cloud-aiplatform<2.0.0,>=1.26.1->embedchain<0.2.0,>=0.1.98->crewai==0.28.8) (2.3.3)\n",
            "Requirement already satisfied: google-resumable-media<3.0dev,>=0.6.0 in /usr/local/lib/python3.10/dist-packages (from google-cloud-bigquery!=3.20.0,<4.0.0dev,>=1.15.0->google-cloud-aiplatform<2.0.0,>=1.26.1->embedchain<0.2.0,>=0.1.98->crewai==0.28.8) (2.7.0)\n",
            "Requirement already satisfied: grpc-google-iam-v1<1.0.0dev,>=0.12.4 in /usr/local/lib/python3.10/dist-packages (from google-cloud-resource-manager<3.0.0dev,>=1.3.3->google-cloud-aiplatform<2.0.0,>=1.26.1->embedchain<0.2.0,>=0.1.98->crewai==0.28.8) (0.13.0)\n",
            "Collecting jsonpointer>=1.9 (from jsonpatch<2.0,>=1.33->langchain-core<0.2.0,>=0.1.52->langchain<0.2.0,>=0.1.10->crewai==0.28.8)\n",
            "  Downloading jsonpointer-2.4-py2.py3-none-any.whl (7.8 kB)\n",
            "Requirement already satisfied: websocket-client!=0.40.0,!=0.41.*,!=0.42.*,>=0.32.0 in /usr/local/lib/python3.10/dist-packages (from kubernetes>=28.1.0->chromadb<0.6.0,>=0.5.0->embedchain<0.2.0,>=0.1.98->crewai==0.28.8) (1.8.0)\n",
            "Requirement already satisfied: requests-oauthlib in /usr/local/lib/python3.10/dist-packages (from kubernetes>=28.1.0->chromadb<0.6.0,>=0.5.0->embedchain<0.2.0,>=0.1.98->crewai==0.28.8) (1.3.1)\n",
            "Requirement already satisfied: oauthlib>=3.2.2 in /usr/local/lib/python3.10/dist-packages (from kubernetes>=28.1.0->chromadb<0.6.0,>=0.5.0->embedchain<0.2.0,>=0.1.98->crewai==0.28.8) (3.2.2)\n",
            "Requirement already satisfied: mdurl~=0.1 in /usr/local/lib/python3.10/dist-packages (from markdown-it-py>=2.2.0->rich<14.0.0,>=13.7.0->embedchain<0.2.0,>=0.1.98->crewai==0.28.8) (0.1.2)\n",
            "Collecting coloredlogs (from onnxruntime>=1.14.1->chromadb<0.6.0,>=0.5.0->embedchain<0.2.0,>=0.1.98->crewai==0.28.8)\n",
            "  Downloading coloredlogs-15.0.1-py2.py3-none-any.whl (46 kB)\n",
            "\u001b[2K     \u001b[90m━━━━━━━━━━━━━━━━━━━━━━━━━━━━━━━━━━━━━━━━\u001b[0m \u001b[32m46.0/46.0 kB\u001b[0m \u001b[31m8.3 MB/s\u001b[0m eta \u001b[36m0:00:00\u001b[0m\n",
            "\u001b[?25hRequirement already satisfied: flatbuffers in /usr/local/lib/python3.10/dist-packages (from onnxruntime>=1.14.1->chromadb<0.6.0,>=0.5.0->embedchain<0.2.0,>=0.1.98->crewai==0.28.8) (24.3.25)\n",
            "Requirement already satisfied: sympy in /usr/local/lib/python3.10/dist-packages (from onnxruntime>=1.14.1->chromadb<0.6.0,>=0.5.0->embedchain<0.2.0,>=0.1.98->crewai==0.28.8) (1.12)\n",
            "Collecting opentelemetry-instrumentation-asgi==0.45b0 (from opentelemetry-instrumentation-fastapi>=0.41b0->chromadb<0.6.0,>=0.5.0->embedchain<0.2.0,>=0.1.98->crewai==0.28.8)\n",
            "  Downloading opentelemetry_instrumentation_asgi-0.45b0-py3-none-any.whl (14 kB)\n",
            "Collecting opentelemetry-instrumentation==0.45b0 (from opentelemetry-instrumentation-fastapi>=0.41b0->chromadb<0.6.0,>=0.5.0->embedchain<0.2.0,>=0.1.98->crewai==0.28.8)\n",
            "  Downloading opentelemetry_instrumentation-0.45b0-py3-none-any.whl (28 kB)\n",
            "Collecting opentelemetry-util-http==0.45b0 (from opentelemetry-instrumentation-fastapi>=0.41b0->chromadb<0.6.0,>=0.5.0->embedchain<0.2.0,>=0.1.98->crewai==0.28.8)\n",
            "  Downloading opentelemetry_util_http-0.45b0-py3-none-any.whl (6.9 kB)\n",
            "Requirement already satisfied: setuptools>=16.0 in /usr/local/lib/python3.10/dist-packages (from opentelemetry-instrumentation==0.45b0->opentelemetry-instrumentation-fastapi>=0.41b0->chromadb<0.6.0,>=0.5.0->embedchain<0.2.0,>=0.1.98->crewai==0.28.8) (67.7.2)\n",
            "Collecting asgiref~=3.0 (from opentelemetry-instrumentation-asgi==0.45b0->opentelemetry-instrumentation-fastapi>=0.41b0->chromadb<0.6.0,>=0.5.0->embedchain<0.2.0,>=0.1.98->crewai==0.28.8)\n",
            "  Downloading asgiref-3.8.1-py3-none-any.whl (23 kB)\n",
            "Requirement already satisfied: huggingface_hub<1.0,>=0.16.4 in /usr/local/lib/python3.10/dist-packages (from tokenizers>=0.13.2->chromadb<0.6.0,>=0.5.0->embedchain<0.2.0,>=0.1.98->crewai==0.28.8) (0.23.1)\n",
            "Collecting mypy-extensions>=0.3.0 (from typing-inspect<1,>=0.4.0->dataclasses-json<0.7,>=0.5.7->langchain<0.2.0,>=0.1.10->crewai==0.28.8)\n",
            "  Downloading mypy_extensions-1.0.0-py3-none-any.whl (4.7 kB)\n",
            "Collecting httptools>=0.5.0 (from uvicorn[standard]>=0.18.3->chromadb<0.6.0,>=0.5.0->embedchain<0.2.0,>=0.1.98->crewai==0.28.8)\n",
            "  Downloading httptools-0.6.1-cp310-cp310-manylinux_2_5_x86_64.manylinux1_x86_64.manylinux_2_17_x86_64.manylinux2014_x86_64.whl (341 kB)\n",
            "\u001b[2K     \u001b[90m━━━━━━━━━━━━━━━━━━━━━━━━━━━━━━━━━━━━━━━━\u001b[0m \u001b[32m341.4/341.4 kB\u001b[0m \u001b[31m39.7 MB/s\u001b[0m eta \u001b[36m0:00:00\u001b[0m\n",
            "\u001b[?25hCollecting uvloop!=0.15.0,!=0.15.1,>=0.14.0 (from uvicorn[standard]>=0.18.3->chromadb<0.6.0,>=0.5.0->embedchain<0.2.0,>=0.1.98->crewai==0.28.8)\n",
            "  Downloading uvloop-0.19.0-cp310-cp310-manylinux_2_17_x86_64.manylinux2014_x86_64.whl (3.4 MB)\n",
            "\u001b[2K     \u001b[90m━━━━━━━━━━━━━━━━━━━━━━━━━━━━━━━━━━━━━━━━\u001b[0m \u001b[32m3.4/3.4 MB\u001b[0m \u001b[31m90.6 MB/s\u001b[0m eta \u001b[36m0:00:00\u001b[0m\n",
            "\u001b[?25hCollecting watchfiles>=0.13 (from uvicorn[standard]>=0.18.3->chromadb<0.6.0,>=0.5.0->embedchain<0.2.0,>=0.1.98->crewai==0.28.8)\n",
            "  Downloading watchfiles-0.22.0-cp310-cp310-manylinux_2_17_x86_64.manylinux2014_x86_64.whl (1.2 MB)\n",
            "\u001b[2K     \u001b[90m━━━━━━━━━━━━━━━━━━━━━━━━━━━━━━━━━━━━━━━━\u001b[0m \u001b[32m1.2/1.2 MB\u001b[0m \u001b[31m60.7 MB/s\u001b[0m eta \u001b[36m0:00:00\u001b[0m\n",
            "\u001b[?25hCollecting websockets>=10.4 (from uvicorn[standard]>=0.18.3->chromadb<0.6.0,>=0.5.0->embedchain<0.2.0,>=0.1.98->crewai==0.28.8)\n",
            "  Downloading websockets-12.0-cp310-cp310-manylinux_2_5_x86_64.manylinux1_x86_64.manylinux_2_17_x86_64.manylinux2014_x86_64.whl (130 kB)\n",
            "\u001b[2K     \u001b[90m━━━━━━━━━━━━━━━━━━━━━━━━━━━━━━━━━━━━━━━━\u001b[0m \u001b[32m130.2/130.2 kB\u001b[0m \u001b[31m16.1 MB/s\u001b[0m eta \u001b[36m0:00:00\u001b[0m\n",
            "\u001b[?25hRequirement already satisfied: MarkupSafe>=0.9.2 in /usr/local/lib/python3.10/dist-packages (from Mako->alembic<2.0.0,>=1.13.1->embedchain<0.2.0,>=0.1.98->crewai==0.28.8) (2.1.5)\n",
            "Collecting botocore<1.35.0,>=1.34.115 (from boto3<2.0.0,>=1.34.0->cohere<6.0,>=5.5->langchain-cohere<0.2.0,>=0.1.4->embedchain<0.2.0,>=0.1.98->crewai==0.28.8)\n",
            "  Downloading botocore-1.34.115-py3-none-any.whl (12.3 MB)\n",
            "\u001b[2K     \u001b[90m━━━━━━━━━━━━━━━━━━━━━━━━━━━━━━━━━━━━━━━━\u001b[0m \u001b[32m12.3/12.3 MB\u001b[0m \u001b[31m81.2 MB/s\u001b[0m eta \u001b[36m0:00:00\u001b[0m\n",
            "\u001b[?25hCollecting jmespath<2.0.0,>=0.7.1 (from boto3<2.0.0,>=1.34.0->cohere<6.0,>=5.5->langchain-cohere<0.2.0,>=0.1.4->embedchain<0.2.0,>=0.1.98->crewai==0.28.8)\n",
            "  Downloading jmespath-1.0.1-py3-none-any.whl (20 kB)\n",
            "Collecting s3transfer<0.11.0,>=0.10.0 (from boto3<2.0.0,>=1.34.0->cohere<6.0,>=5.5->langchain-cohere<0.2.0,>=0.1.4->embedchain<0.2.0,>=0.1.98->crewai==0.28.8)\n",
            "  Downloading s3transfer-0.10.1-py3-none-any.whl (82 kB)\n",
            "\u001b[2K     \u001b[90m━━━━━━━━━━━━━━━━━━━━━━━━━━━━━━━━━━━━━━━━\u001b[0m \u001b[32m82.2/82.2 kB\u001b[0m \u001b[31m13.4 MB/s\u001b[0m eta \u001b[36m0:00:00\u001b[0m\n",
            "\u001b[?25hCollecting dnspython>=2.0.0 (from email_validator>=2.0.0->fastapi>=0.95.2->chromadb<0.6.0,>=0.5.0->embedchain<0.2.0,>=0.1.98->crewai==0.28.8)\n",
            "  Downloading dnspython-2.6.1-py3-none-any.whl (307 kB)\n",
            "\u001b[2K     \u001b[90m━━━━━━━━━━━━━━━━━━━━━━━━━━━━━━━━━━━━━━━━\u001b[0m \u001b[32m307.7/307.7 kB\u001b[0m \u001b[31m36.6 MB/s\u001b[0m eta \u001b[36m0:00:00\u001b[0m\n",
            "\u001b[?25hINFO: pip is looking at multiple versions of fastapi-cli to determine which version is compatible with other requirements. This could take a while.\n",
            "Collecting fastapi-cli>=0.0.2 (from fastapi>=0.95.2->chromadb<0.6.0,>=0.5.0->embedchain<0.2.0,>=0.1.98->crewai==0.28.8)\n",
            "  Downloading fastapi_cli-0.0.3-py3-none-any.whl (9.2 kB)\n",
            "  Downloading fastapi_cli-0.0.2-py3-none-any.whl (9.1 kB)\n",
            "Collecting fastapi>=0.95.2 (from chromadb<0.6.0,>=0.5.0->embedchain<0.2.0,>=0.1.98->crewai==0.28.8)\n",
            "  Downloading fastapi-0.110.3-py3-none-any.whl (91 kB)\n",
            "\u001b[2K     \u001b[90m━━━━━━━━━━━━━━━━━━━━━━━━━━━━━━━━━━━━━━━━\u001b[0m \u001b[32m91.8/91.8 kB\u001b[0m \u001b[31m14.2 MB/s\u001b[0m eta \u001b[36m0:00:00\u001b[0m\n",
            "\u001b[?25hRequirement already satisfied: google-crc32c<2.0dev,>=1.0 in /usr/local/lib/python3.10/dist-packages (from google-resumable-media<3.0dev,>=0.6.0->google-cloud-bigquery!=3.20.0,<4.0.0dev,>=1.15.0->google-cloud-aiplatform<2.0.0,>=1.26.1->embedchain<0.2.0,>=0.1.98->crewai==0.28.8) (1.5.0)\n",
            "Requirement already satisfied: filelock in /usr/local/lib/python3.10/dist-packages (from huggingface_hub<1.0,>=0.16.4->tokenizers>=0.13.2->chromadb<0.6.0,>=0.5.0->embedchain<0.2.0,>=0.1.98->crewai==0.28.8) (3.14.0)\n",
            "Requirement already satisfied: fsspec>=2023.5.0 in /usr/local/lib/python3.10/dist-packages (from huggingface_hub<1.0,>=0.16.4->tokenizers>=0.13.2->chromadb<0.6.0,>=0.5.0->embedchain<0.2.0,>=0.1.98->crewai==0.28.8) (2023.6.0)\n",
            "Requirement already satisfied: pyasn1<0.7.0,>=0.4.6 in /usr/local/lib/python3.10/dist-packages (from pyasn1-modules>=0.2.1->google-auth<3.0.0dev,>=2.14.1->google-cloud-aiplatform<2.0.0,>=1.26.1->embedchain<0.2.0,>=0.1.98->crewai==0.28.8) (0.6.0)\n",
            "Collecting humanfriendly>=9.1 (from coloredlogs->onnxruntime>=1.14.1->chromadb<0.6.0,>=0.5.0->embedchain<0.2.0,>=0.1.98->crewai==0.28.8)\n",
            "  Downloading humanfriendly-10.0-py2.py3-none-any.whl (86 kB)\n",
            "\u001b[2K     \u001b[90m━━━━━━━━━━━━━━━━━━━━━━━━━━━━━━━━━━━━━━━━\u001b[0m \u001b[32m86.8/86.8 kB\u001b[0m \u001b[31m12.7 MB/s\u001b[0m eta \u001b[36m0:00:00\u001b[0m\n",
            "\u001b[?25hRequirement already satisfied: mpmath>=0.19 in /usr/local/lib/python3.10/dist-packages (from sympy->onnxruntime>=1.14.1->chromadb<0.6.0,>=0.5.0->embedchain<0.2.0,>=0.1.98->crewai==0.28.8) (1.3.0)\n",
            "Building wheels for collected packages: pypika\n",
            "  Building wheel for pypika (pyproject.toml) ... \u001b[?25l\u001b[?25hdone\n",
            "  Created wheel for pypika: filename=PyPika-0.48.9-py2.py3-none-any.whl size=53724 sha256=17e5d82228b76e0c786092821fd864f1de024fcbc77a1e9854dfae123b49fef3\n",
            "  Stored in directory: /root/.cache/pip/wheels/e1/26/51/d0bffb3d2fd82256676d7ad3003faea3bd6dddc9577af665f4\n",
            "Successfully built pypika\n",
            "Installing collected packages: schema, pypika, monotonic, mmh3, appdirs, websockets, uvloop, types-requests, regex, python-dotenv, pysbd, pypdf, packaging, overrides, orjson, opentelemetry-util-http, opentelemetry-semantic-conventions, opentelemetry-proto, mypy-extensions, Mako, jsonpointer, jmespath, importlib-metadata, humanfriendly, httpx-sse, httptools, h11, fastavro, docstring-parser, deprecated, chroma-hnswlib, bcrypt, backoff, asgiref, watchfiles, uvicorn, typing-inspect, tiktoken, starlette, posthog, opentelemetry-exporter-otlp-proto-common, opentelemetry-api, marshmallow, jsonpatch, httpcore, gptcache, coloredlogs, botocore, alembic, tokenizers, s3transfer, opentelemetry-sdk, opentelemetry-instrumentation, onnxruntime, langsmith, kubernetes, httpx, fastapi, dataclasses-json, opentelemetry-instrumentation-asgi, opentelemetry-exporter-otlp-proto-http, opentelemetry-exporter-otlp-proto-grpc, openai, langchain-core, boto3, opentelemetry-instrumentation-fastapi, langchain-text-splitters, langchain-openai, langchain-community, instructor, cohere, langchain-cohere, langchain, chromadb, embedchain, crewai\n",
            "  Attempting uninstall: regex\n",
            "    Found existing installation: regex 2024.5.15\n",
            "    Uninstalling regex-2024.5.15:\n",
            "      Successfully uninstalled regex-2024.5.15\n",
            "  Attempting uninstall: packaging\n",
            "    Found existing installation: packaging 24.0\n",
            "    Uninstalling packaging-24.0:\n",
            "      Successfully uninstalled packaging-24.0\n",
            "  Attempting uninstall: importlib-metadata\n",
            "    Found existing installation: importlib_metadata 7.1.0\n",
            "    Uninstalling importlib_metadata-7.1.0:\n",
            "      Successfully uninstalled importlib_metadata-7.1.0\n",
            "  Attempting uninstall: docstring-parser\n",
            "    Found existing installation: docstring_parser 0.16\n",
            "    Uninstalling docstring_parser-0.16:\n",
            "      Successfully uninstalled docstring_parser-0.16\n",
            "  Attempting uninstall: tokenizers\n",
            "    Found existing installation: tokenizers 0.19.1\n",
            "    Uninstalling tokenizers-0.19.1:\n",
            "      Successfully uninstalled tokenizers-0.19.1\n",
            "\u001b[31mERROR: pip's dependency resolver does not currently take into account all the packages that are installed. This behaviour is the source of the following dependency conflicts.\n",
            "transformers 4.41.1 requires tokenizers<0.20,>=0.19, but you have tokenizers 0.15.2 which is incompatible.\u001b[0m\u001b[31m\n",
            "\u001b[0mSuccessfully installed Mako-1.3.5 alembic-1.13.1 appdirs-1.4.4 asgiref-3.8.1 backoff-2.2.1 bcrypt-4.1.3 boto3-1.34.115 botocore-1.34.115 chroma-hnswlib-0.7.3 chromadb-0.5.0 cohere-5.5.4 coloredlogs-15.0.1 crewai-0.28.8 dataclasses-json-0.6.6 deprecated-1.2.14 docstring-parser-0.15 embedchain-0.1.104 fastapi-0.110.3 fastavro-1.9.4 gptcache-0.1.43 h11-0.14.0 httpcore-1.0.5 httptools-0.6.1 httpx-0.27.0 httpx-sse-0.4.0 humanfriendly-10.0 importlib-metadata-7.0.0 instructor-0.5.2 jmespath-1.0.1 jsonpatch-1.33 jsonpointer-2.4 kubernetes-29.0.0 langchain-0.1.20 langchain-cohere-0.1.5 langchain-community-0.0.38 langchain-core-0.1.52 langchain-openai-0.1.7 langchain-text-splitters-0.0.2 langsmith-0.1.64 marshmallow-3.21.2 mmh3-4.1.0 monotonic-1.6 mypy-extensions-1.0.0 onnxruntime-1.18.0 openai-1.30.5 opentelemetry-api-1.24.0 opentelemetry-exporter-otlp-proto-common-1.24.0 opentelemetry-exporter-otlp-proto-grpc-1.24.0 opentelemetry-exporter-otlp-proto-http-1.24.0 opentelemetry-instrumentation-0.45b0 opentelemetry-instrumentation-asgi-0.45b0 opentelemetry-instrumentation-fastapi-0.45b0 opentelemetry-proto-1.24.0 opentelemetry-sdk-1.24.0 opentelemetry-semantic-conventions-0.45b0 opentelemetry-util-http-0.45b0 orjson-3.10.3 overrides-7.7.0 packaging-23.2 posthog-3.5.0 pypdf-4.2.0 pypika-0.48.9 pysbd-0.3.4 python-dotenv-1.0.0 regex-2023.12.25 s3transfer-0.10.1 schema-0.7.7 starlette-0.37.2 tiktoken-0.7.0 tokenizers-0.15.2 types-requests-2.32.0.20240523 typing-inspect-0.9.0 uvicorn-0.30.0 uvloop-0.19.0 watchfiles-0.22.0 websockets-12.0\n",
            "\u001b[31mERROR: Could not find a version that satisfies the requirement crewai_tools--0.1.6 (from versions: none)\u001b[0m\u001b[31m\n",
            "\u001b[0m\u001b[31mERROR: No matching distribution found for crewai_tools--0.1.6\u001b[0m\u001b[31m\n",
            "\u001b[0mCollecting langchain_community==0.0.29\n",
            "  Downloading langchain_community-0.0.29-py3-none-any.whl (1.8 MB)\n",
            "\u001b[2K     \u001b[90m━━━━━━━━━━━━━━━━━━━━━━━━━━━━━━━━━━━━━━━━\u001b[0m \u001b[32m1.8/1.8 MB\u001b[0m \u001b[31m17.4 MB/s\u001b[0m eta \u001b[36m0:00:00\u001b[0m\n",
            "\u001b[?25hRequirement already satisfied: PyYAML>=5.3 in /usr/local/lib/python3.10/dist-packages (from langchain_community==0.0.29) (6.0.1)\n",
            "Requirement already satisfied: SQLAlchemy<3,>=1.4 in /usr/local/lib/python3.10/dist-packages (from langchain_community==0.0.29) (2.0.30)\n",
            "Requirement already satisfied: aiohttp<4.0.0,>=3.8.3 in /usr/local/lib/python3.10/dist-packages (from langchain_community==0.0.29) (3.9.5)\n",
            "Requirement already satisfied: dataclasses-json<0.7,>=0.5.7 in /usr/local/lib/python3.10/dist-packages (from langchain_community==0.0.29) (0.6.6)\n",
            "Requirement already satisfied: langchain-core<0.2.0,>=0.1.33 in /usr/local/lib/python3.10/dist-packages (from langchain_community==0.0.29) (0.1.52)\n",
            "Requirement already satisfied: langsmith<0.2.0,>=0.1.0 in /usr/local/lib/python3.10/dist-packages (from langchain_community==0.0.29) (0.1.64)\n",
            "Requirement already satisfied: numpy<2,>=1 in /usr/local/lib/python3.10/dist-packages (from langchain_community==0.0.29) (1.25.2)\n",
            "Requirement already satisfied: requests<3,>=2 in /usr/local/lib/python3.10/dist-packages (from langchain_community==0.0.29) (2.31.0)\n",
            "Requirement already satisfied: tenacity<9.0.0,>=8.1.0 in /usr/local/lib/python3.10/dist-packages (from langchain_community==0.0.29) (8.3.0)\n",
            "Requirement already satisfied: aiosignal>=1.1.2 in /usr/local/lib/python3.10/dist-packages (from aiohttp<4.0.0,>=3.8.3->langchain_community==0.0.29) (1.3.1)\n",
            "Requirement already satisfied: attrs>=17.3.0 in /usr/local/lib/python3.10/dist-packages (from aiohttp<4.0.0,>=3.8.3->langchain_community==0.0.29) (23.2.0)\n",
            "Requirement already satisfied: frozenlist>=1.1.1 in /usr/local/lib/python3.10/dist-packages (from aiohttp<4.0.0,>=3.8.3->langchain_community==0.0.29) (1.4.1)\n",
            "Requirement already satisfied: multidict<7.0,>=4.5 in /usr/local/lib/python3.10/dist-packages (from aiohttp<4.0.0,>=3.8.3->langchain_community==0.0.29) (6.0.5)\n",
            "Requirement already satisfied: yarl<2.0,>=1.0 in /usr/local/lib/python3.10/dist-packages (from aiohttp<4.0.0,>=3.8.3->langchain_community==0.0.29) (1.9.4)\n",
            "Requirement already satisfied: async-timeout<5.0,>=4.0 in /usr/local/lib/python3.10/dist-packages (from aiohttp<4.0.0,>=3.8.3->langchain_community==0.0.29) (4.0.3)\n",
            "Requirement already satisfied: marshmallow<4.0.0,>=3.18.0 in /usr/local/lib/python3.10/dist-packages (from dataclasses-json<0.7,>=0.5.7->langchain_community==0.0.29) (3.21.2)\n",
            "Requirement already satisfied: typing-inspect<1,>=0.4.0 in /usr/local/lib/python3.10/dist-packages (from dataclasses-json<0.7,>=0.5.7->langchain_community==0.0.29) (0.9.0)\n",
            "Requirement already satisfied: jsonpatch<2.0,>=1.33 in /usr/local/lib/python3.10/dist-packages (from langchain-core<0.2.0,>=0.1.33->langchain_community==0.0.29) (1.33)\n",
            "Requirement already satisfied: packaging<24.0,>=23.2 in /usr/local/lib/python3.10/dist-packages (from langchain-core<0.2.0,>=0.1.33->langchain_community==0.0.29) (23.2)\n",
            "Requirement already satisfied: pydantic<3,>=1 in /usr/local/lib/python3.10/dist-packages (from langchain-core<0.2.0,>=0.1.33->langchain_community==0.0.29) (2.7.1)\n",
            "Requirement already satisfied: orjson<4.0.0,>=3.9.14 in /usr/local/lib/python3.10/dist-packages (from langsmith<0.2.0,>=0.1.0->langchain_community==0.0.29) (3.10.3)\n",
            "Requirement already satisfied: charset-normalizer<4,>=2 in /usr/local/lib/python3.10/dist-packages (from requests<3,>=2->langchain_community==0.0.29) (3.3.2)\n",
            "Requirement already satisfied: idna<4,>=2.5 in /usr/local/lib/python3.10/dist-packages (from requests<3,>=2->langchain_community==0.0.29) (3.7)\n",
            "Requirement already satisfied: urllib3<3,>=1.21.1 in /usr/local/lib/python3.10/dist-packages (from requests<3,>=2->langchain_community==0.0.29) (2.0.7)\n",
            "Requirement already satisfied: certifi>=2017.4.17 in /usr/local/lib/python3.10/dist-packages (from requests<3,>=2->langchain_community==0.0.29) (2024.2.2)\n",
            "Requirement already satisfied: typing-extensions>=4.6.0 in /usr/local/lib/python3.10/dist-packages (from SQLAlchemy<3,>=1.4->langchain_community==0.0.29) (4.11.0)\n",
            "Requirement already satisfied: greenlet!=0.4.17 in /usr/local/lib/python3.10/dist-packages (from SQLAlchemy<3,>=1.4->langchain_community==0.0.29) (3.0.3)\n",
            "Requirement already satisfied: jsonpointer>=1.9 in /usr/local/lib/python3.10/dist-packages (from jsonpatch<2.0,>=1.33->langchain-core<0.2.0,>=0.1.33->langchain_community==0.0.29) (2.4)\n",
            "Requirement already satisfied: annotated-types>=0.4.0 in /usr/local/lib/python3.10/dist-packages (from pydantic<3,>=1->langchain-core<0.2.0,>=0.1.33->langchain_community==0.0.29) (0.7.0)\n",
            "Requirement already satisfied: pydantic-core==2.18.2 in /usr/local/lib/python3.10/dist-packages (from pydantic<3,>=1->langchain-core<0.2.0,>=0.1.33->langchain_community==0.0.29) (2.18.2)\n",
            "Requirement already satisfied: mypy-extensions>=0.3.0 in /usr/local/lib/python3.10/dist-packages (from typing-inspect<1,>=0.4.0->dataclasses-json<0.7,>=0.5.7->langchain_community==0.0.29) (1.0.0)\n",
            "Installing collected packages: langchain_community\n",
            "  Attempting uninstall: langchain_community\n",
            "    Found existing installation: langchain-community 0.0.38\n",
            "    Uninstalling langchain-community-0.0.38:\n",
            "      Successfully uninstalled langchain-community-0.0.38\n",
            "\u001b[31mERROR: pip's dependency resolver does not currently take into account all the packages that are installed. This behaviour is the source of the following dependency conflicts.\n",
            "langchain 0.1.20 requires langchain-community<0.1,>=0.0.38, but you have langchain-community 0.0.29 which is incompatible.\u001b[0m\u001b[31m\n",
            "\u001b[0mSuccessfully installed langchain_community-0.0.29\n",
            "Collecting utils\n",
            "  Downloading utils-1.0.2.tar.gz (13 kB)\n",
            "  Preparing metadata (setup.py) ... \u001b[?25l\u001b[?25hdone\n",
            "Building wheels for collected packages: utils\n",
            "  Building wheel for utils (setup.py) ... \u001b[?25l\u001b[?25hdone\n",
            "  Created wheel for utils: filename=utils-1.0.2-py2.py3-none-any.whl size=13906 sha256=c18af4bb5398464ffeda0745cd2b678bba7c2733f41e049eaf6ad14a332d0d49\n",
            "  Stored in directory: /root/.cache/pip/wheels/b8/39/f5/9d0ca31dba85773ececf0a7f5469f18810e1c8a8ed9da28ca7\n",
            "Successfully built utils\n",
            "Installing collected packages: utils\n",
            "Successfully installed utils-1.0.2\n"
          ]
        }
      ]
    },
    {
      "cell_type": "code",
      "execution_count": 2,
      "metadata": {
        "height": 64,
        "id": "lSUveP9BNm_0"
      },
      "outputs": [],
      "source": [
        "# Warning control\n",
        "import warnings\n",
        "warnings.filterwarnings('ignore')"
      ]
    },
    {
      "cell_type": "markdown",
      "source": [
        "NB: Suppresses any warning messages to ensure a clean output."
      ],
      "metadata": {
        "id": "-c1XQGffjqkR"
      }
    },
    {
      "cell_type": "markdown",
      "source": [
        "## importing required classes"
      ],
      "metadata": {
        "id": "v0cqb159fAMG"
      }
    },
    {
      "cell_type": "code",
      "source": [
        "from crewai import Agent, Task, Crew\n",
        "import os\n",
        "from google.colab import userdata\n"
      ],
      "metadata": {
        "id": "jsD5sxn-e4-4"
      },
      "execution_count": 3,
      "outputs": []
    },
    {
      "cell_type": "markdown",
      "metadata": {
        "id": "dF1muW_tNm_2"
      },
      "source": [
        "- As a LLM for your agents, you'll be using OpenAI's `gpt-3.5-turbo`.\n",
        "\n",
        "**Optional Note:** crewAI also allow other popular models to be used as a LLM for your Agents. You can see some of the examples at the [bottom of the notebook](#1)."
      ]
    },
    {
      "cell_type": "markdown",
      "source": [
        "## Setting up API Keys"
      ],
      "metadata": {
        "id": "qcaQ5SUofSrj"
      }
    },
    {
      "cell_type": "code",
      "source": [
        "openai_api_key = userdata.get(\"OPENAI_API_KEY\")\n",
        "os.environ[\"OPENAI_API_KEY\"] = openai_api_key\n",
        "os.environ[\"OPENAI_MODEL_NAME\"] = 'gpt-3.5-turbo'\n"
      ],
      "metadata": {
        "id": "IF4iiYisff6s"
      },
      "execution_count": 4,
      "outputs": []
    },
    {
      "cell_type": "markdown",
      "metadata": {
        "id": "z-8AlbYlNm_2"
      },
      "source": [
        "## Defining Agents\n",
        "\n",
        "- Define your Agents, and provide them a `role`, `goal` and `backstory`.\n",
        "- It has been seen that LLMs perform better when they are role playing."
      ]
    },
    {
      "cell_type": "markdown",
      "metadata": {
        "id": "rD7fxOwINm_2"
      },
      "source": [
        "### Content Planner\n",
        "\n",
        "**Note**: The benefit of using _multiple strings_ :\n",
        "```Python\n",
        "varname = \"line 1 of text\"\n",
        "          \"line 2 of text\"\n",
        "```\n",
        "\n",
        "versus the _triple quote docstring_:\n",
        "```Python\n",
        "varname = \"\"\"line 1 of text\n",
        "             line 2 of text\n",
        "          \"\"\"\n",
        "```\n",
        "is that it can avoid adding those whitespaces and newline characters, making it better formatted to be passed to the LLM."
      ]
    },
    {
      "cell_type": "code",
      "execution_count": 5,
      "metadata": {
        "height": 234,
        "id": "xmxMiaZYNm_3"
      },
      "outputs": [],
      "source": [
        "planner = Agent(\n",
        "    role=\"Content Planner\",\n",
        "    goal=\"Plan engaging and factually accurate content on {topic}\",\n",
        "    backstory=\"You're working on planning a blog article \"\n",
        "              \"about the topic: {topic}.\"\n",
        "              \"You collect information that helps the \"\n",
        "              \"audience learn something \"\n",
        "              \"and make informed decisions. \"\n",
        "              \"Your work is the basis for \"\n",
        "              \"the Content Writer to write an article on this topic.\",\n",
        "    allow_delegation=False,\n",
        "\t  verbose=True\n",
        ")"
      ]
    },
    {
      "cell_type": "markdown",
      "source": [
        "NB: The Content Planner agent is responsible for creating a comprehensive plan for the blog article on the given topic."
      ],
      "metadata": {
        "id": "Pa_wyY1Kf__Z"
      }
    },
    {
      "cell_type": "markdown",
      "metadata": {
        "id": "I8atyFJ_Nm_3"
      },
      "source": [
        "### Content Writer"
      ]
    },
    {
      "cell_type": "code",
      "execution_count": 6,
      "metadata": {
        "height": 370,
        "id": "W6RKv36YNm_3"
      },
      "outputs": [],
      "source": [
        "writer = Agent(\n",
        "    role=\"Content Writer\",\n",
        "    goal=\"Write insightful and factually accurate \"\n",
        "         \"opinion piece about the topic: {topic}\",\n",
        "    backstory=\"You're working on a writing \"\n",
        "              \"a new opinion piece about the topic: {topic}. \"\n",
        "              \"You base your writing on the work of \"\n",
        "              \"the Content Planner, who provides an outline \"\n",
        "              \"and relevant context about the topic. \"\n",
        "              \"You follow the main objectives and \"\n",
        "              \"direction of the outline, \"\n",
        "              \"as provide by the Content Planner. \"\n",
        "              \"You also provide objective and impartial insights \"\n",
        "              \"and back them up with information \"\n",
        "              \"provide by the Content Planner. \"\n",
        "              \"You acknowledge in your opinion piece \"\n",
        "              \"when your statements are opinions \"\n",
        "              \"as opposed to objective statements.\",\n",
        "    allow_delegation=False,\n",
        "    verbose=True\n",
        ")"
      ]
    },
    {
      "cell_type": "markdown",
      "source": [
        "NB: The Content Writer agent uses the plan from the Content Planner to write the blog post, ensuring it is insightful and accurate."
      ],
      "metadata": {
        "id": "jKcQtiWWgNOh"
      }
    },
    {
      "cell_type": "markdown",
      "metadata": {
        "id": "K9Wonp3lNm_4"
      },
      "source": [
        "### Editor"
      ]
    },
    {
      "cell_type": "code",
      "execution_count": 7,
      "metadata": {
        "height": 268,
        "id": "-pLduGJZNm_4"
      },
      "outputs": [],
      "source": [
        "editor = Agent(\n",
        "    role=\"Editor\",\n",
        "    goal=\"Edit a given blog post to align with \"\n",
        "         \"the writing style of the organization. \",\n",
        "    backstory=\"You are an editor who receives a blog post \"\n",
        "              \"from the Content Writer. \"\n",
        "              \"Your goal is to review the blog post \"\n",
        "              \"to ensure that it follows journalistic best practices,\"\n",
        "              \"provides balanced viewpoints \"\n",
        "              \"when providing opinions or assertions, \"\n",
        "              \"and also avoids major controversial topics \"\n",
        "              \"or opinions when possible.\",\n",
        "    allow_delegation=False,\n",
        "    verbose=True\n",
        ")"
      ]
    },
    {
      "cell_type": "markdown",
      "source": [
        "The Editor agent reviews the content for grammatical correctness and brand consistency."
      ],
      "metadata": {
        "id": "djG-RmmLgY1U"
      }
    },
    {
      "cell_type": "markdown",
      "metadata": {
        "id": "EY2thEJ4Nm_4"
      },
      "source": [
        "## Defining Tasks\n",
        "\n",
        "- Define your Tasks, and provide them a `description`, `expected_output` and `agent`."
      ]
    },
    {
      "cell_type": "markdown",
      "metadata": {
        "id": "JOEzyt5TNm_5"
      },
      "source": [
        "### Task: Plan"
      ]
    },
    {
      "cell_type": "code",
      "execution_count": 8,
      "metadata": {
        "height": 268,
        "id": "maiviIJbNm_5"
      },
      "outputs": [],
      "source": [
        "plan = Task(\n",
        "    description=(\n",
        "        \"1. Prioritize the latest trends, key players, \"\n",
        "            \"and noteworthy news on {topic}.\\n\"\n",
        "        \"2. Identify the target audience, considering \"\n",
        "            \"their interests and pain points.\\n\"\n",
        "        \"3. Develop a detailed content outline including \"\n",
        "            \"an introduction, key points, and a call to action.\\n\"\n",
        "        \"4. Include SEO keywords and relevant data or sources.\"\n",
        "    ),\n",
        "    expected_output=\"A comprehensive content plan document \"\n",
        "        \"with an outline, audience analysis, \"\n",
        "        \"SEO keywords, and resources.\",\n",
        "    agent=planner,\n",
        ")"
      ]
    },
    {
      "cell_type": "markdown",
      "source": [
        "NB: This task is associated to the Content Planner agent and involves creating a detailed content plan, including an outline, key points, audience analysis, and SEO suggestions."
      ],
      "metadata": {
        "id": "0luNbU5bgntz"
      }
    },
    {
      "cell_type": "markdown",
      "metadata": {
        "id": "rcLwhEahNm_5"
      },
      "source": [
        "### Task: Write"
      ]
    },
    {
      "cell_type": "code",
      "execution_count": 9,
      "metadata": {
        "height": 319,
        "id": "UH6GyKI3Nm_5"
      },
      "outputs": [],
      "source": [
        "write = Task(\n",
        "    description=(\n",
        "        \"1. Use the content plan to craft a compelling \"\n",
        "            \"blog post on {topic}.\\n\"\n",
        "        \"2. Incorporate SEO keywords naturally.\\n\"\n",
        "\t\t\"3. Sections/Subtitles are properly named \"\n",
        "            \"in an engaging manner.\\n\"\n",
        "        \"4. Ensure the post is structured with an \"\n",
        "            \"engaging introduction, insightful body, \"\n",
        "            \"and a summarizing conclusion.\\n\"\n",
        "        \"5. Proofread for grammatical errors and \"\n",
        "            \"alignment with the brand's voice.\\n\"\n",
        "    ),\n",
        "    expected_output=\"A well-written blog post \"\n",
        "        \"in markdown format, ready for publication, \"\n",
        "        \"each section should have 2 or 3 paragraphs.\",\n",
        "    agent=writer,\n",
        ")"
      ]
    },
    {
      "cell_type": "markdown",
      "source": [
        "NB: This task is assigned to the content writer agen. The Write task leverages the content plan to write the blog post, ensuring it follows the provided structure and SEO guidelines."
      ],
      "metadata": {
        "id": "W5upg17tgsNW"
      }
    },
    {
      "cell_type": "markdown",
      "metadata": {
        "id": "5bDpLdipNm_7"
      },
      "source": [
        "### Task: Edit"
      ]
    },
    {
      "cell_type": "code",
      "execution_count": 10,
      "metadata": {
        "height": 166,
        "id": "V6gBIJK9Nm_7"
      },
      "outputs": [],
      "source": [
        "edit = Task(\n",
        "    description=(\"Proofread the given blog post for \"\n",
        "                 \"grammatical errors and \"\n",
        "                 \"alignment with the brand's voice.\"),\n",
        "    expected_output=\"A well-written blog post in markdown format, \"\n",
        "                    \"ready for publication, \"\n",
        "                    \"each section should have 2 or 3 paragraphs.\",\n",
        "    agent=editor\n",
        ")"
      ]
    },
    {
      "cell_type": "markdown",
      "source": [
        "NB: This task is assiged to the Editor agent. The Edit task involves proofreading and finalizing the blog post for publication."
      ],
      "metadata": {
        "id": "CGmD_ghdgySl"
      }
    },
    {
      "cell_type": "markdown",
      "metadata": {
        "id": "0NPPgcdbNm_8"
      },
      "source": [
        "## Assembling the Crew and Executing the Workflow\n",
        "\n",
        "- Create your crew of Agents\n",
        "- Pass the tasks to be performed by those agents.\n",
        "    - **Note**: *For this simple example*, the tasks will be performed sequentially (i.e they are dependent on each other), so the _order_ of the task in the list _matters_.\n",
        "- `verbose=2` allows you to see all the logs of the execution."
      ]
    },
    {
      "cell_type": "code",
      "execution_count": 11,
      "metadata": {
        "height": 98,
        "id": "uOlzB8jBNm_8"
      },
      "outputs": [],
      "source": [
        "crew = Crew(\n",
        "    agents=[planner, writer, editor],\n",
        "    tasks=[plan, write, edit],\n",
        "    verbose=2\n",
        ")"
      ]
    },
    {
      "cell_type": "markdown",
      "source": [
        "NB: **The Crew class organizes the agents and tasks into a coherent workflow.**"
      ],
      "metadata": {
        "id": "LEbvMzPDg-AG"
      }
    },
    {
      "cell_type": "markdown",
      "metadata": {
        "id": "FzRcMvO8Nm_9"
      },
      "source": [
        "## Running the Crew"
      ]
    },
    {
      "cell_type": "markdown",
      "metadata": {
        "id": "Y0ln-GylNm_9"
      },
      "source": [
        "**Note**: LLMs can provide different outputs for they same input, so what you get might be different than what you see in the video."
      ]
    },
    {
      "cell_type": "code",
      "execution_count": 12,
      "metadata": {
        "height": 30,
        "colab": {
          "base_uri": "https://localhost:8080/"
        },
        "id": "T64zfVoaNm_9",
        "outputId": "a0dcb7b1-7c4f-4eec-fcbb-453cc623e793"
      },
      "outputs": [
        {
          "output_type": "stream",
          "name": "stdout",
          "text": [
            "\u001b[1m\u001b[95m [DEBUG]: == Working Agent: Content Planner\u001b[00m\n",
            "\u001b[1m\u001b[95m [INFO]: == Starting Task: 1. Prioritize the latest trends, key players, and noteworthy news on Artificial Intelligence.\n",
            "2. Identify the target audience, considering their interests and pain points.\n",
            "3. Develop a detailed content outline including an introduction, key points, and a call to action.\n",
            "4. Include SEO keywords and relevant data or sources.\u001b[00m\n",
            "\n",
            "\n",
            "\u001b[1m> Entering new CrewAgentExecutor chain...\u001b[0m\n",
            "\u001b[32;1m\u001b[1;3mI now can give a great answer\n",
            "\n",
            "Final Answer: \n",
            "\n",
            "Title: The Future of Artificial Intelligence: Trends, Players, and News\n",
            "\n",
            "Introduction:\n",
            "- Brief overview of the current state of artificial intelligence\n",
            "- Importance of staying updated on AI trends and developments\n",
            "\n",
            "Key Points:\n",
            "1. Latest Trends in Artificial Intelligence:\n",
            "- Advancements in machine learning and deep learning\n",
            "- Integration of AI in various industries such as healthcare, finance, and automotive\n",
            "- Ethical considerations and regulations in AI development\n",
            "\n",
            "2. Key Players in the Artificial Intelligence Industry:\n",
            "- Leading companies such as Google, Amazon, and Microsoft investing heavily in AI research and development\n",
            "- Emerging startups disrupting the AI landscape with innovative solutions\n",
            "- Collaboration between academia and industry to push AI boundaries\n",
            "\n",
            "3. Noteworthy News in Artificial Intelligence:\n",
            "- Breakthroughs in natural language processing and computer vision\n",
            "- Applications of AI in combating climate change and improving sustainability\n",
            "- Impact of AI on job markets and workforce automation\n",
            "\n",
            "Audience Analysis:\n",
            "- Target audience includes tech enthusiasts, business professionals, and students interested in AI\n",
            "- Audience pain points may include understanding complex AI concepts, keeping up with rapid advancements, and navigating ethical dilemmas in AI development\n",
            "\n",
            "Content Outline:\n",
            "- Introduction to Artificial Intelligence\n",
            "- Latest Trends in AI\n",
            "- Key Players in the AI Industry\n",
            "- Noteworthy News in AI\n",
            "- Ethical Considerations in AI Development\n",
            "- Future Implications of AI\n",
            "- Call to Action: Stay informed and engaged with AI developments through reputable sources\n",
            "\n",
            "SEO Keywords:\n",
            "- Artificial Intelligence trends\n",
            "- Key players in AI industry\n",
            "- News on artificial intelligence\n",
            "- Ethical AI development\n",
            "- Future of artificial intelligence\n",
            "\n",
            "Resources:\n",
            "- Industry reports from Gartner and Forrester on AI trends\n",
            "- Articles from reputable sources such as TechCrunch and Wired on AI advancements\n",
            "- Research papers from leading AI conferences like NeurIPS and ICML\n",
            "\n",
            "By following this comprehensive content plan, the blog article on Artificial Intelligence will provide valuable insights and information to the target audience, helping them make informed decisions and stay updated on the latest developments in AI.\u001b[0m\n",
            "\n",
            "\u001b[1m> Finished chain.\u001b[0m\n",
            "\u001b[1m\u001b[92m [DEBUG]: == [Content Planner] Task output: Title: The Future of Artificial Intelligence: Trends, Players, and News\n",
            "\n",
            "Introduction:\n",
            "- Brief overview of the current state of artificial intelligence\n",
            "- Importance of staying updated on AI trends and developments\n",
            "\n",
            "Key Points:\n",
            "1. Latest Trends in Artificial Intelligence:\n",
            "- Advancements in machine learning and deep learning\n",
            "- Integration of AI in various industries such as healthcare, finance, and automotive\n",
            "- Ethical considerations and regulations in AI development\n",
            "\n",
            "2. Key Players in the Artificial Intelligence Industry:\n",
            "- Leading companies such as Google, Amazon, and Microsoft investing heavily in AI research and development\n",
            "- Emerging startups disrupting the AI landscape with innovative solutions\n",
            "- Collaboration between academia and industry to push AI boundaries\n",
            "\n",
            "3. Noteworthy News in Artificial Intelligence:\n",
            "- Breakthroughs in natural language processing and computer vision\n",
            "- Applications of AI in combating climate change and improving sustainability\n",
            "- Impact of AI on job markets and workforce automation\n",
            "\n",
            "Audience Analysis:\n",
            "- Target audience includes tech enthusiasts, business professionals, and students interested in AI\n",
            "- Audience pain points may include understanding complex AI concepts, keeping up with rapid advancements, and navigating ethical dilemmas in AI development\n",
            "\n",
            "Content Outline:\n",
            "- Introduction to Artificial Intelligence\n",
            "- Latest Trends in AI\n",
            "- Key Players in the AI Industry\n",
            "- Noteworthy News in AI\n",
            "- Ethical Considerations in AI Development\n",
            "- Future Implications of AI\n",
            "- Call to Action: Stay informed and engaged with AI developments through reputable sources\n",
            "\n",
            "SEO Keywords:\n",
            "- Artificial Intelligence trends\n",
            "- Key players in AI industry\n",
            "- News on artificial intelligence\n",
            "- Ethical AI development\n",
            "- Future of artificial intelligence\n",
            "\n",
            "Resources:\n",
            "- Industry reports from Gartner and Forrester on AI trends\n",
            "- Articles from reputable sources such as TechCrunch and Wired on AI advancements\n",
            "- Research papers from leading AI conferences like NeurIPS and ICML\n",
            "\n",
            "By following this comprehensive content plan, the blog article on Artificial Intelligence will provide valuable insights and information to the target audience, helping them make informed decisions and stay updated on the latest developments in AI.\n",
            "\n",
            "\u001b[00m\n",
            "\u001b[1m\u001b[95m [DEBUG]: == Working Agent: Content Writer\u001b[00m\n",
            "\u001b[1m\u001b[95m [INFO]: == Starting Task: 1. Use the content plan to craft a compelling blog post on Artificial Intelligence.\n",
            "2. Incorporate SEO keywords naturally.\n",
            "3. Sections/Subtitles are properly named in an engaging manner.\n",
            "4. Ensure the post is structured with an engaging introduction, insightful body, and a summarizing conclusion.\n",
            "5. Proofread for grammatical errors and alignment with the brand's voice.\n",
            "\u001b[00m\n",
            "\n",
            "\n",
            "\u001b[1m> Entering new CrewAgentExecutor chain...\u001b[0m\n",
            "\u001b[32;1m\u001b[1;3mI now can give a great answer\n",
            "\n",
            "Final Answer:\n",
            "# The Future of Artificial Intelligence: Trends, Players, and News\n",
            "\n",
            "## Introduction\n",
            "Artificial Intelligence (AI) has rapidly become a transformative force in our world, revolutionizing industries and reshaping the way we live and work. Staying informed on the latest AI trends and developments is crucial in understanding the future implications of this cutting-edge technology.\n",
            "\n",
            "## Latest Trends in Artificial Intelligence\n",
            "Advancements in machine learning and deep learning have propelled AI to new heights, enabling machines to learn from data and make decisions with minimal human intervention. This has led to the integration of AI in various sectors such as healthcare, finance, and automotive, where AI-powered solutions are optimizing processes and driving innovation. However, with great power comes great responsibility, as ethical considerations and regulations in AI development are paramount to ensure the responsible use of this powerful technology.\n",
            "\n",
            "## Key Players in the Artificial Intelligence Industry\n",
            "Leading tech giants like Google, Amazon, and Microsoft are at the forefront of AI research and development, investing heavily in cutting-edge technologies and solutions. Additionally, emerging startups are disrupting the AI landscape with innovative approaches and solutions that are challenging the status quo. Collaboration between academia and industry is pushing the boundaries of AI, fostering a dynamic ecosystem of research and innovation.\n",
            "\n",
            "## Noteworthy News in Artificial Intelligence\n",
            "Breakthroughs in natural language processing and computer vision have opened up new possibilities for AI applications, from virtual assistants to autonomous vehicles. AI is also being leveraged to combat climate change and improve sustainability, with algorithms and models driving impactful solutions. However, the impact of AI on job markets and workforce automation raises important questions about the future of work and the need for reskilling and upskilling in the age of AI.\n",
            "\n",
            "## Ethical Considerations in AI Development\n",
            "As AI becomes more pervasive in our society, ethical considerations in AI development are becoming increasingly important. From bias in algorithms to data privacy concerns, navigating the ethical dilemmas of AI requires a thoughtful and proactive approach. Establishing guidelines and frameworks for responsible AI development is essential to ensure that AI benefits society as a whole.\n",
            "\n",
            "## Future Implications of AI\n",
            "The future of artificial intelligence holds immense potential for both opportunities and challenges. As AI continues to evolve and expand its capabilities, it will reshape industries, redefine jobs, and transform the way we interact with technology. Staying informed and engaged with AI developments through reputable sources is key to navigating the complex landscape of AI and harnessing its benefits for a better future.\n",
            "\n",
            "## Call to Action\n",
            "In conclusion, the future of artificial intelligence is filled with promise and potential, but it also presents ethical, social, and economic challenges that must be addressed. By staying informed and engaged with AI developments, we can shape the future of AI in a responsible and sustainable manner. Let us embrace the opportunities that AI brings while also being mindful of the risks and implications, ensuring a future where AI works for the betterment of society.\n",
            "\n",
            "Remember to stay updated on Artificial Intelligence trends, explore the key players in the AI industry, and follow the latest news on AI developments to be at the forefront of this technological revolution.\u001b[0m\n",
            "\n",
            "\u001b[1m> Finished chain.\u001b[0m\n",
            "\u001b[1m\u001b[92m [DEBUG]: == [Content Writer] Task output: # The Future of Artificial Intelligence: Trends, Players, and News\n",
            "\n",
            "## Introduction\n",
            "Artificial Intelligence (AI) has rapidly become a transformative force in our world, revolutionizing industries and reshaping the way we live and work. Staying informed on the latest AI trends and developments is crucial in understanding the future implications of this cutting-edge technology.\n",
            "\n",
            "## Latest Trends in Artificial Intelligence\n",
            "Advancements in machine learning and deep learning have propelled AI to new heights, enabling machines to learn from data and make decisions with minimal human intervention. This has led to the integration of AI in various sectors such as healthcare, finance, and automotive, where AI-powered solutions are optimizing processes and driving innovation. However, with great power comes great responsibility, as ethical considerations and regulations in AI development are paramount to ensure the responsible use of this powerful technology.\n",
            "\n",
            "## Key Players in the Artificial Intelligence Industry\n",
            "Leading tech giants like Google, Amazon, and Microsoft are at the forefront of AI research and development, investing heavily in cutting-edge technologies and solutions. Additionally, emerging startups are disrupting the AI landscape with innovative approaches and solutions that are challenging the status quo. Collaboration between academia and industry is pushing the boundaries of AI, fostering a dynamic ecosystem of research and innovation.\n",
            "\n",
            "## Noteworthy News in Artificial Intelligence\n",
            "Breakthroughs in natural language processing and computer vision have opened up new possibilities for AI applications, from virtual assistants to autonomous vehicles. AI is also being leveraged to combat climate change and improve sustainability, with algorithms and models driving impactful solutions. However, the impact of AI on job markets and workforce automation raises important questions about the future of work and the need for reskilling and upskilling in the age of AI.\n",
            "\n",
            "## Ethical Considerations in AI Development\n",
            "As AI becomes more pervasive in our society, ethical considerations in AI development are becoming increasingly important. From bias in algorithms to data privacy concerns, navigating the ethical dilemmas of AI requires a thoughtful and proactive approach. Establishing guidelines and frameworks for responsible AI development is essential to ensure that AI benefits society as a whole.\n",
            "\n",
            "## Future Implications of AI\n",
            "The future of artificial intelligence holds immense potential for both opportunities and challenges. As AI continues to evolve and expand its capabilities, it will reshape industries, redefine jobs, and transform the way we interact with technology. Staying informed and engaged with AI developments through reputable sources is key to navigating the complex landscape of AI and harnessing its benefits for a better future.\n",
            "\n",
            "## Call to Action\n",
            "In conclusion, the future of artificial intelligence is filled with promise and potential, but it also presents ethical, social, and economic challenges that must be addressed. By staying informed and engaged with AI developments, we can shape the future of AI in a responsible and sustainable manner. Let us embrace the opportunities that AI brings while also being mindful of the risks and implications, ensuring a future where AI works for the betterment of society.\n",
            "\n",
            "Remember to stay updated on Artificial Intelligence trends, explore the key players in the AI industry, and follow the latest news on AI developments to be at the forefront of this technological revolution.\n",
            "\n",
            "\u001b[00m\n",
            "\u001b[1m\u001b[95m [DEBUG]: == Working Agent: Editor\u001b[00m\n",
            "\u001b[1m\u001b[95m [INFO]: == Starting Task: Proofread the given blog post for grammatical errors and alignment with the brand's voice.\u001b[00m\n",
            "\n",
            "\n",
            "\u001b[1m> Entering new CrewAgentExecutor chain...\u001b[0m\n",
            "\u001b[32;1m\u001b[1;3mI now can give a great answer\n",
            "\n",
            "Final Answer:\n",
            "# The Future of Artificial Intelligence: Trends, Players, and News\n",
            "\n",
            "## Introduction\n",
            "Artificial Intelligence (AI) has rapidly become a transformative force in our world, revolutionizing industries and reshaping the way we live and work. Staying informed on the latest AI trends and developments is crucial in understanding the future implications of this cutting-edge technology.\n",
            "\n",
            "## Latest Trends in Artificial Intelligence\n",
            "Advancements in machine learning and deep learning have propelled AI to new heights, enabling machines to learn from data and make decisions with minimal human intervention. This has led to the integration of AI in various sectors such as healthcare, finance, and automotive, where AI-powered solutions are optimizing processes and driving innovation. However, with great power comes great responsibility, as ethical considerations and regulations in AI development are paramount to ensure the responsible use of this powerful technology.\n",
            "\n",
            "## Key Players in the Artificial Intelligence Industry\n",
            "Leading tech giants like Google, Amazon, and Microsoft are at the forefront of AI research and development, investing heavily in cutting-edge technologies and solutions. Additionally, emerging startups are disrupting the AI landscape with innovative approaches and solutions that are challenging the status quo. Collaboration between academia and industry is pushing the boundaries of AI, fostering a dynamic ecosystem of research and innovation.\n",
            "\n",
            "## Noteworthy News in Artificial Intelligence\n",
            "Breakthroughs in natural language processing and computer vision have opened up new possibilities for AI applications, from virtual assistants to autonomous vehicles. AI is also being leveraged to combat climate change and improve sustainability, with algorithms and models driving impactful solutions. However, the impact of AI on job markets and workforce automation raises important questions about the future of work and the need for reskilling and upskilling in the age of AI.\n",
            "\n",
            "## Ethical Considerations in AI Development\n",
            "As AI becomes more pervasive in our society, ethical considerations in AI development are becoming increasingly important. From bias in algorithms to data privacy concerns, navigating the ethical dilemmas of AI requires a thoughtful and proactive approach. Establishing guidelines and frameworks for responsible AI development is essential to ensure that AI benefits society as a whole.\n",
            "\n",
            "## Future Implications of AI\n",
            "The future of artificial intelligence holds immense potential for both opportunities and challenges. As AI continues to evolve and expand its capabilities, it will reshape industries, redefine jobs, and transform the way we interact with technology. Staying informed and engaged with AI developments through reputable sources is key to navigating the complex landscape of AI and harnessing its benefits for a better future.\n",
            "\n",
            "## Call to Action\n",
            "In conclusion, the future of artificial intelligence is filled with promise and potential, but it also presents ethical, social, and economic challenges that must be addressed. By staying informed and engaged with AI developments, we can shape the future of AI in a responsible and sustainable manner. Let us embrace the opportunities that AI brings while also being mindful of the risks and implications, ensuring a future where AI works for the betterment of society.\n",
            "\n",
            "Remember to stay updated on Artificial Intelligence trends, explore the key players in the AI industry, and follow the latest news on AI developments to be at the forefront of this technological revolution.\u001b[0m\n",
            "\n",
            "\u001b[1m> Finished chain.\u001b[0m\n",
            "\u001b[1m\u001b[92m [DEBUG]: == [Editor] Task output: # The Future of Artificial Intelligence: Trends, Players, and News\n",
            "\n",
            "## Introduction\n",
            "Artificial Intelligence (AI) has rapidly become a transformative force in our world, revolutionizing industries and reshaping the way we live and work. Staying informed on the latest AI trends and developments is crucial in understanding the future implications of this cutting-edge technology.\n",
            "\n",
            "## Latest Trends in Artificial Intelligence\n",
            "Advancements in machine learning and deep learning have propelled AI to new heights, enabling machines to learn from data and make decisions with minimal human intervention. This has led to the integration of AI in various sectors such as healthcare, finance, and automotive, where AI-powered solutions are optimizing processes and driving innovation. However, with great power comes great responsibility, as ethical considerations and regulations in AI development are paramount to ensure the responsible use of this powerful technology.\n",
            "\n",
            "## Key Players in the Artificial Intelligence Industry\n",
            "Leading tech giants like Google, Amazon, and Microsoft are at the forefront of AI research and development, investing heavily in cutting-edge technologies and solutions. Additionally, emerging startups are disrupting the AI landscape with innovative approaches and solutions that are challenging the status quo. Collaboration between academia and industry is pushing the boundaries of AI, fostering a dynamic ecosystem of research and innovation.\n",
            "\n",
            "## Noteworthy News in Artificial Intelligence\n",
            "Breakthroughs in natural language processing and computer vision have opened up new possibilities for AI applications, from virtual assistants to autonomous vehicles. AI is also being leveraged to combat climate change and improve sustainability, with algorithms and models driving impactful solutions. However, the impact of AI on job markets and workforce automation raises important questions about the future of work and the need for reskilling and upskilling in the age of AI.\n",
            "\n",
            "## Ethical Considerations in AI Development\n",
            "As AI becomes more pervasive in our society, ethical considerations in AI development are becoming increasingly important. From bias in algorithms to data privacy concerns, navigating the ethical dilemmas of AI requires a thoughtful and proactive approach. Establishing guidelines and frameworks for responsible AI development is essential to ensure that AI benefits society as a whole.\n",
            "\n",
            "## Future Implications of AI\n",
            "The future of artificial intelligence holds immense potential for both opportunities and challenges. As AI continues to evolve and expand its capabilities, it will reshape industries, redefine jobs, and transform the way we interact with technology. Staying informed and engaged with AI developments through reputable sources is key to navigating the complex landscape of AI and harnessing its benefits for a better future.\n",
            "\n",
            "## Call to Action\n",
            "In conclusion, the future of artificial intelligence is filled with promise and potential, but it also presents ethical, social, and economic challenges that must be addressed. By staying informed and engaged with AI developments, we can shape the future of AI in a responsible and sustainable manner. Let us embrace the opportunities that AI brings while also being mindful of the risks and implications, ensuring a future where AI works for the betterment of society.\n",
            "\n",
            "Remember to stay updated on Artificial Intelligence trends, explore the key players in the AI industry, and follow the latest news on AI developments to be at the forefront of this technological revolution.\n",
            "\n",
            "\u001b[00m\n"
          ]
        }
      ],
      "source": [
        "result = crew.kickoff(inputs={\"topic\": \"Artificial Intelligence\"})"
      ]
    },
    {
      "cell_type": "markdown",
      "metadata": {
        "id": "FgMTtuemNm_9"
      },
      "source": [
        "- Display the results of your execution as markdown in the notebook."
      ]
    },
    {
      "cell_type": "code",
      "execution_count": 13,
      "metadata": {
        "height": 47,
        "colab": {
          "base_uri": "https://localhost:8080/",
          "height": 828
        },
        "id": "wQ4ZZupNNm_9",
        "outputId": "6d6517ba-65e4-44fa-ee17-f201fc7ef7ea"
      },
      "outputs": [
        {
          "output_type": "execute_result",
          "data": {
            "text/plain": [
              "<IPython.core.display.Markdown object>"
            ],
            "text/markdown": "# The Future of Artificial Intelligence: Trends, Players, and News\n\n## Introduction\nArtificial Intelligence (AI) has rapidly become a transformative force in our world, revolutionizing industries and reshaping the way we live and work. Staying informed on the latest AI trends and developments is crucial in understanding the future implications of this cutting-edge technology.\n\n## Latest Trends in Artificial Intelligence\nAdvancements in machine learning and deep learning have propelled AI to new heights, enabling machines to learn from data and make decisions with minimal human intervention. This has led to the integration of AI in various sectors such as healthcare, finance, and automotive, where AI-powered solutions are optimizing processes and driving innovation. However, with great power comes great responsibility, as ethical considerations and regulations in AI development are paramount to ensure the responsible use of this powerful technology.\n\n## Key Players in the Artificial Intelligence Industry\nLeading tech giants like Google, Amazon, and Microsoft are at the forefront of AI research and development, investing heavily in cutting-edge technologies and solutions. Additionally, emerging startups are disrupting the AI landscape with innovative approaches and solutions that are challenging the status quo. Collaboration between academia and industry is pushing the boundaries of AI, fostering a dynamic ecosystem of research and innovation.\n\n## Noteworthy News in Artificial Intelligence\nBreakthroughs in natural language processing and computer vision have opened up new possibilities for AI applications, from virtual assistants to autonomous vehicles. AI is also being leveraged to combat climate change and improve sustainability, with algorithms and models driving impactful solutions. However, the impact of AI on job markets and workforce automation raises important questions about the future of work and the need for reskilling and upskilling in the age of AI.\n\n## Ethical Considerations in AI Development\nAs AI becomes more pervasive in our society, ethical considerations in AI development are becoming increasingly important. From bias in algorithms to data privacy concerns, navigating the ethical dilemmas of AI requires a thoughtful and proactive approach. Establishing guidelines and frameworks for responsible AI development is essential to ensure that AI benefits society as a whole.\n\n## Future Implications of AI\nThe future of artificial intelligence holds immense potential for both opportunities and challenges. As AI continues to evolve and expand its capabilities, it will reshape industries, redefine jobs, and transform the way we interact with technology. Staying informed and engaged with AI developments through reputable sources is key to navigating the complex landscape of AI and harnessing its benefits for a better future.\n\n## Call to Action\nIn conclusion, the future of artificial intelligence is filled with promise and potential, but it also presents ethical, social, and economic challenges that must be addressed. By staying informed and engaged with AI developments, we can shape the future of AI in a responsible and sustainable manner. Let us embrace the opportunities that AI brings while also being mindful of the risks and implications, ensuring a future where AI works for the betterment of society.\n\nRemember to stay updated on Artificial Intelligence trends, explore the key players in the AI industry, and follow the latest news on AI developments to be at the forefront of this technological revolution."
          },
          "metadata": {},
          "execution_count": 13
        }
      ],
      "source": [
        "# save the general workflow reseult as a markdown file and print its content\n",
        "from IPython.display import Markdown\n",
        "Markdown(result)"
      ]
    },
    {
      "cell_type": "markdown",
      "source": [],
      "metadata": {
        "id": "vSTRcc9KhXnE"
      }
    },
    {
      "cell_type": "markdown",
      "metadata": {
        "id": "hK4UJoC5Nm_9"
      },
      "source": [
        "## Additional Execution Example - Try it yourself!\n",
        "\n",
        "- Pass in a topic of your choice and see what the agents come up with!"
      ]
    },
    {
      "cell_type": "code",
      "execution_count": 14,
      "metadata": {
        "height": 47,
        "id": "zeHec7D_Nm_9"
      },
      "outputs": [],
      "source": [
        "# topic = \"YOUR TOPIC HERE\"\n",
        "# result = crew.kickoff(inputs={\"topic\": topic})"
      ]
    },
    {
      "cell_type": "code",
      "execution_count": 15,
      "metadata": {
        "height": 47,
        "colab": {
          "base_uri": "https://localhost:8080/"
        },
        "id": "hhL3PFl4aULY",
        "outputId": "1a5465be-10bb-4427-cfed-80ed0510a2fd"
      },
      "outputs": [
        {
          "output_type": "stream",
          "name": "stdout",
          "text": [
            "\u001b[1m\u001b[95m [DEBUG]: == Working Agent: Content Planner\u001b[00m\n",
            "\u001b[1m\u001b[95m [INFO]: == Starting Task: 1. Prioritize the latest trends, key players, and noteworthy news on Quantum mechanics.\n",
            "2. Identify the target audience, considering their interests and pain points.\n",
            "3. Develop a detailed content outline including an introduction, key points, and a call to action.\n",
            "4. Include SEO keywords and relevant data or sources.\u001b[00m\n",
            "\n",
            "\n",
            "\u001b[1m> Entering new CrewAgentExecutor chain...\u001b[0m\n",
            "\u001b[32;1m\u001b[1;3mI now can give a great answer\n",
            "\n",
            "Final Answer: \n",
            "\n",
            "Content Plan Document\n",
            "\n",
            "Title: Unraveling the Mysteries of Quantum Mechanics\n",
            "\n",
            "Introduction:\n",
            "- Brief explanation of quantum mechanics and its significance in modern physics\n",
            "- Overview of the latest trends and advancements in quantum mechanics research\n",
            "- Mention key players in the field and recent noteworthy news articles\n",
            "\n",
            "Target Audience:\n",
            "- Science enthusiasts, students, and professionals in the field of physics\n",
            "- Those interested in cutting-edge scientific discoveries and theories\n",
            "- Individuals looking to expand their knowledge of quantum mechanics\n",
            "\n",
            "Audience Interests and Pain Points:\n",
            "- Interest in understanding complex scientific concepts\n",
            "- Desire to stay updated on the latest developments in the field of physics\n",
            "- Pain points related to the difficulty of grasping quantum mechanics principles\n",
            "\n",
            "Content Outline:\n",
            "1. Introduction to Quantum Mechanics\n",
            "- Brief history and key concepts\n",
            "- Importance of quantum mechanics in modern physics\n",
            "\n",
            "2. Latest Trends and Advancements\n",
            "- Overview of recent breakthroughs in quantum mechanics research\n",
            "- Discussion on quantum computing, entanglement, and superposition\n",
            "\n",
            "3. Key Players and Noteworthy News\n",
            "- Profiles of prominent scientists in the field\n",
            "- Summary of recent news articles related to quantum mechanics\n",
            "\n",
            "4. Call to Action\n",
            "- Encourage readers to explore further resources on quantum mechanics\n",
            "- Invite them to engage in discussions and share their thoughts on the topic\n",
            "\n",
            "SEO Keywords:\n",
            "- Quantum mechanics\n",
            "- Quantum physics\n",
            "- Quantum theory\n",
            "- Quantum computing\n",
            "- Quantum entanglement\n",
            "\n",
            "Resources:\n",
            "- Scientific journals and articles on quantum mechanics\n",
            "- Websites of leading research institutions in the field\n",
            "- Books on quantum mechanics for further reading\n",
            "\n",
            "Overall, this content plan aims to provide a comprehensive overview of quantum mechanics, catering to a diverse audience interested in the subject. By incorporating the latest trends, key players, and noteworthy news, the blog article will engage readers and encourage them to delve deeper into the fascinating world of quantum physics.\u001b[0m\n",
            "\n",
            "\u001b[1m> Finished chain.\u001b[0m\n",
            "\u001b[1m\u001b[92m [DEBUG]: == [Content Planner] Task output: Content Plan Document\n",
            "\n",
            "Title: Unraveling the Mysteries of Quantum Mechanics\n",
            "\n",
            "Introduction:\n",
            "- Brief explanation of quantum mechanics and its significance in modern physics\n",
            "- Overview of the latest trends and advancements in quantum mechanics research\n",
            "- Mention key players in the field and recent noteworthy news articles\n",
            "\n",
            "Target Audience:\n",
            "- Science enthusiasts, students, and professionals in the field of physics\n",
            "- Those interested in cutting-edge scientific discoveries and theories\n",
            "- Individuals looking to expand their knowledge of quantum mechanics\n",
            "\n",
            "Audience Interests and Pain Points:\n",
            "- Interest in understanding complex scientific concepts\n",
            "- Desire to stay updated on the latest developments in the field of physics\n",
            "- Pain points related to the difficulty of grasping quantum mechanics principles\n",
            "\n",
            "Content Outline:\n",
            "1. Introduction to Quantum Mechanics\n",
            "- Brief history and key concepts\n",
            "- Importance of quantum mechanics in modern physics\n",
            "\n",
            "2. Latest Trends and Advancements\n",
            "- Overview of recent breakthroughs in quantum mechanics research\n",
            "- Discussion on quantum computing, entanglement, and superposition\n",
            "\n",
            "3. Key Players and Noteworthy News\n",
            "- Profiles of prominent scientists in the field\n",
            "- Summary of recent news articles related to quantum mechanics\n",
            "\n",
            "4. Call to Action\n",
            "- Encourage readers to explore further resources on quantum mechanics\n",
            "- Invite them to engage in discussions and share their thoughts on the topic\n",
            "\n",
            "SEO Keywords:\n",
            "- Quantum mechanics\n",
            "- Quantum physics\n",
            "- Quantum theory\n",
            "- Quantum computing\n",
            "- Quantum entanglement\n",
            "\n",
            "Resources:\n",
            "- Scientific journals and articles on quantum mechanics\n",
            "- Websites of leading research institutions in the field\n",
            "- Books on quantum mechanics for further reading\n",
            "\n",
            "Overall, this content plan aims to provide a comprehensive overview of quantum mechanics, catering to a diverse audience interested in the subject. By incorporating the latest trends, key players, and noteworthy news, the blog article will engage readers and encourage them to delve deeper into the fascinating world of quantum physics.\n",
            "\n",
            "\u001b[00m\n",
            "\u001b[1m\u001b[95m [DEBUG]: == Working Agent: Content Writer\u001b[00m\n",
            "\u001b[1m\u001b[95m [INFO]: == Starting Task: 1. Use the content plan to craft a compelling blog post on Quantum mechanics.\n",
            "2. Incorporate SEO keywords naturally.\n",
            "3. Sections/Subtitles are properly named in an engaging manner.\n",
            "4. Ensure the post is structured with an engaging introduction, insightful body, and a summarizing conclusion.\n",
            "5. Proofread for grammatical errors and alignment with the brand's voice.\n",
            "\u001b[00m\n",
            "\n",
            "\n",
            "\u001b[1m> Entering new CrewAgentExecutor chain...\u001b[0m\n",
            "\u001b[32;1m\u001b[1;3mI now can give a great answer\n",
            "\n",
            "Final Answer:\n",
            "\n",
            "# Unraveling the Mysteries of Quantum Mechanics\n",
            "\n",
            "## Introduction to Quantum Mechanics\n",
            "\n",
            "Quantum mechanics, a fundamental theory in physics, has revolutionized our understanding of the universe at its most fundamental levels. Developed in the early 20th century, this theory describes the behavior of particles at the atomic and subatomic levels, challenging our classical notions of reality. Quantum mechanics plays a crucial role in modern physics, with applications in areas such as quantum computing, cryptography, and information theory.\n",
            "\n",
            "## Latest Trends and Advancements\n",
            "\n",
            "Recent years have seen significant breakthroughs in quantum mechanics research, particularly in the fields of quantum computing, entanglement, and superposition. Quantum computing, in particular, holds the promise of exponentially faster computation and has the potential to revolutionize industries ranging from healthcare to finance. Entanglement, a phenomenon where particles become interconnected regardless of distance, continues to baffle scientists and push the boundaries of our understanding of the quantum world. Superposition, the concept that particles can exist in multiple states simultaneously, opens up possibilities for new technologies and innovations.\n",
            "\n",
            "## Key Players and Noteworthy News\n",
            "\n",
            "Prominent scientists in the field of quantum mechanics, such as Niels Bohr, Max Planck, and Richard Feynman, have made significant contributions to the development of the theory. Their work continues to inspire new generations of researchers and students. Recent news articles on quantum mechanics have highlighted advancements in quantum teleportation, quantum encryption, and the quest for a unified theory of quantum gravity.\n",
            "\n",
            "## Call to Action\n",
            "\n",
            "As we continue to unravel the mysteries of quantum mechanics, it is essential to stay informed and engage with the latest developments in the field. I encourage readers to explore further resources on quantum mechanics, including scientific journals, research institutions, and books on the subject. Join the conversation, share your thoughts, and be a part of the exciting journey into the fascinating world of quantum physics.\n",
            "\n",
            "In conclusion, quantum mechanics remains a captivating and ever-evolving field of study, with endless possibilities for discovery and innovation. By staying curious and informed, we can all contribute to the advancement of this groundbreaking theory and shape the future of science.\n",
            "\n",
            "Thank you for joining me on this exploration of quantum mechanics, and I look forward to continuing the conversation with you.\u001b[0m\n",
            "\n",
            "\u001b[1m> Finished chain.\u001b[0m\n",
            "\u001b[1m\u001b[92m [DEBUG]: == [Content Writer] Task output: # Unraveling the Mysteries of Quantum Mechanics\n",
            "\n",
            "## Introduction to Quantum Mechanics\n",
            "\n",
            "Quantum mechanics, a fundamental theory in physics, has revolutionized our understanding of the universe at its most fundamental levels. Developed in the early 20th century, this theory describes the behavior of particles at the atomic and subatomic levels, challenging our classical notions of reality. Quantum mechanics plays a crucial role in modern physics, with applications in areas such as quantum computing, cryptography, and information theory.\n",
            "\n",
            "## Latest Trends and Advancements\n",
            "\n",
            "Recent years have seen significant breakthroughs in quantum mechanics research, particularly in the fields of quantum computing, entanglement, and superposition. Quantum computing, in particular, holds the promise of exponentially faster computation and has the potential to revolutionize industries ranging from healthcare to finance. Entanglement, a phenomenon where particles become interconnected regardless of distance, continues to baffle scientists and push the boundaries of our understanding of the quantum world. Superposition, the concept that particles can exist in multiple states simultaneously, opens up possibilities for new technologies and innovations.\n",
            "\n",
            "## Key Players and Noteworthy News\n",
            "\n",
            "Prominent scientists in the field of quantum mechanics, such as Niels Bohr, Max Planck, and Richard Feynman, have made significant contributions to the development of the theory. Their work continues to inspire new generations of researchers and students. Recent news articles on quantum mechanics have highlighted advancements in quantum teleportation, quantum encryption, and the quest for a unified theory of quantum gravity.\n",
            "\n",
            "## Call to Action\n",
            "\n",
            "As we continue to unravel the mysteries of quantum mechanics, it is essential to stay informed and engage with the latest developments in the field. I encourage readers to explore further resources on quantum mechanics, including scientific journals, research institutions, and books on the subject. Join the conversation, share your thoughts, and be a part of the exciting journey into the fascinating world of quantum physics.\n",
            "\n",
            "In conclusion, quantum mechanics remains a captivating and ever-evolving field of study, with endless possibilities for discovery and innovation. By staying curious and informed, we can all contribute to the advancement of this groundbreaking theory and shape the future of science.\n",
            "\n",
            "Thank you for joining me on this exploration of quantum mechanics, and I look forward to continuing the conversation with you.\n",
            "\n",
            "\u001b[00m\n",
            "\u001b[1m\u001b[95m [DEBUG]: == Working Agent: Editor\u001b[00m\n",
            "\u001b[1m\u001b[95m [INFO]: == Starting Task: Proofread the given blog post for grammatical errors and alignment with the brand's voice.\u001b[00m\n",
            "\n",
            "\n",
            "\u001b[1m> Entering new CrewAgentExecutor chain...\u001b[0m\n",
            "\u001b[32;1m\u001b[1;3mI now can give a great answer\n",
            "\n",
            "Final Answer:\n",
            "# Unraveling the Mysteries of Quantum Mechanics\n",
            "\n",
            "## Introduction to Quantum Mechanics\n",
            "\n",
            "Quantum mechanics, a fundamental theory in physics, has revolutionized our understanding of the universe at its most fundamental levels. Developed in the early 20th century, this theory describes the behavior of particles at the atomic and subatomic levels, challenging our classical notions of reality. Quantum mechanics plays a crucial role in modern physics, with applications in areas such as quantum computing, cryptography, and information theory.\n",
            "\n",
            "Recent years have seen significant breakthroughs in quantum mechanics research, particularly in the fields of quantum computing, entanglement, and superposition. Quantum computing, in particular, holds the promise of exponentially faster computation and has the potential to revolutionize industries ranging from healthcare to finance. Entanglement, a phenomenon where particles become interconnected regardless of distance, continues to baffle scientists and push the boundaries of our understanding of the quantum world. Superposition, the concept that particles can exist in multiple states simultaneously, opens up possibilities for new technologies and innovations.\n",
            "\n",
            "## Key Players and Noteworthy News\n",
            "\n",
            "Prominent scientists in the field of quantum mechanics, such as Niels Bohr, Max Planck, and Richard Feynman, have made significant contributions to the development of the theory. Their work continues to inspire new generations of researchers and students. Recent news articles on quantum mechanics have highlighted advancements in quantum teleportation, quantum encryption, and the quest for a unified theory of quantum gravity.\n",
            "\n",
            "## Call to Action\n",
            "\n",
            "As we continue to unravel the mysteries of quantum mechanics, it is essential to stay informed and engage with the latest developments in the field. I encourage readers to explore further resources on quantum mechanics, including scientific journals, research institutions, and books on the subject. Join the conversation, share your thoughts, and be a part of the exciting journey into the fascinating world of quantum physics.\n",
            "\n",
            "In conclusion, quantum mechanics remains a captivating and ever-evolving field of study, with endless possibilities for discovery and innovation. By staying curious and informed, we can all contribute to the advancement of this groundbreaking theory and shape the future of science.\n",
            "\n",
            "Thank you for joining me on this exploration of quantum mechanics, and I look forward to continuing the conversation with you.\u001b[0m\n",
            "\n",
            "\u001b[1m> Finished chain.\u001b[0m\n",
            "\u001b[1m\u001b[92m [DEBUG]: == [Editor] Task output: # Unraveling the Mysteries of Quantum Mechanics\n",
            "\n",
            "## Introduction to Quantum Mechanics\n",
            "\n",
            "Quantum mechanics, a fundamental theory in physics, has revolutionized our understanding of the universe at its most fundamental levels. Developed in the early 20th century, this theory describes the behavior of particles at the atomic and subatomic levels, challenging our classical notions of reality. Quantum mechanics plays a crucial role in modern physics, with applications in areas such as quantum computing, cryptography, and information theory.\n",
            "\n",
            "Recent years have seen significant breakthroughs in quantum mechanics research, particularly in the fields of quantum computing, entanglement, and superposition. Quantum computing, in particular, holds the promise of exponentially faster computation and has the potential to revolutionize industries ranging from healthcare to finance. Entanglement, a phenomenon where particles become interconnected regardless of distance, continues to baffle scientists and push the boundaries of our understanding of the quantum world. Superposition, the concept that particles can exist in multiple states simultaneously, opens up possibilities for new technologies and innovations.\n",
            "\n",
            "## Key Players and Noteworthy News\n",
            "\n",
            "Prominent scientists in the field of quantum mechanics, such as Niels Bohr, Max Planck, and Richard Feynman, have made significant contributions to the development of the theory. Their work continues to inspire new generations of researchers and students. Recent news articles on quantum mechanics have highlighted advancements in quantum teleportation, quantum encryption, and the quest for a unified theory of quantum gravity.\n",
            "\n",
            "## Call to Action\n",
            "\n",
            "As we continue to unravel the mysteries of quantum mechanics, it is essential to stay informed and engage with the latest developments in the field. I encourage readers to explore further resources on quantum mechanics, including scientific journals, research institutions, and books on the subject. Join the conversation, share your thoughts, and be a part of the exciting journey into the fascinating world of quantum physics.\n",
            "\n",
            "In conclusion, quantum mechanics remains a captivating and ever-evolving field of study, with endless possibilities for discovery and innovation. By staying curious and informed, we can all contribute to the advancement of this groundbreaking theory and shape the future of science.\n",
            "\n",
            "Thank you for joining me on this exploration of quantum mechanics, and I look forward to continuing the conversation with you.\n",
            "\n",
            "\u001b[00m\n"
          ]
        }
      ],
      "source": [
        "topic = \"Quantum mechanics\"\n",
        "result = crew.kickoff(inputs={\"topic\": topic})"
      ]
    },
    {
      "cell_type": "code",
      "execution_count": 16,
      "metadata": {
        "height": 30,
        "colab": {
          "base_uri": "https://localhost:8080/",
          "height": 538
        },
        "id": "JglQHfbwNm_-",
        "outputId": "2cb9a674-1f8c-417d-f61d-07eebf818d29"
      },
      "outputs": [
        {
          "output_type": "execute_result",
          "data": {
            "text/plain": [
              "<IPython.core.display.Markdown object>"
            ],
            "text/markdown": "# Unraveling the Mysteries of Quantum Mechanics\n\n## Introduction to Quantum Mechanics\n\nQuantum mechanics, a fundamental theory in physics, has revolutionized our understanding of the universe at its most fundamental levels. Developed in the early 20th century, this theory describes the behavior of particles at the atomic and subatomic levels, challenging our classical notions of reality. Quantum mechanics plays a crucial role in modern physics, with applications in areas such as quantum computing, cryptography, and information theory.\n\nRecent years have seen significant breakthroughs in quantum mechanics research, particularly in the fields of quantum computing, entanglement, and superposition. Quantum computing, in particular, holds the promise of exponentially faster computation and has the potential to revolutionize industries ranging from healthcare to finance. Entanglement, a phenomenon where particles become interconnected regardless of distance, continues to baffle scientists and push the boundaries of our understanding of the quantum world. Superposition, the concept that particles can exist in multiple states simultaneously, opens up possibilities for new technologies and innovations.\n\n## Key Players and Noteworthy News\n\nProminent scientists in the field of quantum mechanics, such as Niels Bohr, Max Planck, and Richard Feynman, have made significant contributions to the development of the theory. Their work continues to inspire new generations of researchers and students. Recent news articles on quantum mechanics have highlighted advancements in quantum teleportation, quantum encryption, and the quest for a unified theory of quantum gravity.\n\n## Call to Action\n\nAs we continue to unravel the mysteries of quantum mechanics, it is essential to stay informed and engage with the latest developments in the field. I encourage readers to explore further resources on quantum mechanics, including scientific journals, research institutions, and books on the subject. Join the conversation, share your thoughts, and be a part of the exciting journey into the fascinating world of quantum physics.\n\nIn conclusion, quantum mechanics remains a captivating and ever-evolving field of study, with endless possibilities for discovery and innovation. By staying curious and informed, we can all contribute to the advancement of this groundbreaking theory and shape the future of science.\n\nThank you for joining me on this exploration of quantum mechanics, and I look forward to continuing the conversation with you."
          },
          "metadata": {},
          "execution_count": 16
        }
      ],
      "source": [
        "Markdown(result)"
      ]
    },
    {
      "cell_type": "markdown",
      "source": [
        "## Downloading the markdown file"
      ],
      "metadata": {
        "id": "3OaXvpEwfYSa"
      }
    },
    {
      "cell_type": "code",
      "source": [
        "# !pip install markdown"
      ],
      "metadata": {
        "id": "hXeMAlZ7lZ0P"
      },
      "execution_count": 17,
      "outputs": []
    },
    {
      "cell_type": "code",
      "source": [
        "import markdown"
      ],
      "metadata": {
        "id": "gd8ofr72loot"
      },
      "execution_count": 18,
      "outputs": []
    },
    {
      "cell_type": "code",
      "source": [
        "markdown_content = Markdown(result)\n",
        "file_name = \"quantum_mechanics.md\"\n",
        "\n",
        "with open(file_name, 'w', encoding='utf-8') as file:\n",
        "    file.write(str(markdown_content))\n"
      ],
      "metadata": {
        "id": "xeF3QSkOfeKI"
      },
      "execution_count": 19,
      "outputs": []
    },
    {
      "cell_type": "code",
      "source": [
        "with open(file_name, 'r') as file:\n",
        "    content = file.read()\n",
        "print(content)\n"
      ],
      "metadata": {
        "colab": {
          "base_uri": "https://localhost:8080/"
        },
        "id": "D4XZd5tXhqIy",
        "outputId": "72459cb6-e463-4e1f-9e87-671d482ab68e"
      },
      "execution_count": 20,
      "outputs": [
        {
          "output_type": "stream",
          "name": "stdout",
          "text": [
            "<IPython.core.display.Markdown object>\n"
          ]
        }
      ]
    },
    {
      "cell_type": "code",
      "source": [],
      "metadata": {
        "id": "_Z94pmNFhtv3"
      },
      "execution_count": 20,
      "outputs": []
    },
    {
      "cell_type": "markdown",
      "metadata": {
        "id": "6ku9yKlBNm_-"
      },
      "source": [
        "<a name='1'></a>\n",
        " ## Other Popular Models as LLM for your Agents"
      ]
    },
    {
      "cell_type": "markdown",
      "metadata": {
        "id": "h3WogkuUNm_-"
      },
      "source": [
        "#### Hugging Face (HuggingFaceHub endpoint)\n",
        "\n",
        "```Python\n",
        "from langchain_community.llms import HuggingFaceHub\n",
        "\n",
        "llm = HuggingFaceHub(\n",
        "    repo_id=\"HuggingFaceH4/zephyr-7b-beta\",\n",
        "    huggingfacehub_api_token=\"<HF_TOKEN_HERE>\",\n",
        "    task=\"text-generation\",\n",
        ")\n",
        "\n",
        "### you will pass \"llm\" to your agent function\n",
        "```"
      ]
    },
    {
      "cell_type": "markdown",
      "metadata": {
        "id": "jAy07MtnNm_-"
      },
      "source": [
        "#### Mistral API\n",
        "\n",
        "```Python\n",
        "OPENAI_API_KEY=your-mistral-api-key\n",
        "OPENAI_API_BASE=https://api.mistral.ai/v1\n",
        "OPENAI_MODEL_NAME=\"mistral-small\"\n",
        "```"
      ]
    },
    {
      "cell_type": "markdown",
      "metadata": {
        "id": "VKmk-CmNNm_-"
      },
      "source": [
        "#### Cohere\n",
        "\n",
        "```Python\n",
        "from langchain_community.chat_models import ChatCohere\n",
        "# Initialize language model\n",
        "os.environ[\"COHERE_API_KEY\"] = \"your-cohere-api-key\"\n",
        "llm = ChatCohere()\n",
        "\n",
        "### you will pass \"llm\" to your agent function\n",
        "```"
      ]
    },
    {
      "cell_type": "markdown",
      "metadata": {
        "id": "D0VPAqHoNm__"
      },
      "source": [
        "### For using Llama locally with Ollama and more, checkout the crewAI documentation on [Connecting to any LLM](https://docs.crewai.com/how-to/LLM-Connections/)."
      ]
    },
    {
      "cell_type": "code",
      "execution_count": 20,
      "metadata": {
        "height": 30,
        "id": "u9yFbF4TNm__"
      },
      "outputs": [],
      "source": []
    },
    {
      "cell_type": "markdown",
      "source": [
        "# Conclusion\n",
        "\n",
        "This notebook demonstrates how to automate content creation using a multi-agent system, providing a robust framework for generating high-quality written content on various topics."
      ],
      "metadata": {
        "id": "JGzWZPtJh2a9"
      }
    },
    {
      "cell_type": "code",
      "execution_count": 20,
      "metadata": {
        "height": 30,
        "id": "N8Qs0K_FNm__"
      },
      "outputs": [],
      "source": []
    },
    {
      "cell_type": "code",
      "execution_count": 20,
      "metadata": {
        "height": 30,
        "id": "PAuzhh5eNm__"
      },
      "outputs": [],
      "source": []
    }
  ],
  "metadata": {
    "colab": {
      "gpuType": "T4",
      "provenance": [],
      "toc_visible": true,
      "include_colab_link": true
    },
    "kernelspec": {
      "display_name": "Python 3 (ipykernel)",
      "language": "python",
      "name": "python3"
    },
    "language_info": {
      "codemirror_mode": {
        "name": "ipython",
        "version": 3
      },
      "file_extension": ".py",
      "mimetype": "text/x-python",
      "name": "python",
      "nbconvert_exporter": "python",
      "pygments_lexer": "ipython3",
      "version": "3.11.9"
    }
  },
  "nbformat": 4,
  "nbformat_minor": 0
}